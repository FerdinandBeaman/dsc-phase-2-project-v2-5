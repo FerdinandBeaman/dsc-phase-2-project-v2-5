{
 "cells": [
  {
   "cell_type": "markdown",
   "metadata": {},
   "source": [
    "### Ferdinand Beaman's Renovation Project <br>\n",
    "Part time<br>\n",
    "Scheduled project review date/time: Jul 14, 2023, 1:15pm <br>\n",
    "Instructor: Mark Barbour<br>\n",
    "Blog post URL: \n"
   ]
  },
  {
   "cell_type": "markdown",
   "metadata": {},
   "source": [
    "For this project, I am assessing the value of various homes in Seattle in an attempt to advise a renovation company what they should charge."
   ]
  },
  {
   "cell_type": "markdown",
   "metadata": {},
   "source": [
    "# Prepping the Data"
   ]
  },
  {
   "cell_type": "code",
   "execution_count": 100,
   "metadata": {
    "ExecuteTime": {
     "end_time": "2023-07-14T16:51:22.350798Z",
     "start_time": "2023-07-14T16:51:22.339893Z"
    }
   },
   "outputs": [],
   "source": [
    "#All the libraries I conceivably could use\n",
    "import pandas as pd\n",
    "import numpy as np\n",
    "from scipy import stats #(for ttests etc)\n",
    "import math\n",
    "import statsmodels.api as sm\n",
    "import statsmodels.formula.api as smf\n",
    "from statsmodels.formula.api import ols #(for anova)\n",
    "import seaborn as sns\n",
    "import matplotlib.pyplot as plt\n",
    "sns.set_style('darkgrid')\n",
    "%matplotlib inline\n",
    "import warnings\n",
    "warnings.filterwarnings(\"ignore\")"
   ]
  },
  {
   "cell_type": "code",
   "execution_count": 101,
   "metadata": {
    "ExecuteTime": {
     "end_time": "2023-07-14T16:51:22.457717Z",
     "start_time": "2023-07-14T16:51:22.354641Z"
    }
   },
   "outputs": [],
   "source": [
    "#Importing the data and dropping unnecessary columns\n",
    "base_df = pd.read_csv(\"data/kc_house_data.csv\")\n",
    "base_df.drop([\"view\", \"date\", \"sqft_above\", \"sqft_basement\", \"yr_renovated\", \n",
    "              \"address\",\"lat\", \"long\"], axis = 1, inplace = True)"
   ]
  },
  {
   "cell_type": "code",
   "execution_count": 102,
   "metadata": {
    "ExecuteTime": {
     "end_time": "2023-07-14T16:51:22.473683Z",
     "start_time": "2023-07-14T16:51:22.459268Z"
    }
   },
   "outputs": [
    {
     "data": {
      "text/html": [
       "<div>\n",
       "<style scoped>\n",
       "    .dataframe tbody tr th:only-of-type {\n",
       "        vertical-align: middle;\n",
       "    }\n",
       "\n",
       "    .dataframe tbody tr th {\n",
       "        vertical-align: top;\n",
       "    }\n",
       "\n",
       "    .dataframe thead th {\n",
       "        text-align: right;\n",
       "    }\n",
       "</style>\n",
       "<table border=\"1\" class=\"dataframe\">\n",
       "  <thead>\n",
       "    <tr style=\"text-align: right;\">\n",
       "      <th></th>\n",
       "      <th>id</th>\n",
       "      <th>price</th>\n",
       "      <th>bedrooms</th>\n",
       "      <th>bathrooms</th>\n",
       "      <th>sqft_living</th>\n",
       "      <th>sqft_lot</th>\n",
       "      <th>floors</th>\n",
       "      <th>waterfront</th>\n",
       "      <th>greenbelt</th>\n",
       "      <th>nuisance</th>\n",
       "      <th>condition</th>\n",
       "      <th>grade</th>\n",
       "      <th>heat_source</th>\n",
       "      <th>sewer_system</th>\n",
       "      <th>sqft_garage</th>\n",
       "      <th>sqft_patio</th>\n",
       "      <th>yr_built</th>\n",
       "    </tr>\n",
       "  </thead>\n",
       "  <tbody>\n",
       "    <tr>\n",
       "      <th>0</th>\n",
       "      <td>7399300360</td>\n",
       "      <td>675000.0</td>\n",
       "      <td>4</td>\n",
       "      <td>1.0</td>\n",
       "      <td>1180</td>\n",
       "      <td>7140</td>\n",
       "      <td>1.0</td>\n",
       "      <td>NO</td>\n",
       "      <td>NO</td>\n",
       "      <td>NO</td>\n",
       "      <td>Good</td>\n",
       "      <td>7 Average</td>\n",
       "      <td>Gas</td>\n",
       "      <td>PUBLIC</td>\n",
       "      <td>0</td>\n",
       "      <td>40</td>\n",
       "      <td>1969</td>\n",
       "    </tr>\n",
       "    <tr>\n",
       "      <th>1</th>\n",
       "      <td>8910500230</td>\n",
       "      <td>920000.0</td>\n",
       "      <td>5</td>\n",
       "      <td>2.5</td>\n",
       "      <td>2770</td>\n",
       "      <td>6703</td>\n",
       "      <td>1.0</td>\n",
       "      <td>NO</td>\n",
       "      <td>NO</td>\n",
       "      <td>YES</td>\n",
       "      <td>Average</td>\n",
       "      <td>7 Average</td>\n",
       "      <td>Oil</td>\n",
       "      <td>PUBLIC</td>\n",
       "      <td>0</td>\n",
       "      <td>240</td>\n",
       "      <td>1950</td>\n",
       "    </tr>\n",
       "    <tr>\n",
       "      <th>2</th>\n",
       "      <td>1180000275</td>\n",
       "      <td>311000.0</td>\n",
       "      <td>6</td>\n",
       "      <td>2.0</td>\n",
       "      <td>2880</td>\n",
       "      <td>6156</td>\n",
       "      <td>1.0</td>\n",
       "      <td>NO</td>\n",
       "      <td>NO</td>\n",
       "      <td>NO</td>\n",
       "      <td>Average</td>\n",
       "      <td>7 Average</td>\n",
       "      <td>Gas</td>\n",
       "      <td>PUBLIC</td>\n",
       "      <td>0</td>\n",
       "      <td>0</td>\n",
       "      <td>1956</td>\n",
       "    </tr>\n",
       "    <tr>\n",
       "      <th>3</th>\n",
       "      <td>1604601802</td>\n",
       "      <td>775000.0</td>\n",
       "      <td>3</td>\n",
       "      <td>3.0</td>\n",
       "      <td>2160</td>\n",
       "      <td>1400</td>\n",
       "      <td>2.0</td>\n",
       "      <td>NO</td>\n",
       "      <td>NO</td>\n",
       "      <td>NO</td>\n",
       "      <td>Average</td>\n",
       "      <td>9 Better</td>\n",
       "      <td>Gas</td>\n",
       "      <td>PUBLIC</td>\n",
       "      <td>200</td>\n",
       "      <td>270</td>\n",
       "      <td>2010</td>\n",
       "    </tr>\n",
       "    <tr>\n",
       "      <th>4</th>\n",
       "      <td>8562780790</td>\n",
       "      <td>592500.0</td>\n",
       "      <td>2</td>\n",
       "      <td>2.0</td>\n",
       "      <td>1120</td>\n",
       "      <td>758</td>\n",
       "      <td>2.0</td>\n",
       "      <td>NO</td>\n",
       "      <td>NO</td>\n",
       "      <td>YES</td>\n",
       "      <td>Average</td>\n",
       "      <td>7 Average</td>\n",
       "      <td>Electricity</td>\n",
       "      <td>PUBLIC</td>\n",
       "      <td>550</td>\n",
       "      <td>30</td>\n",
       "      <td>2012</td>\n",
       "    </tr>\n",
       "    <tr>\n",
       "      <th>...</th>\n",
       "      <td>...</td>\n",
       "      <td>...</td>\n",
       "      <td>...</td>\n",
       "      <td>...</td>\n",
       "      <td>...</td>\n",
       "      <td>...</td>\n",
       "      <td>...</td>\n",
       "      <td>...</td>\n",
       "      <td>...</td>\n",
       "      <td>...</td>\n",
       "      <td>...</td>\n",
       "      <td>...</td>\n",
       "      <td>...</td>\n",
       "      <td>...</td>\n",
       "      <td>...</td>\n",
       "      <td>...</td>\n",
       "      <td>...</td>\n",
       "    </tr>\n",
       "    <tr>\n",
       "      <th>30150</th>\n",
       "      <td>7834800180</td>\n",
       "      <td>1555000.0</td>\n",
       "      <td>5</td>\n",
       "      <td>2.0</td>\n",
       "      <td>1910</td>\n",
       "      <td>4000</td>\n",
       "      <td>1.5</td>\n",
       "      <td>NO</td>\n",
       "      <td>NO</td>\n",
       "      <td>NO</td>\n",
       "      <td>Good</td>\n",
       "      <td>8 Good</td>\n",
       "      <td>Oil</td>\n",
       "      <td>PUBLIC</td>\n",
       "      <td>0</td>\n",
       "      <td>210</td>\n",
       "      <td>1921</td>\n",
       "    </tr>\n",
       "    <tr>\n",
       "      <th>30151</th>\n",
       "      <td>194000695</td>\n",
       "      <td>1313000.0</td>\n",
       "      <td>3</td>\n",
       "      <td>2.0</td>\n",
       "      <td>2020</td>\n",
       "      <td>5800</td>\n",
       "      <td>2.0</td>\n",
       "      <td>NO</td>\n",
       "      <td>NO</td>\n",
       "      <td>NO</td>\n",
       "      <td>Average</td>\n",
       "      <td>7 Average</td>\n",
       "      <td>Gas</td>\n",
       "      <td>PUBLIC</td>\n",
       "      <td>0</td>\n",
       "      <td>520</td>\n",
       "      <td>2011</td>\n",
       "    </tr>\n",
       "    <tr>\n",
       "      <th>30152</th>\n",
       "      <td>7960100080</td>\n",
       "      <td>800000.0</td>\n",
       "      <td>3</td>\n",
       "      <td>2.0</td>\n",
       "      <td>1620</td>\n",
       "      <td>3600</td>\n",
       "      <td>1.0</td>\n",
       "      <td>NO</td>\n",
       "      <td>NO</td>\n",
       "      <td>YES</td>\n",
       "      <td>Average</td>\n",
       "      <td>7 Average</td>\n",
       "      <td>Gas</td>\n",
       "      <td>PUBLIC</td>\n",
       "      <td>240</td>\n",
       "      <td>110</td>\n",
       "      <td>1995</td>\n",
       "    </tr>\n",
       "    <tr>\n",
       "      <th>30153</th>\n",
       "      <td>2781280080</td>\n",
       "      <td>775000.0</td>\n",
       "      <td>3</td>\n",
       "      <td>2.5</td>\n",
       "      <td>2570</td>\n",
       "      <td>2889</td>\n",
       "      <td>2.0</td>\n",
       "      <td>NO</td>\n",
       "      <td>NO</td>\n",
       "      <td>NO</td>\n",
       "      <td>Average</td>\n",
       "      <td>8 Good</td>\n",
       "      <td>Gas</td>\n",
       "      <td>PUBLIC</td>\n",
       "      <td>480</td>\n",
       "      <td>100</td>\n",
       "      <td>2006</td>\n",
       "    </tr>\n",
       "    <tr>\n",
       "      <th>30154</th>\n",
       "      <td>9557800100</td>\n",
       "      <td>500000.0</td>\n",
       "      <td>3</td>\n",
       "      <td>1.5</td>\n",
       "      <td>1200</td>\n",
       "      <td>11058</td>\n",
       "      <td>1.0</td>\n",
       "      <td>NO</td>\n",
       "      <td>NO</td>\n",
       "      <td>NO</td>\n",
       "      <td>Average</td>\n",
       "      <td>7 Average</td>\n",
       "      <td>Oil</td>\n",
       "      <td>PUBLIC</td>\n",
       "      <td>420</td>\n",
       "      <td>0</td>\n",
       "      <td>1965</td>\n",
       "    </tr>\n",
       "  </tbody>\n",
       "</table>\n",
       "<p>30155 rows × 17 columns</p>\n",
       "</div>"
      ],
      "text/plain": [
       "               id      price  bedrooms  bathrooms  sqft_living  sqft_lot  \\\n",
       "0      7399300360   675000.0         4        1.0         1180      7140   \n",
       "1      8910500230   920000.0         5        2.5         2770      6703   \n",
       "2      1180000275   311000.0         6        2.0         2880      6156   \n",
       "3      1604601802   775000.0         3        3.0         2160      1400   \n",
       "4      8562780790   592500.0         2        2.0         1120       758   \n",
       "...           ...        ...       ...        ...          ...       ...   \n",
       "30150  7834800180  1555000.0         5        2.0         1910      4000   \n",
       "30151   194000695  1313000.0         3        2.0         2020      5800   \n",
       "30152  7960100080   800000.0         3        2.0         1620      3600   \n",
       "30153  2781280080   775000.0         3        2.5         2570      2889   \n",
       "30154  9557800100   500000.0         3        1.5         1200     11058   \n",
       "\n",
       "       floors waterfront greenbelt nuisance condition      grade  heat_source  \\\n",
       "0         1.0         NO        NO       NO      Good  7 Average          Gas   \n",
       "1         1.0         NO        NO      YES   Average  7 Average          Oil   \n",
       "2         1.0         NO        NO       NO   Average  7 Average          Gas   \n",
       "3         2.0         NO        NO       NO   Average   9 Better          Gas   \n",
       "4         2.0         NO        NO      YES   Average  7 Average  Electricity   \n",
       "...       ...        ...       ...      ...       ...        ...          ...   \n",
       "30150     1.5         NO        NO       NO      Good     8 Good          Oil   \n",
       "30151     2.0         NO        NO       NO   Average  7 Average          Gas   \n",
       "30152     1.0         NO        NO      YES   Average  7 Average          Gas   \n",
       "30153     2.0         NO        NO       NO   Average     8 Good          Gas   \n",
       "30154     1.0         NO        NO       NO   Average  7 Average          Oil   \n",
       "\n",
       "      sewer_system  sqft_garage  sqft_patio  yr_built  \n",
       "0           PUBLIC            0          40      1969  \n",
       "1           PUBLIC            0         240      1950  \n",
       "2           PUBLIC            0           0      1956  \n",
       "3           PUBLIC          200         270      2010  \n",
       "4           PUBLIC          550          30      2012  \n",
       "...            ...          ...         ...       ...  \n",
       "30150       PUBLIC            0         210      1921  \n",
       "30151       PUBLIC            0         520      2011  \n",
       "30152       PUBLIC          240         110      1995  \n",
       "30153       PUBLIC          480         100      2006  \n",
       "30154       PUBLIC          420           0      1965  \n",
       "\n",
       "[30155 rows x 17 columns]"
      ]
     },
     "execution_count": 102,
     "metadata": {},
     "output_type": "execute_result"
    }
   ],
   "source": [
    "base_df"
   ]
  },
  {
   "cell_type": "markdown",
   "metadata": {},
   "source": [
    "## Exploration Phase"
   ]
  },
  {
   "cell_type": "markdown",
   "metadata": {},
   "source": [
    "First on my agenda: looking at the categorical data."
   ]
  },
  {
   "cell_type": "code",
   "execution_count": 103,
   "metadata": {
    "ExecuteTime": {
     "end_time": "2023-07-14T16:51:22.488249Z",
     "start_time": "2023-07-14T16:51:22.475310Z"
    },
    "scrolled": true
   },
   "outputs": [
    {
     "name": "stdout",
     "output_type": "stream",
     "text": [
      "<class 'pandas.core.frame.DataFrame'>\n",
      "RangeIndex: 30155 entries, 0 to 30154\n",
      "Data columns (total 17 columns):\n",
      " #   Column        Non-Null Count  Dtype  \n",
      "---  ------        --------------  -----  \n",
      " 0   id            30155 non-null  int64  \n",
      " 1   price         30155 non-null  float64\n",
      " 2   bedrooms      30155 non-null  int64  \n",
      " 3   bathrooms     30155 non-null  float64\n",
      " 4   sqft_living   30155 non-null  int64  \n",
      " 5   sqft_lot      30155 non-null  int64  \n",
      " 6   floors        30155 non-null  float64\n",
      " 7   waterfront    30155 non-null  object \n",
      " 8   greenbelt     30155 non-null  object \n",
      " 9   nuisance      30155 non-null  object \n",
      " 10  condition     30155 non-null  object \n",
      " 11  grade         30155 non-null  object \n",
      " 12  heat_source   30123 non-null  object \n",
      " 13  sewer_system  30141 non-null  object \n",
      " 14  sqft_garage   30155 non-null  int64  \n",
      " 15  sqft_patio    30155 non-null  int64  \n",
      " 16  yr_built      30155 non-null  int64  \n",
      "dtypes: float64(3), int64(7), object(7)\n",
      "memory usage: 3.9+ MB\n"
     ]
    }
   ],
   "source": [
    "base_df.info()"
   ]
  },
  {
   "cell_type": "code",
   "execution_count": 104,
   "metadata": {
    "ExecuteTime": {
     "end_time": "2023-07-14T16:51:22.495184Z",
     "start_time": "2023-07-14T16:51:22.489548Z"
    }
   },
   "outputs": [
    {
     "data": {
      "text/plain": [
       "Gas                  20583\n",
       "Electricity           6465\n",
       "Oil                   2899\n",
       "Gas/Solar               93\n",
       "Electricity/Solar       59\n",
       "Other                   20\n",
       "Oil/Solar                4\n",
       "Name: heat_source, dtype: int64"
      ]
     },
     "execution_count": 104,
     "metadata": {},
     "output_type": "execute_result"
    }
   ],
   "source": [
    "base_df.heat_source.value_counts()"
   ]
  },
  {
   "cell_type": "code",
   "execution_count": 105,
   "metadata": {
    "ExecuteTime": {
     "end_time": "2023-07-14T16:51:22.501782Z",
     "start_time": "2023-07-14T16:51:22.496009Z"
    }
   },
   "outputs": [
    {
     "data": {
      "text/plain": [
       "7 Average        11697\n",
       "8 Good            9410\n",
       "9 Better          3806\n",
       "6 Low Average     2858\n",
       "10 Very Good      1371\n",
       "11 Excellent       406\n",
       "5 Fair             393\n",
       "12 Luxury          122\n",
       "4 Low               51\n",
       "13 Mansion          24\n",
       "3 Poor              13\n",
       "2 Substandard        2\n",
       "1 Cabin              2\n",
       "Name: grade, dtype: int64"
      ]
     },
     "execution_count": 105,
     "metadata": {},
     "output_type": "execute_result"
    }
   ],
   "source": [
    "base_df.grade.value_counts()"
   ]
  },
  {
   "cell_type": "code",
   "execution_count": 106,
   "metadata": {
    "ExecuteTime": {
     "end_time": "2023-07-14T16:51:22.507982Z",
     "start_time": "2023-07-14T16:51:22.502665Z"
    }
   },
   "outputs": [
    {
     "data": {
      "text/plain": [
       "Average      18547\n",
       "Good          8054\n",
       "Very Good     3259\n",
       "Fair           230\n",
       "Poor            65\n",
       "Name: condition, dtype: int64"
      ]
     },
     "execution_count": 106,
     "metadata": {},
     "output_type": "execute_result"
    }
   ],
   "source": [
    "base_df.condition.value_counts()"
   ]
  },
  {
   "cell_type": "code",
   "execution_count": 107,
   "metadata": {
    "ExecuteTime": {
     "end_time": "2023-07-14T16:51:22.515320Z",
     "start_time": "2023-07-14T16:51:22.510135Z"
    },
    "scrolled": true
   },
   "outputs": [
    {
     "data": {
      "text/plain": [
       "PUBLIC                25777\n",
       "PRIVATE                4355\n",
       "PRIVATE RESTRICTED        6\n",
       "PUBLIC RESTRICTED         3\n",
       "Name: sewer_system, dtype: int64"
      ]
     },
     "execution_count": 107,
     "metadata": {},
     "output_type": "execute_result"
    }
   ],
   "source": [
    "base_df.sewer_system.value_counts()"
   ]
  },
  {
   "cell_type": "markdown",
   "metadata": {},
   "source": [
    "## Cleaning the data"
   ]
  },
  {
   "cell_type": "code",
   "execution_count": 108,
   "metadata": {
    "ExecuteTime": {
     "end_time": "2023-07-14T16:51:22.535318Z",
     "start_time": "2023-07-14T16:51:22.516796Z"
    }
   },
   "outputs": [],
   "source": [
    "# Changing the \"grade\" to a number\n",
    "base_df.grade = pd.to_numeric(base_df.grade.str.slice(stop=1))"
   ]
  },
  {
   "cell_type": "code",
   "execution_count": 109,
   "metadata": {
    "ExecuteTime": {
     "end_time": "2023-07-14T16:51:22.551091Z",
     "start_time": "2023-07-14T16:51:22.536355Z"
    }
   },
   "outputs": [],
   "source": [
    "# Changing the \"condition\" to a number\n",
    "condition_dict = {\"Poor\":0, \"Fair\":1, \"Average\":2, \"Good\":3, \"Very Good\": 4}\n",
    "base_df.replace({\"condition\":condition_dict}, inplace = True)"
   ]
  },
  {
   "cell_type": "code",
   "execution_count": 110,
   "metadata": {
    "ExecuteTime": {
     "end_time": "2023-07-14T16:51:22.594372Z",
     "start_time": "2023-07-14T16:51:22.552047Z"
    }
   },
   "outputs": [
    {
     "data": {
      "text/html": [
       "<div>\n",
       "<style scoped>\n",
       "    .dataframe tbody tr th:only-of-type {\n",
       "        vertical-align: middle;\n",
       "    }\n",
       "\n",
       "    .dataframe tbody tr th {\n",
       "        vertical-align: top;\n",
       "    }\n",
       "\n",
       "    .dataframe thead th {\n",
       "        text-align: right;\n",
       "    }\n",
       "</style>\n",
       "<table border=\"1\" class=\"dataframe\">\n",
       "  <thead>\n",
       "    <tr style=\"text-align: right;\">\n",
       "      <th></th>\n",
       "      <th>id</th>\n",
       "      <th>price</th>\n",
       "      <th>bedrooms</th>\n",
       "      <th>bathrooms</th>\n",
       "      <th>sqft_living</th>\n",
       "      <th>sqft_lot</th>\n",
       "      <th>floors</th>\n",
       "      <th>waterfront</th>\n",
       "      <th>greenbelt</th>\n",
       "      <th>nuisance</th>\n",
       "      <th>condition</th>\n",
       "      <th>grade</th>\n",
       "      <th>heat_source</th>\n",
       "      <th>sewer_system</th>\n",
       "      <th>sqft_garage</th>\n",
       "      <th>sqft_patio</th>\n",
       "      <th>yr_built</th>\n",
       "    </tr>\n",
       "  </thead>\n",
       "  <tbody>\n",
       "    <tr>\n",
       "      <th>0</th>\n",
       "      <td>7399300360</td>\n",
       "      <td>675000.0</td>\n",
       "      <td>4</td>\n",
       "      <td>1.0</td>\n",
       "      <td>1180</td>\n",
       "      <td>7140</td>\n",
       "      <td>1.0</td>\n",
       "      <td>0</td>\n",
       "      <td>0</td>\n",
       "      <td>0</td>\n",
       "      <td>3</td>\n",
       "      <td>7</td>\n",
       "      <td>Gas</td>\n",
       "      <td>PUBLIC</td>\n",
       "      <td>0</td>\n",
       "      <td>40</td>\n",
       "      <td>1969</td>\n",
       "    </tr>\n",
       "    <tr>\n",
       "      <th>1</th>\n",
       "      <td>8910500230</td>\n",
       "      <td>920000.0</td>\n",
       "      <td>5</td>\n",
       "      <td>2.5</td>\n",
       "      <td>2770</td>\n",
       "      <td>6703</td>\n",
       "      <td>1.0</td>\n",
       "      <td>0</td>\n",
       "      <td>0</td>\n",
       "      <td>1</td>\n",
       "      <td>2</td>\n",
       "      <td>7</td>\n",
       "      <td>Oil</td>\n",
       "      <td>PUBLIC</td>\n",
       "      <td>0</td>\n",
       "      <td>240</td>\n",
       "      <td>1950</td>\n",
       "    </tr>\n",
       "    <tr>\n",
       "      <th>2</th>\n",
       "      <td>1180000275</td>\n",
       "      <td>311000.0</td>\n",
       "      <td>6</td>\n",
       "      <td>2.0</td>\n",
       "      <td>2880</td>\n",
       "      <td>6156</td>\n",
       "      <td>1.0</td>\n",
       "      <td>0</td>\n",
       "      <td>0</td>\n",
       "      <td>0</td>\n",
       "      <td>2</td>\n",
       "      <td>7</td>\n",
       "      <td>Gas</td>\n",
       "      <td>PUBLIC</td>\n",
       "      <td>0</td>\n",
       "      <td>0</td>\n",
       "      <td>1956</td>\n",
       "    </tr>\n",
       "    <tr>\n",
       "      <th>3</th>\n",
       "      <td>1604601802</td>\n",
       "      <td>775000.0</td>\n",
       "      <td>3</td>\n",
       "      <td>3.0</td>\n",
       "      <td>2160</td>\n",
       "      <td>1400</td>\n",
       "      <td>2.0</td>\n",
       "      <td>0</td>\n",
       "      <td>0</td>\n",
       "      <td>0</td>\n",
       "      <td>2</td>\n",
       "      <td>9</td>\n",
       "      <td>Gas</td>\n",
       "      <td>PUBLIC</td>\n",
       "      <td>200</td>\n",
       "      <td>270</td>\n",
       "      <td>2010</td>\n",
       "    </tr>\n",
       "    <tr>\n",
       "      <th>4</th>\n",
       "      <td>8562780790</td>\n",
       "      <td>592500.0</td>\n",
       "      <td>2</td>\n",
       "      <td>2.0</td>\n",
       "      <td>1120</td>\n",
       "      <td>758</td>\n",
       "      <td>2.0</td>\n",
       "      <td>0</td>\n",
       "      <td>0</td>\n",
       "      <td>1</td>\n",
       "      <td>2</td>\n",
       "      <td>7</td>\n",
       "      <td>Electricity</td>\n",
       "      <td>PUBLIC</td>\n",
       "      <td>550</td>\n",
       "      <td>30</td>\n",
       "      <td>2012</td>\n",
       "    </tr>\n",
       "    <tr>\n",
       "      <th>...</th>\n",
       "      <td>...</td>\n",
       "      <td>...</td>\n",
       "      <td>...</td>\n",
       "      <td>...</td>\n",
       "      <td>...</td>\n",
       "      <td>...</td>\n",
       "      <td>...</td>\n",
       "      <td>...</td>\n",
       "      <td>...</td>\n",
       "      <td>...</td>\n",
       "      <td>...</td>\n",
       "      <td>...</td>\n",
       "      <td>...</td>\n",
       "      <td>...</td>\n",
       "      <td>...</td>\n",
       "      <td>...</td>\n",
       "      <td>...</td>\n",
       "    </tr>\n",
       "    <tr>\n",
       "      <th>30150</th>\n",
       "      <td>7834800180</td>\n",
       "      <td>1555000.0</td>\n",
       "      <td>5</td>\n",
       "      <td>2.0</td>\n",
       "      <td>1910</td>\n",
       "      <td>4000</td>\n",
       "      <td>1.5</td>\n",
       "      <td>0</td>\n",
       "      <td>0</td>\n",
       "      <td>0</td>\n",
       "      <td>3</td>\n",
       "      <td>8</td>\n",
       "      <td>Oil</td>\n",
       "      <td>PUBLIC</td>\n",
       "      <td>0</td>\n",
       "      <td>210</td>\n",
       "      <td>1921</td>\n",
       "    </tr>\n",
       "    <tr>\n",
       "      <th>30151</th>\n",
       "      <td>194000695</td>\n",
       "      <td>1313000.0</td>\n",
       "      <td>3</td>\n",
       "      <td>2.0</td>\n",
       "      <td>2020</td>\n",
       "      <td>5800</td>\n",
       "      <td>2.0</td>\n",
       "      <td>0</td>\n",
       "      <td>0</td>\n",
       "      <td>0</td>\n",
       "      <td>2</td>\n",
       "      <td>7</td>\n",
       "      <td>Gas</td>\n",
       "      <td>PUBLIC</td>\n",
       "      <td>0</td>\n",
       "      <td>520</td>\n",
       "      <td>2011</td>\n",
       "    </tr>\n",
       "    <tr>\n",
       "      <th>30152</th>\n",
       "      <td>7960100080</td>\n",
       "      <td>800000.0</td>\n",
       "      <td>3</td>\n",
       "      <td>2.0</td>\n",
       "      <td>1620</td>\n",
       "      <td>3600</td>\n",
       "      <td>1.0</td>\n",
       "      <td>0</td>\n",
       "      <td>0</td>\n",
       "      <td>1</td>\n",
       "      <td>2</td>\n",
       "      <td>7</td>\n",
       "      <td>Gas</td>\n",
       "      <td>PUBLIC</td>\n",
       "      <td>240</td>\n",
       "      <td>110</td>\n",
       "      <td>1995</td>\n",
       "    </tr>\n",
       "    <tr>\n",
       "      <th>30153</th>\n",
       "      <td>2781280080</td>\n",
       "      <td>775000.0</td>\n",
       "      <td>3</td>\n",
       "      <td>2.5</td>\n",
       "      <td>2570</td>\n",
       "      <td>2889</td>\n",
       "      <td>2.0</td>\n",
       "      <td>0</td>\n",
       "      <td>0</td>\n",
       "      <td>0</td>\n",
       "      <td>2</td>\n",
       "      <td>8</td>\n",
       "      <td>Gas</td>\n",
       "      <td>PUBLIC</td>\n",
       "      <td>480</td>\n",
       "      <td>100</td>\n",
       "      <td>2006</td>\n",
       "    </tr>\n",
       "    <tr>\n",
       "      <th>30154</th>\n",
       "      <td>9557800100</td>\n",
       "      <td>500000.0</td>\n",
       "      <td>3</td>\n",
       "      <td>1.5</td>\n",
       "      <td>1200</td>\n",
       "      <td>11058</td>\n",
       "      <td>1.0</td>\n",
       "      <td>0</td>\n",
       "      <td>0</td>\n",
       "      <td>0</td>\n",
       "      <td>2</td>\n",
       "      <td>7</td>\n",
       "      <td>Oil</td>\n",
       "      <td>PUBLIC</td>\n",
       "      <td>420</td>\n",
       "      <td>0</td>\n",
       "      <td>1965</td>\n",
       "    </tr>\n",
       "  </tbody>\n",
       "</table>\n",
       "<p>30155 rows × 17 columns</p>\n",
       "</div>"
      ],
      "text/plain": [
       "               id      price  bedrooms  bathrooms  sqft_living  sqft_lot  \\\n",
       "0      7399300360   675000.0         4        1.0         1180      7140   \n",
       "1      8910500230   920000.0         5        2.5         2770      6703   \n",
       "2      1180000275   311000.0         6        2.0         2880      6156   \n",
       "3      1604601802   775000.0         3        3.0         2160      1400   \n",
       "4      8562780790   592500.0         2        2.0         1120       758   \n",
       "...           ...        ...       ...        ...          ...       ...   \n",
       "30150  7834800180  1555000.0         5        2.0         1910      4000   \n",
       "30151   194000695  1313000.0         3        2.0         2020      5800   \n",
       "30152  7960100080   800000.0         3        2.0         1620      3600   \n",
       "30153  2781280080   775000.0         3        2.5         2570      2889   \n",
       "30154  9557800100   500000.0         3        1.5         1200     11058   \n",
       "\n",
       "       floors  waterfront  greenbelt  nuisance  condition  grade  heat_source  \\\n",
       "0         1.0           0          0         0          3      7          Gas   \n",
       "1         1.0           0          0         1          2      7          Oil   \n",
       "2         1.0           0          0         0          2      7          Gas   \n",
       "3         2.0           0          0         0          2      9          Gas   \n",
       "4         2.0           0          0         1          2      7  Electricity   \n",
       "...       ...         ...        ...       ...        ...    ...          ...   \n",
       "30150     1.5           0          0         0          3      8          Oil   \n",
       "30151     2.0           0          0         0          2      7          Gas   \n",
       "30152     1.0           0          0         1          2      7          Gas   \n",
       "30153     2.0           0          0         0          2      8          Gas   \n",
       "30154     1.0           0          0         0          2      7          Oil   \n",
       "\n",
       "      sewer_system  sqft_garage  sqft_patio  yr_built  \n",
       "0           PUBLIC            0          40      1969  \n",
       "1           PUBLIC            0         240      1950  \n",
       "2           PUBLIC            0           0      1956  \n",
       "3           PUBLIC          200         270      2010  \n",
       "4           PUBLIC          550          30      2012  \n",
       "...            ...          ...         ...       ...  \n",
       "30150       PUBLIC            0         210      1921  \n",
       "30151       PUBLIC            0         520      2011  \n",
       "30152       PUBLIC          240         110      1995  \n",
       "30153       PUBLIC          480         100      2006  \n",
       "30154       PUBLIC          420           0      1965  \n",
       "\n",
       "[30155 rows x 17 columns]"
      ]
     },
     "execution_count": 110,
     "metadata": {},
     "output_type": "execute_result"
    }
   ],
   "source": [
    "# Changing the three yes/no categories into 1/0\n",
    "binary_dict = {\"YES\":1, \"NO\":0}\n",
    "base_df.replace({\"nuisance\":binary_dict}, inplace = True)\n",
    "base_df.replace({\"greenbelt\":binary_dict}, inplace = True)\n",
    "base_df.replace({\"waterfront\":binary_dict}, inplace = True)\n",
    "base_df"
   ]
  },
  {
   "cell_type": "code",
   "execution_count": 111,
   "metadata": {
    "ExecuteTime": {
     "end_time": "2023-07-14T16:51:22.601208Z",
     "start_time": "2023-07-14T16:51:22.595373Z"
    }
   },
   "outputs": [
    {
     "data": {
      "text/plain": [
       "id               0\n",
       "price            0\n",
       "bedrooms         0\n",
       "bathrooms        0\n",
       "sqft_living      0\n",
       "sqft_lot         0\n",
       "floors           0\n",
       "waterfront       0\n",
       "greenbelt        0\n",
       "nuisance         0\n",
       "condition        0\n",
       "grade            0\n",
       "heat_source     32\n",
       "sewer_system    14\n",
       "sqft_garage      0\n",
       "sqft_patio       0\n",
       "yr_built         0\n",
       "dtype: int64"
      ]
     },
     "execution_count": 111,
     "metadata": {},
     "output_type": "execute_result"
    }
   ],
   "source": [
    "#deleting rows with nans\n",
    "nan_count = base_df.isna().sum()\n",
    "nan_count"
   ]
  },
  {
   "cell_type": "code",
   "execution_count": 112,
   "metadata": {
    "ExecuteTime": {
     "end_time": "2023-07-14T16:51:22.611632Z",
     "start_time": "2023-07-14T16:51:22.602154Z"
    }
   },
   "outputs": [],
   "source": [
    "base_df.dropna(axis=0, subset=[\"sewer_system\", \"heat_source\"], inplace=True)"
   ]
  },
  {
   "cell_type": "code",
   "execution_count": 113,
   "metadata": {
    "ExecuteTime": {
     "end_time": "2023-07-14T16:51:22.625738Z",
     "start_time": "2023-07-14T16:51:22.612600Z"
    },
    "scrolled": true
   },
   "outputs": [],
   "source": [
    "#One-hot encoding the categorical data columns\n",
    "df = pd.get_dummies(base_df, columns=[\"heat_source\", \"sewer_system\"], drop_first=True)\n",
    "df.drop(\"id\", axis = 1, inplace = True)\n",
    "df.reset_index(inplace=True)"
   ]
  },
  {
   "cell_type": "code",
   "execution_count": 114,
   "metadata": {
    "ExecuteTime": {
     "end_time": "2023-07-14T16:51:22.632972Z",
     "start_time": "2023-07-14T16:51:22.626834Z"
    },
    "scrolled": true
   },
   "outputs": [
    {
     "data": {
      "text/plain": [
       "count    3.011100e+04\n",
       "mean     1.108971e+06\n",
       "std      8.965158e+05\n",
       "min      2.736000e+04\n",
       "25%      6.492360e+05\n",
       "50%      8.600000e+05\n",
       "75%      1.300000e+06\n",
       "max      3.075000e+07\n",
       "Name: price, dtype: float64"
      ]
     },
     "execution_count": 114,
     "metadata": {},
     "output_type": "execute_result"
    }
   ],
   "source": [
    "# Identifying the outliers for removal\n",
    "df.price.describe()"
   ]
  },
  {
   "cell_type": "code",
   "execution_count": 115,
   "metadata": {
    "ExecuteTime": {
     "end_time": "2023-07-14T16:51:22.636052Z",
     "start_time": "2023-07-14T16:51:22.633927Z"
    }
   },
   "outputs": [
    {
     "data": {
      "text/plain": [
       "650764"
      ]
     },
     "execution_count": 115,
     "metadata": {},
     "output_type": "execute_result"
    }
   ],
   "source": [
    "#Q3 - Q1\n",
    "1300000 - 649236"
   ]
  },
  {
   "cell_type": "code",
   "execution_count": 116,
   "metadata": {
    "ExecuteTime": {
     "end_time": "2023-07-14T16:51:22.656273Z",
     "start_time": "2023-07-14T16:51:22.637005Z"
    }
   },
   "outputs": [
    {
     "data": {
      "text/html": [
       "<div>\n",
       "<style scoped>\n",
       "    .dataframe tbody tr th:only-of-type {\n",
       "        vertical-align: middle;\n",
       "    }\n",
       "\n",
       "    .dataframe tbody tr th {\n",
       "        vertical-align: top;\n",
       "    }\n",
       "\n",
       "    .dataframe thead th {\n",
       "        text-align: right;\n",
       "    }\n",
       "</style>\n",
       "<table border=\"1\" class=\"dataframe\">\n",
       "  <thead>\n",
       "    <tr style=\"text-align: right;\">\n",
       "      <th></th>\n",
       "      <th>index</th>\n",
       "      <th>price</th>\n",
       "      <th>bedrooms</th>\n",
       "      <th>bathrooms</th>\n",
       "      <th>sqft_living</th>\n",
       "      <th>sqft_lot</th>\n",
       "      <th>floors</th>\n",
       "      <th>waterfront</th>\n",
       "      <th>greenbelt</th>\n",
       "      <th>nuisance</th>\n",
       "      <th>...</th>\n",
       "      <th>yr_built</th>\n",
       "      <th>heat_source_Electricity/Solar</th>\n",
       "      <th>heat_source_Gas</th>\n",
       "      <th>heat_source_Gas/Solar</th>\n",
       "      <th>heat_source_Oil</th>\n",
       "      <th>heat_source_Oil/Solar</th>\n",
       "      <th>heat_source_Other</th>\n",
       "      <th>sewer_system_PRIVATE RESTRICTED</th>\n",
       "      <th>sewer_system_PUBLIC</th>\n",
       "      <th>sewer_system_PUBLIC RESTRICTED</th>\n",
       "    </tr>\n",
       "  </thead>\n",
       "  <tbody>\n",
       "    <tr>\n",
       "      <th>0</th>\n",
       "      <td>0</td>\n",
       "      <td>675000.0</td>\n",
       "      <td>4</td>\n",
       "      <td>1.0</td>\n",
       "      <td>1180</td>\n",
       "      <td>7140</td>\n",
       "      <td>1.0</td>\n",
       "      <td>0</td>\n",
       "      <td>0</td>\n",
       "      <td>0</td>\n",
       "      <td>...</td>\n",
       "      <td>1969</td>\n",
       "      <td>0</td>\n",
       "      <td>1</td>\n",
       "      <td>0</td>\n",
       "      <td>0</td>\n",
       "      <td>0</td>\n",
       "      <td>0</td>\n",
       "      <td>0</td>\n",
       "      <td>1</td>\n",
       "      <td>0</td>\n",
       "    </tr>\n",
       "    <tr>\n",
       "      <th>1</th>\n",
       "      <td>1</td>\n",
       "      <td>920000.0</td>\n",
       "      <td>5</td>\n",
       "      <td>2.5</td>\n",
       "      <td>2770</td>\n",
       "      <td>6703</td>\n",
       "      <td>1.0</td>\n",
       "      <td>0</td>\n",
       "      <td>0</td>\n",
       "      <td>1</td>\n",
       "      <td>...</td>\n",
       "      <td>1950</td>\n",
       "      <td>0</td>\n",
       "      <td>0</td>\n",
       "      <td>0</td>\n",
       "      <td>1</td>\n",
       "      <td>0</td>\n",
       "      <td>0</td>\n",
       "      <td>0</td>\n",
       "      <td>1</td>\n",
       "      <td>0</td>\n",
       "    </tr>\n",
       "    <tr>\n",
       "      <th>2</th>\n",
       "      <td>2</td>\n",
       "      <td>311000.0</td>\n",
       "      <td>6</td>\n",
       "      <td>2.0</td>\n",
       "      <td>2880</td>\n",
       "      <td>6156</td>\n",
       "      <td>1.0</td>\n",
       "      <td>0</td>\n",
       "      <td>0</td>\n",
       "      <td>0</td>\n",
       "      <td>...</td>\n",
       "      <td>1956</td>\n",
       "      <td>0</td>\n",
       "      <td>1</td>\n",
       "      <td>0</td>\n",
       "      <td>0</td>\n",
       "      <td>0</td>\n",
       "      <td>0</td>\n",
       "      <td>0</td>\n",
       "      <td>1</td>\n",
       "      <td>0</td>\n",
       "    </tr>\n",
       "    <tr>\n",
       "      <th>3</th>\n",
       "      <td>3</td>\n",
       "      <td>775000.0</td>\n",
       "      <td>3</td>\n",
       "      <td>3.0</td>\n",
       "      <td>2160</td>\n",
       "      <td>1400</td>\n",
       "      <td>2.0</td>\n",
       "      <td>0</td>\n",
       "      <td>0</td>\n",
       "      <td>0</td>\n",
       "      <td>...</td>\n",
       "      <td>2010</td>\n",
       "      <td>0</td>\n",
       "      <td>1</td>\n",
       "      <td>0</td>\n",
       "      <td>0</td>\n",
       "      <td>0</td>\n",
       "      <td>0</td>\n",
       "      <td>0</td>\n",
       "      <td>1</td>\n",
       "      <td>0</td>\n",
       "    </tr>\n",
       "    <tr>\n",
       "      <th>4</th>\n",
       "      <td>4</td>\n",
       "      <td>592500.0</td>\n",
       "      <td>2</td>\n",
       "      <td>2.0</td>\n",
       "      <td>1120</td>\n",
       "      <td>758</td>\n",
       "      <td>2.0</td>\n",
       "      <td>0</td>\n",
       "      <td>0</td>\n",
       "      <td>1</td>\n",
       "      <td>...</td>\n",
       "      <td>2012</td>\n",
       "      <td>0</td>\n",
       "      <td>0</td>\n",
       "      <td>0</td>\n",
       "      <td>0</td>\n",
       "      <td>0</td>\n",
       "      <td>0</td>\n",
       "      <td>0</td>\n",
       "      <td>1</td>\n",
       "      <td>0</td>\n",
       "    </tr>\n",
       "    <tr>\n",
       "      <th>...</th>\n",
       "      <td>...</td>\n",
       "      <td>...</td>\n",
       "      <td>...</td>\n",
       "      <td>...</td>\n",
       "      <td>...</td>\n",
       "      <td>...</td>\n",
       "      <td>...</td>\n",
       "      <td>...</td>\n",
       "      <td>...</td>\n",
       "      <td>...</td>\n",
       "      <td>...</td>\n",
       "      <td>...</td>\n",
       "      <td>...</td>\n",
       "      <td>...</td>\n",
       "      <td>...</td>\n",
       "      <td>...</td>\n",
       "      <td>...</td>\n",
       "      <td>...</td>\n",
       "      <td>...</td>\n",
       "      <td>...</td>\n",
       "      <td>...</td>\n",
       "    </tr>\n",
       "    <tr>\n",
       "      <th>30106</th>\n",
       "      <td>30150</td>\n",
       "      <td>1555000.0</td>\n",
       "      <td>5</td>\n",
       "      <td>2.0</td>\n",
       "      <td>1910</td>\n",
       "      <td>4000</td>\n",
       "      <td>1.5</td>\n",
       "      <td>0</td>\n",
       "      <td>0</td>\n",
       "      <td>0</td>\n",
       "      <td>...</td>\n",
       "      <td>1921</td>\n",
       "      <td>0</td>\n",
       "      <td>0</td>\n",
       "      <td>0</td>\n",
       "      <td>1</td>\n",
       "      <td>0</td>\n",
       "      <td>0</td>\n",
       "      <td>0</td>\n",
       "      <td>1</td>\n",
       "      <td>0</td>\n",
       "    </tr>\n",
       "    <tr>\n",
       "      <th>30107</th>\n",
       "      <td>30151</td>\n",
       "      <td>1313000.0</td>\n",
       "      <td>3</td>\n",
       "      <td>2.0</td>\n",
       "      <td>2020</td>\n",
       "      <td>5800</td>\n",
       "      <td>2.0</td>\n",
       "      <td>0</td>\n",
       "      <td>0</td>\n",
       "      <td>0</td>\n",
       "      <td>...</td>\n",
       "      <td>2011</td>\n",
       "      <td>0</td>\n",
       "      <td>1</td>\n",
       "      <td>0</td>\n",
       "      <td>0</td>\n",
       "      <td>0</td>\n",
       "      <td>0</td>\n",
       "      <td>0</td>\n",
       "      <td>1</td>\n",
       "      <td>0</td>\n",
       "    </tr>\n",
       "    <tr>\n",
       "      <th>30108</th>\n",
       "      <td>30152</td>\n",
       "      <td>800000.0</td>\n",
       "      <td>3</td>\n",
       "      <td>2.0</td>\n",
       "      <td>1620</td>\n",
       "      <td>3600</td>\n",
       "      <td>1.0</td>\n",
       "      <td>0</td>\n",
       "      <td>0</td>\n",
       "      <td>1</td>\n",
       "      <td>...</td>\n",
       "      <td>1995</td>\n",
       "      <td>0</td>\n",
       "      <td>1</td>\n",
       "      <td>0</td>\n",
       "      <td>0</td>\n",
       "      <td>0</td>\n",
       "      <td>0</td>\n",
       "      <td>0</td>\n",
       "      <td>1</td>\n",
       "      <td>0</td>\n",
       "    </tr>\n",
       "    <tr>\n",
       "      <th>30109</th>\n",
       "      <td>30153</td>\n",
       "      <td>775000.0</td>\n",
       "      <td>3</td>\n",
       "      <td>2.5</td>\n",
       "      <td>2570</td>\n",
       "      <td>2889</td>\n",
       "      <td>2.0</td>\n",
       "      <td>0</td>\n",
       "      <td>0</td>\n",
       "      <td>0</td>\n",
       "      <td>...</td>\n",
       "      <td>2006</td>\n",
       "      <td>0</td>\n",
       "      <td>1</td>\n",
       "      <td>0</td>\n",
       "      <td>0</td>\n",
       "      <td>0</td>\n",
       "      <td>0</td>\n",
       "      <td>0</td>\n",
       "      <td>1</td>\n",
       "      <td>0</td>\n",
       "    </tr>\n",
       "    <tr>\n",
       "      <th>30110</th>\n",
       "      <td>30154</td>\n",
       "      <td>500000.0</td>\n",
       "      <td>3</td>\n",
       "      <td>1.5</td>\n",
       "      <td>1200</td>\n",
       "      <td>11058</td>\n",
       "      <td>1.0</td>\n",
       "      <td>0</td>\n",
       "      <td>0</td>\n",
       "      <td>0</td>\n",
       "      <td>...</td>\n",
       "      <td>1965</td>\n",
       "      <td>0</td>\n",
       "      <td>0</td>\n",
       "      <td>0</td>\n",
       "      <td>1</td>\n",
       "      <td>0</td>\n",
       "      <td>0</td>\n",
       "      <td>0</td>\n",
       "      <td>1</td>\n",
       "      <td>0</td>\n",
       "    </tr>\n",
       "  </tbody>\n",
       "</table>\n",
       "<p>27222 rows × 24 columns</p>\n",
       "</div>"
      ],
      "text/plain": [
       "       index      price  bedrooms  bathrooms  sqft_living  sqft_lot  floors  \\\n",
       "0          0   675000.0         4        1.0         1180      7140     1.0   \n",
       "1          1   920000.0         5        2.5         2770      6703     1.0   \n",
       "2          2   311000.0         6        2.0         2880      6156     1.0   \n",
       "3          3   775000.0         3        3.0         2160      1400     2.0   \n",
       "4          4   592500.0         2        2.0         1120       758     2.0   \n",
       "...      ...        ...       ...        ...          ...       ...     ...   \n",
       "30106  30150  1555000.0         5        2.0         1910      4000     1.5   \n",
       "30107  30151  1313000.0         3        2.0         2020      5800     2.0   \n",
       "30108  30152   800000.0         3        2.0         1620      3600     1.0   \n",
       "30109  30153   775000.0         3        2.5         2570      2889     2.0   \n",
       "30110  30154   500000.0         3        1.5         1200     11058     1.0   \n",
       "\n",
       "       waterfront  greenbelt  nuisance  ...  yr_built  \\\n",
       "0               0          0         0  ...      1969   \n",
       "1               0          0         1  ...      1950   \n",
       "2               0          0         0  ...      1956   \n",
       "3               0          0         0  ...      2010   \n",
       "4               0          0         1  ...      2012   \n",
       "...           ...        ...       ...  ...       ...   \n",
       "30106           0          0         0  ...      1921   \n",
       "30107           0          0         0  ...      2011   \n",
       "30108           0          0         1  ...      1995   \n",
       "30109           0          0         0  ...      2006   \n",
       "30110           0          0         0  ...      1965   \n",
       "\n",
       "       heat_source_Electricity/Solar  heat_source_Gas  heat_source_Gas/Solar  \\\n",
       "0                                  0                1                      0   \n",
       "1                                  0                0                      0   \n",
       "2                                  0                1                      0   \n",
       "3                                  0                1                      0   \n",
       "4                                  0                0                      0   \n",
       "...                              ...              ...                    ...   \n",
       "30106                              0                0                      0   \n",
       "30107                              0                1                      0   \n",
       "30108                              0                1                      0   \n",
       "30109                              0                1                      0   \n",
       "30110                              0                0                      0   \n",
       "\n",
       "       heat_source_Oil  heat_source_Oil/Solar  heat_source_Other  \\\n",
       "0                    0                      0                  0   \n",
       "1                    1                      0                  0   \n",
       "2                    0                      0                  0   \n",
       "3                    0                      0                  0   \n",
       "4                    0                      0                  0   \n",
       "...                ...                    ...                ...   \n",
       "30106                1                      0                  0   \n",
       "30107                0                      0                  0   \n",
       "30108                0                      0                  0   \n",
       "30109                0                      0                  0   \n",
       "30110                1                      0                  0   \n",
       "\n",
       "       sewer_system_PRIVATE RESTRICTED  sewer_system_PUBLIC  \\\n",
       "0                                    0                    1   \n",
       "1                                    0                    1   \n",
       "2                                    0                    1   \n",
       "3                                    0                    1   \n",
       "4                                    0                    1   \n",
       "...                                ...                  ...   \n",
       "30106                                0                    1   \n",
       "30107                                0                    1   \n",
       "30108                                0                    1   \n",
       "30109                                0                    1   \n",
       "30110                                0                    1   \n",
       "\n",
       "       sewer_system_PUBLIC RESTRICTED  \n",
       "0                                   0  \n",
       "1                                   0  \n",
       "2                                   0  \n",
       "3                                   0  \n",
       "4                                   0  \n",
       "...                               ...  \n",
       "30106                               0  \n",
       "30107                               0  \n",
       "30108                               0  \n",
       "30109                               0  \n",
       "30110                               0  \n",
       "\n",
       "[27222 rows x 24 columns]"
      ]
     },
     "execution_count": 116,
     "metadata": {},
     "output_type": "execute_result"
    }
   ],
   "source": [
    "#The lower bound isn't necessary to calculate, since it would be negative\n",
    "upper = 1300000 + (1300000 - 649236) #The upper bound\n",
    "df = df[df[\"price\"] < upper].copy()\n",
    "df"
   ]
  },
  {
   "cell_type": "code",
   "execution_count": 117,
   "metadata": {
    "ExecuteTime": {
     "end_time": "2023-07-14T16:51:22.659781Z",
     "start_time": "2023-07-14T16:51:22.657514Z"
    }
   },
   "outputs": [
    {
     "data": {
      "text/plain": [
       "0.9040549965129022"
      ]
     },
     "execution_count": 117,
     "metadata": {},
     "output_type": "execute_result"
    }
   ],
   "source": [
    "#What fraction of my data do I have left?\n",
    "len(df)/len(base_df)"
   ]
  },
  {
   "cell_type": "markdown",
   "metadata": {
    "ExecuteTime": {
     "end_time": "2023-07-02T04:09:06.744487Z",
     "start_time": "2023-07-02T04:09:06.734047Z"
    }
   },
   "source": [
    "## Visualizing the basics"
   ]
  },
  {
   "cell_type": "code",
   "execution_count": 118,
   "metadata": {
    "ExecuteTime": {
     "end_time": "2023-07-14T16:51:22.827208Z",
     "start_time": "2023-07-14T16:51:22.660709Z"
    },
    "scrolled": false
   },
   "outputs": [
    {
     "data": {
      "image/png": "[encoded data removed]",
      "text/plain": [
       "<Figure size 432x288 with 1 Axes>"
      ]
     },
     "metadata": {
      "needs_background": "light"
     },
     "output_type": "display_data"
    }
   ],
   "source": [
    "plt.hist(df.bedrooms);"
   ]
  },
  {
   "cell_type": "code",
   "execution_count": 119,
   "metadata": {
    "ExecuteTime": {
     "end_time": "2023-07-14T16:51:22.983784Z",
     "start_time": "2023-07-14T16:51:22.828208Z"
    },
    "scrolled": true
   },
   "outputs": [
    {
     "data": {
      "image/png": "[encoded data removed]",
      "text/plain": [
       "<Figure size 432x288 with 1 Axes>"
      ]
     },
     "metadata": {
      "needs_background": "light"
     },
     "output_type": "display_data"
    }
   ],
   "source": [
    "plt.hist(df.bathrooms);"
   ]
  },
  {
   "cell_type": "code",
   "execution_count": 120,
   "metadata": {
    "ExecuteTime": {
     "end_time": "2023-07-14T16:51:23.160910Z",
     "start_time": "2023-07-14T16:51:22.984782Z"
    },
    "scrolled": true
   },
   "outputs": [
    {
     "data": {
      "image/png": "[encoded data removed]",
      "text/plain": [
       "<Figure size 720x360 with 1 Axes>"
      ]
     },
     "metadata": {
      "needs_background": "light"
     },
     "output_type": "display_data"
    }
   ],
   "source": [
    "#Living room vs Sale Price\n",
    "fig, ax = plt.subplots(figsize=(10, 5))\n",
    "fig.suptitle('living room sq ft vs. sale price', fontsize=16)\n",
    "ax.scatter(df.sqft_living, df.price, alpha = .2)\n",
    "ax.set_xlabel('sq foot lv', fontsize=14)\n",
    "ax.set_ylabel('sale_price', fontsize=14);"
   ]
  },
  {
   "cell_type": "code",
   "execution_count": 121,
   "metadata": {
    "ExecuteTime": {
     "end_time": "2023-07-14T16:51:23.278652Z",
     "start_time": "2023-07-14T16:51:23.161855Z"
    }
   },
   "outputs": [
    {
     "data": {
      "image/png": "[encoded data removed]",
      "text/plain": [
       "<Figure size 720x360 with 1 Axes>"
      ]
     },
     "metadata": {
      "needs_background": "light"
     },
     "output_type": "display_data"
    }
   ],
   "source": [
    "#Garage vs Sale Price\n",
    "df_has_garage = df[df.sqft_garage > 0].copy()\n",
    "fig, ax = plt.subplots(figsize=(10, 5))\n",
    "fig.suptitle('garage footage vs. sale price', fontsize=16)\n",
    "ax.scatter(df_has_garage.sqft_garage, df_has_garage.price, alpha = .2)\n",
    "ax.set_xlabel('garage sq foot', fontsize=14)\n",
    "ax.set_ylabel('sale_price', fontsize=14);"
   ]
  },
  {
   "cell_type": "code",
   "execution_count": 122,
   "metadata": {
    "ExecuteTime": {
     "end_time": "2023-07-14T16:51:23.560578Z",
     "start_time": "2023-07-14T16:51:23.282758Z"
    },
    "scrolled": true
   },
   "outputs": [
    {
     "data": {
      "image/png": "[encoded data removed]",
      "text/plain": [
       "<Figure size 360x360 with 1 Axes>"
      ]
     },
     "metadata": {
      "needs_background": "light"
     },
     "output_type": "display_data"
    }
   ],
   "source": [
    "#I wonder why garages seem to be bimodal\n",
    "sns.displot(df_has_garage[df_has_garage.sqft_garage<1500].sqft_garage, kde=True);"
   ]
  },
  {
   "cell_type": "code",
   "execution_count": 123,
   "metadata": {
    "ExecuteTime": {
     "end_time": "2023-07-14T16:51:23.682767Z",
     "start_time": "2023-07-14T16:51:23.563430Z"
    },
    "scrolled": true
   },
   "outputs": [
    {
     "data": {
      "image/png": "[encoded data removed]",
      "text/plain": [
       "<Figure size 720x360 with 1 Axes>"
      ]
     },
     "metadata": {
      "needs_background": "light"
     },
     "output_type": "display_data"
    }
   ],
   "source": [
    "#Patio vs Sale Price\n",
    "df_has_patio = df[df.sqft_patio>0].copy()\n",
    "fig, ax = plt.subplots(figsize=(10, 5))\n",
    "fig.suptitle('patio footage vs. sale price', fontsize=16)\n",
    "ax.scatter(df_has_patio.sqft_patio, df_has_patio.price, alpha = .2)\n",
    "ax.set_xlabel('patio sq foot', fontsize=14)\n",
    "ax.set_ylabel('sale_price', fontsize=14);"
   ]
  },
  {
   "cell_type": "markdown",
   "metadata": {},
   "source": [
    "The top of all of my scatterplots look like they have been chopped off prematurely. I lost about 10% of my data when I removed the outliers. So maybe I should remove the outliers by keeping only data from the middle two standard deviations? If my data is close to normal, then I should only lose about 5% of my data that way."
   ]
  },
  {
   "cell_type": "code",
   "execution_count": 124,
   "metadata": {
    "ExecuteTime": {
     "end_time": "2023-07-14T16:51:23.687663Z",
     "start_time": "2023-07-14T16:51:23.683734Z"
    },
    "scrolled": false
   },
   "outputs": [
    {
     "name": "stdout",
     "output_type": "stream",
     "text": [
      "new lower -684061.0086032962\n",
      "new upper 2902002.311847958\n"
     ]
    }
   ],
   "source": [
    "#Finding the upper and lower bounds\n",
    "print(\"new lower\", base_df.price.mean()-(base_df.price.std()*2))\n",
    "print(\"new upper\", base_df.price.mean()+(base_df.price.std()*2))"
   ]
  },
  {
   "cell_type": "markdown",
   "metadata": {},
   "source": [
    "There isn't a new lower bound, but the new upper bound is quite a bit higher. About a million dollars, by the looks of it."
   ]
  },
  {
   "cell_type": "code",
   "execution_count": 125,
   "metadata": {
    "ExecuteTime": {
     "end_time": "2023-07-14T16:51:23.690887Z",
     "start_time": "2023-07-14T16:51:23.688610Z"
    }
   },
   "outputs": [
    {
     "data": {
      "text/plain": [
       "951238.3118479578"
      ]
     },
     "execution_count": 125,
     "metadata": {},
     "output_type": "execute_result"
    }
   ],
   "source": [
    "2902002.311847958 - upper #\"upper\" is my previous upper bound using IQR"
   ]
  },
  {
   "cell_type": "code",
   "execution_count": 126,
   "metadata": {
    "ExecuteTime": {
     "end_time": "2023-07-14T16:51:23.718860Z",
     "start_time": "2023-07-14T16:51:23.691676Z"
    },
    "scrolled": true
   },
   "outputs": [
    {
     "data": {
      "text/html": [
       "<div>\n",
       "<style scoped>\n",
       "    .dataframe tbody tr th:only-of-type {\n",
       "        vertical-align: middle;\n",
       "    }\n",
       "\n",
       "    .dataframe tbody tr th {\n",
       "        vertical-align: top;\n",
       "    }\n",
       "\n",
       "    .dataframe thead th {\n",
       "        text-align: right;\n",
       "    }\n",
       "</style>\n",
       "<table border=\"1\" class=\"dataframe\">\n",
       "  <thead>\n",
       "    <tr style=\"text-align: right;\">\n",
       "      <th></th>\n",
       "      <th>index</th>\n",
       "      <th>price</th>\n",
       "      <th>bedrooms</th>\n",
       "      <th>bathrooms</th>\n",
       "      <th>sqft_living</th>\n",
       "      <th>sqft_lot</th>\n",
       "      <th>floors</th>\n",
       "      <th>waterfront</th>\n",
       "      <th>greenbelt</th>\n",
       "      <th>nuisance</th>\n",
       "      <th>...</th>\n",
       "      <th>yr_built</th>\n",
       "      <th>heat_source_Electricity/Solar</th>\n",
       "      <th>heat_source_Gas</th>\n",
       "      <th>heat_source_Gas/Solar</th>\n",
       "      <th>heat_source_Oil</th>\n",
       "      <th>heat_source_Oil/Solar</th>\n",
       "      <th>heat_source_Other</th>\n",
       "      <th>sewer_system_PRIVATE RESTRICTED</th>\n",
       "      <th>sewer_system_PUBLIC</th>\n",
       "      <th>sewer_system_PUBLIC RESTRICTED</th>\n",
       "    </tr>\n",
       "  </thead>\n",
       "  <tbody>\n",
       "    <tr>\n",
       "      <th>0</th>\n",
       "      <td>0</td>\n",
       "      <td>675000.0</td>\n",
       "      <td>4</td>\n",
       "      <td>1.0</td>\n",
       "      <td>1180</td>\n",
       "      <td>7140</td>\n",
       "      <td>1.0</td>\n",
       "      <td>0</td>\n",
       "      <td>0</td>\n",
       "      <td>0</td>\n",
       "      <td>...</td>\n",
       "      <td>1969</td>\n",
       "      <td>0</td>\n",
       "      <td>1</td>\n",
       "      <td>0</td>\n",
       "      <td>0</td>\n",
       "      <td>0</td>\n",
       "      <td>0</td>\n",
       "      <td>0</td>\n",
       "      <td>1</td>\n",
       "      <td>0</td>\n",
       "    </tr>\n",
       "    <tr>\n",
       "      <th>1</th>\n",
       "      <td>1</td>\n",
       "      <td>920000.0</td>\n",
       "      <td>5</td>\n",
       "      <td>2.5</td>\n",
       "      <td>2770</td>\n",
       "      <td>6703</td>\n",
       "      <td>1.0</td>\n",
       "      <td>0</td>\n",
       "      <td>0</td>\n",
       "      <td>1</td>\n",
       "      <td>...</td>\n",
       "      <td>1950</td>\n",
       "      <td>0</td>\n",
       "      <td>0</td>\n",
       "      <td>0</td>\n",
       "      <td>1</td>\n",
       "      <td>0</td>\n",
       "      <td>0</td>\n",
       "      <td>0</td>\n",
       "      <td>1</td>\n",
       "      <td>0</td>\n",
       "    </tr>\n",
       "    <tr>\n",
       "      <th>2</th>\n",
       "      <td>2</td>\n",
       "      <td>311000.0</td>\n",
       "      <td>6</td>\n",
       "      <td>2.0</td>\n",
       "      <td>2880</td>\n",
       "      <td>6156</td>\n",
       "      <td>1.0</td>\n",
       "      <td>0</td>\n",
       "      <td>0</td>\n",
       "      <td>0</td>\n",
       "      <td>...</td>\n",
       "      <td>1956</td>\n",
       "      <td>0</td>\n",
       "      <td>1</td>\n",
       "      <td>0</td>\n",
       "      <td>0</td>\n",
       "      <td>0</td>\n",
       "      <td>0</td>\n",
       "      <td>0</td>\n",
       "      <td>1</td>\n",
       "      <td>0</td>\n",
       "    </tr>\n",
       "    <tr>\n",
       "      <th>3</th>\n",
       "      <td>3</td>\n",
       "      <td>775000.0</td>\n",
       "      <td>3</td>\n",
       "      <td>3.0</td>\n",
       "      <td>2160</td>\n",
       "      <td>1400</td>\n",
       "      <td>2.0</td>\n",
       "      <td>0</td>\n",
       "      <td>0</td>\n",
       "      <td>0</td>\n",
       "      <td>...</td>\n",
       "      <td>2010</td>\n",
       "      <td>0</td>\n",
       "      <td>1</td>\n",
       "      <td>0</td>\n",
       "      <td>0</td>\n",
       "      <td>0</td>\n",
       "      <td>0</td>\n",
       "      <td>0</td>\n",
       "      <td>1</td>\n",
       "      <td>0</td>\n",
       "    </tr>\n",
       "    <tr>\n",
       "      <th>4</th>\n",
       "      <td>4</td>\n",
       "      <td>592500.0</td>\n",
       "      <td>2</td>\n",
       "      <td>2.0</td>\n",
       "      <td>1120</td>\n",
       "      <td>758</td>\n",
       "      <td>2.0</td>\n",
       "      <td>0</td>\n",
       "      <td>0</td>\n",
       "      <td>1</td>\n",
       "      <td>...</td>\n",
       "      <td>2012</td>\n",
       "      <td>0</td>\n",
       "      <td>0</td>\n",
       "      <td>0</td>\n",
       "      <td>0</td>\n",
       "      <td>0</td>\n",
       "      <td>0</td>\n",
       "      <td>0</td>\n",
       "      <td>1</td>\n",
       "      <td>0</td>\n",
       "    </tr>\n",
       "    <tr>\n",
       "      <th>...</th>\n",
       "      <td>...</td>\n",
       "      <td>...</td>\n",
       "      <td>...</td>\n",
       "      <td>...</td>\n",
       "      <td>...</td>\n",
       "      <td>...</td>\n",
       "      <td>...</td>\n",
       "      <td>...</td>\n",
       "      <td>...</td>\n",
       "      <td>...</td>\n",
       "      <td>...</td>\n",
       "      <td>...</td>\n",
       "      <td>...</td>\n",
       "      <td>...</td>\n",
       "      <td>...</td>\n",
       "      <td>...</td>\n",
       "      <td>...</td>\n",
       "      <td>...</td>\n",
       "      <td>...</td>\n",
       "      <td>...</td>\n",
       "      <td>...</td>\n",
       "    </tr>\n",
       "    <tr>\n",
       "      <th>30106</th>\n",
       "      <td>30150</td>\n",
       "      <td>1555000.0</td>\n",
       "      <td>5</td>\n",
       "      <td>2.0</td>\n",
       "      <td>1910</td>\n",
       "      <td>4000</td>\n",
       "      <td>1.5</td>\n",
       "      <td>0</td>\n",
       "      <td>0</td>\n",
       "      <td>0</td>\n",
       "      <td>...</td>\n",
       "      <td>1921</td>\n",
       "      <td>0</td>\n",
       "      <td>0</td>\n",
       "      <td>0</td>\n",
       "      <td>1</td>\n",
       "      <td>0</td>\n",
       "      <td>0</td>\n",
       "      <td>0</td>\n",
       "      <td>1</td>\n",
       "      <td>0</td>\n",
       "    </tr>\n",
       "    <tr>\n",
       "      <th>30107</th>\n",
       "      <td>30151</td>\n",
       "      <td>1313000.0</td>\n",
       "      <td>3</td>\n",
       "      <td>2.0</td>\n",
       "      <td>2020</td>\n",
       "      <td>5800</td>\n",
       "      <td>2.0</td>\n",
       "      <td>0</td>\n",
       "      <td>0</td>\n",
       "      <td>0</td>\n",
       "      <td>...</td>\n",
       "      <td>2011</td>\n",
       "      <td>0</td>\n",
       "      <td>1</td>\n",
       "      <td>0</td>\n",
       "      <td>0</td>\n",
       "      <td>0</td>\n",
       "      <td>0</td>\n",
       "      <td>0</td>\n",
       "      <td>1</td>\n",
       "      <td>0</td>\n",
       "    </tr>\n",
       "    <tr>\n",
       "      <th>30108</th>\n",
       "      <td>30152</td>\n",
       "      <td>800000.0</td>\n",
       "      <td>3</td>\n",
       "      <td>2.0</td>\n",
       "      <td>1620</td>\n",
       "      <td>3600</td>\n",
       "      <td>1.0</td>\n",
       "      <td>0</td>\n",
       "      <td>0</td>\n",
       "      <td>1</td>\n",
       "      <td>...</td>\n",
       "      <td>1995</td>\n",
       "      <td>0</td>\n",
       "      <td>1</td>\n",
       "      <td>0</td>\n",
       "      <td>0</td>\n",
       "      <td>0</td>\n",
       "      <td>0</td>\n",
       "      <td>0</td>\n",
       "      <td>1</td>\n",
       "      <td>0</td>\n",
       "    </tr>\n",
       "    <tr>\n",
       "      <th>30109</th>\n",
       "      <td>30153</td>\n",
       "      <td>775000.0</td>\n",
       "      <td>3</td>\n",
       "      <td>2.5</td>\n",
       "      <td>2570</td>\n",
       "      <td>2889</td>\n",
       "      <td>2.0</td>\n",
       "      <td>0</td>\n",
       "      <td>0</td>\n",
       "      <td>0</td>\n",
       "      <td>...</td>\n",
       "      <td>2006</td>\n",
       "      <td>0</td>\n",
       "      <td>1</td>\n",
       "      <td>0</td>\n",
       "      <td>0</td>\n",
       "      <td>0</td>\n",
       "      <td>0</td>\n",
       "      <td>0</td>\n",
       "      <td>1</td>\n",
       "      <td>0</td>\n",
       "    </tr>\n",
       "    <tr>\n",
       "      <th>30110</th>\n",
       "      <td>30154</td>\n",
       "      <td>500000.0</td>\n",
       "      <td>3</td>\n",
       "      <td>1.5</td>\n",
       "      <td>1200</td>\n",
       "      <td>11058</td>\n",
       "      <td>1.0</td>\n",
       "      <td>0</td>\n",
       "      <td>0</td>\n",
       "      <td>0</td>\n",
       "      <td>...</td>\n",
       "      <td>1965</td>\n",
       "      <td>0</td>\n",
       "      <td>0</td>\n",
       "      <td>0</td>\n",
       "      <td>1</td>\n",
       "      <td>0</td>\n",
       "      <td>0</td>\n",
       "      <td>0</td>\n",
       "      <td>1</td>\n",
       "      <td>0</td>\n",
       "    </tr>\n",
       "  </tbody>\n",
       "</table>\n",
       "<p>29166 rows × 24 columns</p>\n",
       "</div>"
      ],
      "text/plain": [
       "       index      price  bedrooms  bathrooms  sqft_living  sqft_lot  floors  \\\n",
       "0          0   675000.0         4        1.0         1180      7140     1.0   \n",
       "1          1   920000.0         5        2.5         2770      6703     1.0   \n",
       "2          2   311000.0         6        2.0         2880      6156     1.0   \n",
       "3          3   775000.0         3        3.0         2160      1400     2.0   \n",
       "4          4   592500.0         2        2.0         1120       758     2.0   \n",
       "...      ...        ...       ...        ...          ...       ...     ...   \n",
       "30106  30150  1555000.0         5        2.0         1910      4000     1.5   \n",
       "30107  30151  1313000.0         3        2.0         2020      5800     2.0   \n",
       "30108  30152   800000.0         3        2.0         1620      3600     1.0   \n",
       "30109  30153   775000.0         3        2.5         2570      2889     2.0   \n",
       "30110  30154   500000.0         3        1.5         1200     11058     1.0   \n",
       "\n",
       "       waterfront  greenbelt  nuisance  ...  yr_built  \\\n",
       "0               0          0         0  ...      1969   \n",
       "1               0          0         1  ...      1950   \n",
       "2               0          0         0  ...      1956   \n",
       "3               0          0         0  ...      2010   \n",
       "4               0          0         1  ...      2012   \n",
       "...           ...        ...       ...  ...       ...   \n",
       "30106           0          0         0  ...      1921   \n",
       "30107           0          0         0  ...      2011   \n",
       "30108           0          0         1  ...      1995   \n",
       "30109           0          0         0  ...      2006   \n",
       "30110           0          0         0  ...      1965   \n",
       "\n",
       "       heat_source_Electricity/Solar  heat_source_Gas  heat_source_Gas/Solar  \\\n",
       "0                                  0                1                      0   \n",
       "1                                  0                0                      0   \n",
       "2                                  0                1                      0   \n",
       "3                                  0                1                      0   \n",
       "4                                  0                0                      0   \n",
       "...                              ...              ...                    ...   \n",
       "30106                              0                0                      0   \n",
       "30107                              0                1                      0   \n",
       "30108                              0                1                      0   \n",
       "30109                              0                1                      0   \n",
       "30110                              0                0                      0   \n",
       "\n",
       "       heat_source_Oil  heat_source_Oil/Solar  heat_source_Other  \\\n",
       "0                    0                      0                  0   \n",
       "1                    1                      0                  0   \n",
       "2                    0                      0                  0   \n",
       "3                    0                      0                  0   \n",
       "4                    0                      0                  0   \n",
       "...                ...                    ...                ...   \n",
       "30106                1                      0                  0   \n",
       "30107                0                      0                  0   \n",
       "30108                0                      0                  0   \n",
       "30109                0                      0                  0   \n",
       "30110                1                      0                  0   \n",
       "\n",
       "       sewer_system_PRIVATE RESTRICTED  sewer_system_PUBLIC  \\\n",
       "0                                    0                    1   \n",
       "1                                    0                    1   \n",
       "2                                    0                    1   \n",
       "3                                    0                    1   \n",
       "4                                    0                    1   \n",
       "...                                ...                  ...   \n",
       "30106                                0                    1   \n",
       "30107                                0                    1   \n",
       "30108                                0                    1   \n",
       "30109                                0                    1   \n",
       "30110                                0                    1   \n",
       "\n",
       "       sewer_system_PUBLIC RESTRICTED  \n",
       "0                                   0  \n",
       "1                                   0  \n",
       "2                                   0  \n",
       "3                                   0  \n",
       "4                                   0  \n",
       "...                               ...  \n",
       "30106                               0  \n",
       "30107                               0  \n",
       "30108                               0  \n",
       "30109                               0  \n",
       "30110                               0  \n",
       "\n",
       "[29166 rows x 24 columns]"
      ]
     },
     "execution_count": 126,
     "metadata": {},
     "output_type": "execute_result"
    }
   ],
   "source": [
    "#Redoing the things I did after renaming base_df before removing outliers\n",
    "\n",
    "df = pd.get_dummies(base_df, columns=[\"heat_source\", \n",
    "                                      \"sewer_system\"], drop_first=True)\n",
    "df.drop(\"id\", axis = 1, inplace = True)\n",
    "df.reset_index(inplace=True)\n",
    "\n",
    "#Setting new upper bound\n",
    "df = df[df[\"price\"] < 2902002.31].copy()\n",
    "df"
   ]
  },
  {
   "cell_type": "code",
   "execution_count": 127,
   "metadata": {
    "ExecuteTime": {
     "end_time": "2023-07-14T16:51:23.723017Z",
     "start_time": "2023-07-14T16:51:23.719835Z"
    },
    "scrolled": true
   },
   "outputs": [
    {
     "data": {
      "text/plain": [
       "0.9686161203546877"
      ]
     },
     "execution_count": 127,
     "metadata": {},
     "output_type": "execute_result"
    }
   ],
   "source": [
    "#What fraction of my data do I have now?\n",
    "len(df)/len(base_df)"
   ]
  },
  {
   "cell_type": "markdown",
   "metadata": {},
   "source": [
    "Another 5% or so. Okay. Now I'll revisit those charts from before to see if they look any better."
   ]
  },
  {
   "cell_type": "code",
   "execution_count": 128,
   "metadata": {
    "ExecuteTime": {
     "end_time": "2023-07-14T16:51:23.853885Z",
     "start_time": "2023-07-14T16:51:23.724121Z"
    }
   },
   "outputs": [
    {
     "data": {
      "image/png": "[encoded data removed]",
      "text/plain": [
       "<Figure size 720x360 with 1 Axes>"
      ]
     },
     "metadata": {
      "needs_background": "light"
     },
     "output_type": "display_data"
    }
   ],
   "source": [
    "fig, ax = plt.subplots(figsize=(10, 5))\n",
    "fig.suptitle('living room sq ft vs. sale price', fontsize=16)\n",
    "ax.scatter(df.sqft_living, df.price, alpha = .2)\n",
    "ax.set_xlabel('sq foot lv', fontsize=14)\n",
    "ax.set_ylabel('sale_price', fontsize=14);"
   ]
  },
  {
   "cell_type": "code",
   "execution_count": 129,
   "metadata": {
    "ExecuteTime": {
     "end_time": "2023-07-14T16:51:23.969404Z",
     "start_time": "2023-07-14T16:51:23.854869Z"
    },
    "scrolled": true
   },
   "outputs": [
    {
     "data": {
      "image/png": "[encoded data removed]",
      "text/plain": [
       "<Figure size 720x360 with 1 Axes>"
      ]
     },
     "metadata": {
      "needs_background": "light"
     },
     "output_type": "display_data"
    }
   ],
   "source": [
    "df_has_garage = df[df.sqft_garage > 0].copy() #df of houses with garages\n",
    "fig, ax = plt.subplots(figsize=(10, 5))\n",
    "fig.suptitle('garage footage vs. sale price', fontsize=16)\n",
    "ax.scatter(df_has_garage.sqft_garage, df_has_garage.price, alpha = .2)\n",
    "ax.set_xlabel('garage sq foot', fontsize=14)\n",
    "ax.set_ylabel('sale_price', fontsize=14);"
   ]
  },
  {
   "cell_type": "code",
   "execution_count": 130,
   "metadata": {
    "ExecuteTime": {
     "end_time": "2023-07-14T16:51:24.078377Z",
     "start_time": "2023-07-14T16:51:23.970421Z"
    }
   },
   "outputs": [
    {
     "data": {
      "image/png": "[encoded data removed]",
      "text/plain": [
       "<Figure size 720x360 with 1 Axes>"
      ]
     },
     "metadata": {
      "needs_background": "light"
     },
     "output_type": "display_data"
    }
   ],
   "source": [
    "df_has_patio = df[df.sqft_patio>0].copy() #df of houses with patios\n",
    "fig, ax = plt.subplots(figsize=(10, 5))\n",
    "fig.suptitle('patio footage vs. sale price', fontsize=16)\n",
    "ax.scatter(df_has_patio.sqft_patio, df_has_patio.price, alpha = .2)\n",
    "ax.set_xlabel('patio sq foot', fontsize=14)\n",
    "ax.set_ylabel('sale_price', fontsize=14);"
   ]
  },
  {
   "cell_type": "markdown",
   "metadata": {},
   "source": [
    "Not perfect, but quite a bit better."
   ]
  },
  {
   "cell_type": "markdown",
   "metadata": {},
   "source": [
    "I'll include the existence of a patio/garage at all as their own columns"
   ]
  },
  {
   "cell_type": "code",
   "execution_count": 131,
   "metadata": {
    "ExecuteTime": {
     "end_time": "2023-07-14T16:51:24.084797Z",
     "start_time": "2023-07-14T16:51:24.079327Z"
    }
   },
   "outputs": [],
   "source": [
    "df.loc[df.sqft_garage > 0, \"garage\"] = 1\n",
    "df.loc[df.sqft_garage == 0, \"garage\"] = 0\n",
    "\n",
    "df.loc[df.sqft_patio > 0, \"patio\"] = 1\n",
    "df.loc[df.sqft_patio == 0, \"patio\"] = 0"
   ]
  },
  {
   "cell_type": "markdown",
   "metadata": {},
   "source": [
    "Okay, so now that everything is set up, let's see what features correlate significantly with price."
   ]
  },
  {
   "cell_type": "markdown",
   "metadata": {},
   "source": [
    "# Stats"
   ]
  },
  {
   "cell_type": "markdown",
   "metadata": {},
   "source": [
    "### Basic OLS\n",
    "We're just looking at each variable individually."
   ]
  },
  {
   "cell_type": "code",
   "execution_count": 132,
   "metadata": {
    "ExecuteTime": {
     "end_time": "2023-07-14T16:51:24.200473Z",
     "start_time": "2023-07-14T16:51:24.085790Z"
    }
   },
   "outputs": [
    {
     "name": "stdout",
     "output_type": "stream",
     "text": [
      "bedrooms\n",
      "                            OLS Regression Results                            \n",
      "==============================================================================\n",
      "Dep. Variable:                  price   R-squared:                       0.114\n",
      "Model:                            OLS   Adj. R-squared:                  0.114\n",
      "Method:                 Least Squares   F-statistic:                     3755.\n",
      "Date:                Fri, 14 Jul 2023   Prob (F-statistic):               0.00\n",
      "Time:                        12:51:24   Log-Likelihood:            -4.2361e+05\n",
      "No. Observations:               29166   AIC:                         8.472e+05\n",
      "Df Residuals:                   29164   BIC:                         8.472e+05\n",
      "Df Model:                           1                                         \n",
      "Covariance Type:            nonrobust                                         \n",
      "==============================================================================\n",
      "                 coef    std err          t      P>|t|      [0.025      0.975]\n",
      "------------------------------------------------------------------------------\n",
      "const       3.792e+05   1.05e+04     36.024      0.000    3.59e+05       4e+05\n",
      "bedrooms    1.831e+05   2988.586     61.279      0.000    1.77e+05    1.89e+05\n",
      "==============================================================================\n",
      "Omnibus:                     4965.427   Durbin-Watson:                   2.018\n",
      "Prob(Omnibus):                  0.000   Jarque-Bera (JB):             8504.055\n",
      "Skew:                           1.119   Prob(JB):                         0.00\n",
      "Kurtosis:                       4.409   Cond. No.                         13.8\n",
      "==============================================================================\n",
      "\n",
      "Notes:\n",
      "[1] Standard Errors assume that the covariance matrix of the errors is correctly specified.\n",
      "\n",
      "\n",
      "\n",
      "\n",
      "bathrooms\n",
      "                            OLS Regression Results                            \n",
      "==============================================================================\n",
      "Dep. Variable:                  price   R-squared:                       0.225\n",
      "Model:                            OLS   Adj. R-squared:                  0.225\n",
      "Method:                 Least Squares   F-statistic:                     8476.\n",
      "Date:                Fri, 14 Jul 2023   Prob (F-statistic):               0.00\n",
      "Time:                        12:51:24   Log-Likelihood:            -4.2166e+05\n",
      "No. Observations:               29166   AIC:                         8.433e+05\n",
      "Df Residuals:                   29164   BIC:                         8.433e+05\n",
      "Df Model:                           1                                         \n",
      "Covariance Type:            nonrobust                                         \n",
      "==============================================================================\n",
      "                 coef    std err          t      P>|t|      [0.025      0.975]\n",
      "------------------------------------------------------------------------------\n",
      "const        3.12e+05   7939.321     39.295      0.000    2.96e+05    3.28e+05\n",
      "bathrooms   3.007e+05   3266.647     92.064      0.000    2.94e+05    3.07e+05\n",
      "==============================================================================\n",
      "Omnibus:                     4362.062   Durbin-Watson:                   2.025\n",
      "Prob(Omnibus):                  0.000   Jarque-Bera (JB):             7264.196\n",
      "Skew:                           1.008   Prob(JB):                         0.00\n",
      "Kurtosis:                       4.384   Cond. No.                         8.26\n",
      "==============================================================================\n",
      "\n",
      "Notes:\n",
      "[1] Standard Errors assume that the covariance matrix of the errors is correctly specified.\n",
      "\n",
      "\n",
      "\n",
      "\n",
      "sqft_living\n",
      "                            OLS Regression Results                            \n",
      "==============================================================================\n",
      "Dep. Variable:                  price   R-squared:                       0.379\n",
      "Model:                            OLS   Adj. R-squared:                  0.379\n",
      "Method:                 Least Squares   F-statistic:                 1.777e+04\n",
      "Date:                Fri, 14 Jul 2023   Prob (F-statistic):               0.00\n",
      "Time:                        12:51:24   Log-Likelihood:            -4.1844e+05\n",
      "No. Observations:               29166   AIC:                         8.369e+05\n",
      "Df Residuals:                   29164   BIC:                         8.369e+05\n",
      "Df Model:                           1                                         \n",
      "Covariance Type:            nonrobust                                         \n",
      "===============================================================================\n",
      "                  coef    std err          t      P>|t|      [0.025      0.975]\n",
      "-------------------------------------------------------------------------------\n",
      "const        2.301e+05   6255.655     36.786      0.000    2.18e+05    2.42e+05\n",
      "sqft_living   376.6241      2.825    133.300      0.000     371.086     382.162\n",
      "==============================================================================\n",
      "Omnibus:                     3291.769   Durbin-Watson:                   2.017\n",
      "Prob(Omnibus):                  0.000   Jarque-Bera (JB):             6148.728\n",
      "Skew:                           0.749   Prob(JB):                         0.00\n",
      "Kurtosis:                       4.678   Cond. No.                     5.75e+03\n",
      "==============================================================================\n",
      "\n",
      "Notes:\n",
      "[1] Standard Errors assume that the covariance matrix of the errors is correctly specified.\n",
      "[2] The condition number is large, 5.75e+03. This might indicate that there are\n",
      "strong multicollinearity or other numerical problems.\n",
      "\n",
      "\n",
      "\n",
      "\n",
      "patio\n",
      "                            OLS Regression Results                            \n",
      "==============================================================================\n",
      "Dep. Variable:                  price   R-squared:                       0.032\n",
      "Model:                            OLS   Adj. R-squared:                  0.032\n",
      "Method:                 Least Squares   F-statistic:                     960.4\n",
      "Date:                Fri, 14 Jul 2023   Prob (F-statistic):          1.71e-207\n",
      "Time:                        12:51:24   Log-Likelihood:            -4.2490e+05\n",
      "No. Observations:               29166   AIC:                         8.498e+05\n",
      "Df Residuals:                   29164   BIC:                         8.498e+05\n",
      "Df Model:                           1                                         \n",
      "Covariance Type:            nonrobust                                         \n",
      "==============================================================================\n",
      "                 coef    std err          t      P>|t|      [0.025      0.975]\n",
      "------------------------------------------------------------------------------\n",
      "const       8.286e+05   6286.602    131.798      0.000    8.16e+05    8.41e+05\n",
      "patio       2.219e+05   7159.598     30.990      0.000    2.08e+05    2.36e+05\n",
      "==============================================================================\n",
      "Omnibus:                     5595.915   Durbin-Watson:                   2.021\n",
      "Prob(Omnibus):                  0.000   Jarque-Bera (JB):             9881.875\n",
      "Skew:                           1.239   Prob(JB):                         0.00\n",
      "Kurtosis:                       4.412   Cond. No.                         3.96\n",
      "==============================================================================\n",
      "\n",
      "Notes:\n",
      "[1] Standard Errors assume that the covariance matrix of the errors is correctly specified.\n",
      "\n",
      "\n",
      "\n",
      "\n",
      "garage\n",
      "                            OLS Regression Results                            \n",
      "==============================================================================\n",
      "Dep. Variable:                  price   R-squared:                       0.023\n",
      "Model:                            OLS   Adj. R-squared:                  0.023\n",
      "Method:                 Least Squares   F-statistic:                     676.3\n",
      "Date:                Fri, 14 Jul 2023   Prob (F-statistic):          2.02e-147\n",
      "Time:                        12:51:24   Log-Likelihood:            -4.2504e+05\n",
      "No. Observations:               29166   AIC:                         8.501e+05\n",
      "Df Residuals:                   29164   BIC:                         8.501e+05\n",
      "Df Model:                           1                                         \n",
      "Covariance Type:            nonrobust                                         \n",
      "==============================================================================\n",
      "                 coef    std err          t      P>|t|      [0.025      0.975]\n",
      "------------------------------------------------------------------------------\n",
      "const       8.889e+05   5221.470    170.240      0.000    8.79e+05    8.99e+05\n",
      "garage      1.665e+05   6403.538     26.006      0.000    1.54e+05    1.79e+05\n",
      "==============================================================================\n",
      "Omnibus:                     5483.212   Durbin-Watson:                   2.021\n",
      "Prob(Omnibus):                  0.000   Jarque-Bera (JB):             9533.589\n",
      "Skew:                           1.226   Prob(JB):                         0.00\n",
      "Kurtosis:                       4.352   Cond. No.                         3.22\n",
      "==============================================================================\n",
      "\n",
      "Notes:\n",
      "[1] Standard Errors assume that the covariance matrix of the errors is correctly specified.\n",
      "\n",
      "\n",
      "\n",
      "\n",
      "condition\n",
      "                            OLS Regression Results                            \n",
      "==============================================================================\n",
      "Dep. Variable:                  price   R-squared:                       0.000\n",
      "Model:                            OLS   Adj. R-squared:                  0.000\n",
      "Method:                 Least Squares   F-statistic:                     14.01\n",
      "Date:                Fri, 14 Jul 2023   Prob (F-statistic):           0.000183\n",
      "Time:                        12:51:24   Log-Likelihood:            -4.2537e+05\n",
      "No. Observations:               29166   AIC:                         8.507e+05\n",
      "Df Residuals:                   29164   BIC:                         8.508e+05\n",
      "Df Model:                           1                                         \n",
      "Covariance Type:            nonrobust                                         \n",
      "==============================================================================\n",
      "                 coef    std err          t      P>|t|      [0.025      0.975]\n",
      "------------------------------------------------------------------------------\n",
      "const       9.594e+05   1.12e+04     85.773      0.000    9.37e+05    9.81e+05\n",
      "condition   1.626e+04   4345.401      3.742      0.000    7745.164    2.48e+04\n",
      "==============================================================================\n",
      "Omnibus:                     5668.219   Durbin-Watson:                   2.016\n",
      "Prob(Omnibus):                  0.000   Jarque-Bera (JB):            10007.765\n",
      "Skew:                           1.257   Prob(JB):                         0.00\n",
      "Kurtosis:                       4.386   Cond. No.                         10.7\n",
      "==============================================================================\n",
      "\n",
      "Notes:\n",
      "[1] Standard Errors assume that the covariance matrix of the errors is correctly specified.\n",
      "\n",
      "\n",
      "\n",
      "\n",
      "grade\n",
      "                            OLS Regression Results                            \n",
      "==============================================================================\n",
      "Dep. Variable:                  price   R-squared:                       0.008\n",
      "Model:                            OLS   Adj. R-squared:                  0.008\n",
      "Method:                 Least Squares   F-statistic:                     239.0\n",
      "Date:                Fri, 14 Jul 2023   Prob (F-statistic):           1.08e-53\n",
      "Time:                        12:51:24   Log-Likelihood:            -4.2526e+05\n",
      "No. Observations:               29166   AIC:                         8.505e+05\n",
      "Df Residuals:                   29164   BIC:                         8.505e+05\n",
      "Df Model:                           1                                         \n",
      "Covariance Type:            nonrobust                                         \n",
      "==============================================================================\n",
      "                 coef    std err          t      P>|t|      [0.025      0.975]\n",
      "------------------------------------------------------------------------------\n",
      "const        1.21e+06    1.4e+04     86.623      0.000    1.18e+06    1.24e+06\n",
      "grade       -2.94e+04   1901.834    -15.459      0.000   -3.31e+04   -2.57e+04\n",
      "==============================================================================\n",
      "Omnibus:                     4971.551   Durbin-Watson:                   2.013\n",
      "Prob(Omnibus):                  0.000   Jarque-Bera (JB):             8126.731\n",
      "Skew:                           1.163   Prob(JB):                         0.00\n",
      "Kurtosis:                       4.131   Cond. No.                         34.3\n",
      "==============================================================================\n",
      "\n",
      "Notes:\n",
      "[1] Standard Errors assume that the covariance matrix of the errors is correctly specified.\n",
      "\n",
      "\n",
      "\n",
      "\n",
      "garage size\n",
      "                            OLS Regression Results                            \n",
      "==============================================================================\n",
      "Dep. Variable:                  price   R-squared:                       0.090\n",
      "Model:                            OLS   Adj. R-squared:                  0.090\n",
      "Method:                 Least Squares   F-statistic:                     1919.\n",
      "Date:                Fri, 14 Jul 2023   Prob (F-statistic):               0.00\n",
      "Time:                        12:51:24   Log-Likelihood:            -2.8276e+05\n",
      "No. Observations:               19392   AIC:                         5.655e+05\n",
      "Df Residuals:                   19390   BIC:                         5.655e+05\n",
      "Df Model:                           1                                         \n",
      "Covariance Type:            nonrobust                                         \n",
      "===============================================================================\n",
      "                  coef    std err          t      P>|t|      [0.025      0.975]\n",
      "-------------------------------------------------------------------------------\n",
      "const        6.401e+05   1.02e+04     62.819      0.000     6.2e+05     6.6e+05\n",
      "sqft_garage   857.1869     19.567     43.808      0.000     818.834     895.540\n",
      "==============================================================================\n",
      "Omnibus:                     2643.255   Durbin-Watson:                   2.031\n",
      "Prob(Omnibus):                  0.000   Jarque-Bera (JB):             3971.801\n",
      "Skew:                           0.995   Prob(JB):                         0.00\n",
      "Kurtosis:                       3.977   Cond. No.                     1.42e+03\n",
      "==============================================================================\n",
      "\n",
      "Notes:\n",
      "[1] Standard Errors assume that the covariance matrix of the errors is correctly specified.\n",
      "[2] The condition number is large, 1.42e+03. This might indicate that there are\n",
      "strong multicollinearity or other numerical problems.\n",
      "\n",
      "\n",
      "\n",
      "\n",
      "patio size\n",
      "                            OLS Regression Results                            \n",
      "==============================================================================\n",
      "Dep. Variable:                  price   R-squared:                       0.054\n",
      "Model:                            OLS   Adj. R-squared:                  0.054\n",
      "Method:                 Least Squares   F-statistic:                     1288.\n",
      "Date:                Fri, 14 Jul 2023   Prob (F-statistic):          2.74e-274\n",
      "Time:                        12:51:24   Log-Likelihood:            -3.2791e+05\n",
      "No. Observations:               22487   AIC:                         6.558e+05\n",
      "Df Residuals:                   22485   BIC:                         6.558e+05\n",
      "Df Model:                           1                                         \n",
      "Covariance Type:            nonrobust                                         \n",
      "==============================================================================\n",
      "                 coef    std err          t      P>|t|      [0.025      0.975]\n",
      "------------------------------------------------------------------------------\n",
      "const       9.045e+05   5347.239    169.162      0.000    8.94e+05    9.15e+05\n",
      "sqft_patio   539.6956     15.039     35.886      0.000     510.217     569.174\n",
      "==============================================================================\n",
      "Omnibus:                     3511.926   Durbin-Watson:                   2.008\n",
      "Prob(Omnibus):                  0.000   Jarque-Bera (JB):             5521.836\n",
      "Skew:                           1.097   Prob(JB):                         0.00\n",
      "Kurtosis:                       4.039   Cond. No.                         547.\n",
      "==============================================================================\n",
      "\n",
      "Notes:\n",
      "[1] Standard Errors assume that the covariance matrix of the errors is correctly specified.\n"
     ]
    }
   ],
   "source": [
    "features = \"bedrooms bathrooms sqft_living patio garage condition grade\".split()\n",
    "y = df[\"price\"]\n",
    "for feat in features:\n",
    "    X_baseline = df[[feat]]\n",
    "    baseline_model = sm.OLS(y, sm.add_constant(X_baseline))\n",
    "    baseline_results = baseline_model.fit()\n",
    "    print(feat)\n",
    "    print(baseline_results.summary())\n",
    "    print(\"\\n\")\n",
    "    print(\"\\n\")\n",
    "\n",
    "#\n",
    "X_baseline = df_has_garage[[\"sqft_garage\"]]\n",
    "y = df_has_garage[\"price\"]\n",
    "baseline_model = sm.OLS(y, sm.add_constant(X_baseline))\n",
    "baseline_results = baseline_model.fit()\n",
    "print(\"garage size\")\n",
    "print(baseline_results.summary())\n",
    "print(\"\\n\")\n",
    "print(\"\\n\")\n",
    "\n",
    "y = df_has_patio[\"price\"]\n",
    "X_baseline = df_has_patio[[\"sqft_patio\"]]\n",
    "baseline_model = sm.OLS(y, sm.add_constant(X_baseline))\n",
    "baseline_results = baseline_model.fit()\n",
    "print(\"patio size\")\n",
    "print(baseline_results.summary())"
   ]
  },
  {
   "cell_type": "markdown",
   "metadata": {},
   "source": [
    "Woah, so grade and condition barely matter? I'll come back to that later.\n",
    "\n",
    "Bathrooms seem to be accounting for 300,000 dollar's worth of value, but they might be unweildy to add to a home. I will hold onto that if I need to, but for now let's look at the log transformations."
   ]
  },
  {
   "cell_type": "markdown",
   "metadata": {},
   "source": [
    "### Log Transformations\n",
    "Just checking to see if this has a positive effect."
   ]
  },
  {
   "cell_type": "code",
   "execution_count": 133,
   "metadata": {
    "ExecuteTime": {
     "end_time": "2023-07-14T16:51:24.297521Z",
     "start_time": "2023-07-14T16:51:24.201872Z"
    }
   },
   "outputs": [
    {
     "name": "stdout",
     "output_type": "stream",
     "text": [
      "log  bedrooms\n",
      "                            OLS Regression Results                            \n",
      "==============================================================================\n",
      "Dep. Variable:                  price   R-squared:                       0.108\n",
      "Model:                            OLS   Adj. R-squared:                  0.108\n",
      "Method:                 Least Squares   F-statistic:                     3531.\n",
      "Date:                Fri, 14 Jul 2023   Prob (F-statistic):               0.00\n",
      "Time:                        12:51:24   Log-Likelihood:            -4.2309e+05\n",
      "No. Observations:               29124   AIC:                         8.462e+05\n",
      "Df Residuals:                   29122   BIC:                         8.462e+05\n",
      "Df Model:                           1                                         \n",
      "Covariance Type:            nonrobust                                         \n",
      "==============================================================================\n",
      "                 coef    std err          t      P>|t|      [0.025      0.975]\n",
      "------------------------------------------------------------------------------\n",
      "const       3.241e+05   1.17e+04     27.625      0.000    3.01e+05    3.47e+05\n",
      "bedrooms    5.728e+05   9640.395     59.419      0.000    5.54e+05    5.92e+05\n",
      "==============================================================================\n",
      "Omnibus:                     4974.417   Durbin-Watson:                   2.019\n",
      "Prob(Omnibus):                  0.000   Jarque-Bera (JB):             8435.348\n",
      "Skew:                           1.130   Prob(JB):                         0.00\n",
      "Kurtosis:                       4.356   Cond. No.                         8.16\n",
      "==============================================================================\n",
      "\n",
      "Notes:\n",
      "[1] Standard Errors assume that the covariance matrix of the errors is correctly specified.\n",
      "\n",
      "\n",
      "\n",
      "\n",
      "log  bathrooms\n",
      "                            OLS Regression Results                            \n",
      "==============================================================================\n",
      "Dep. Variable:                  price   R-squared:                       0.195\n",
      "Model:                            OLS   Adj. R-squared:                  0.195\n",
      "Method:                 Least Squares   F-statistic:                     7065.\n",
      "Date:                Fri, 14 Jul 2023   Prob (F-statistic):               0.00\n",
      "Time:                        12:51:24   Log-Likelihood:            -4.2159e+05\n",
      "No. Observations:               29124   AIC:                         8.432e+05\n",
      "Df Residuals:                   29122   BIC:                         8.432e+05\n",
      "Df Model:                           1                                         \n",
      "Covariance Type:            nonrobust                                         \n",
      "==============================================================================\n",
      "                 coef    std err          t      P>|t|      [0.025      0.975]\n",
      "------------------------------------------------------------------------------\n",
      "const       5.606e+05   5901.544     94.991      0.000    5.49e+05    5.72e+05\n",
      "bathrooms   5.809e+05   6911.125     84.051      0.000    5.67e+05    5.94e+05\n",
      "==============================================================================\n",
      "Omnibus:                     4478.931   Durbin-Watson:                   2.020\n",
      "Prob(Omnibus):                  0.000   Jarque-Bera (JB):             7276.669\n",
      "Skew:                           1.051   Prob(JB):                         0.00\n",
      "Kurtosis:                       4.256   Cond. No.                         4.11\n",
      "==============================================================================\n",
      "\n",
      "Notes:\n",
      "[1] Standard Errors assume that the covariance matrix of the errors is correctly specified.\n",
      "\n",
      "\n",
      "\n",
      "\n",
      "log  sqft_living\n",
      "                            OLS Regression Results                            \n",
      "==============================================================================\n",
      "Dep. Variable:                  price   R-squared:                       0.331\n",
      "Model:                            OLS   Adj. R-squared:                  0.331\n",
      "Method:                 Least Squares   F-statistic:                 1.438e+04\n",
      "Date:                Fri, 14 Jul 2023   Prob (F-statistic):               0.00\n",
      "Time:                        12:51:24   Log-Likelihood:            -4.1891e+05\n",
      "No. Observations:               29124   AIC:                         8.378e+05\n",
      "Df Residuals:                   29122   BIC:                         8.378e+05\n",
      "Df Model:                           1                                         \n",
      "Covariance Type:            nonrobust                                         \n",
      "===============================================================================\n",
      "                  coef    std err          t      P>|t|      [0.025      0.975]\n",
      "-------------------------------------------------------------------------------\n",
      "const        -4.37e+06   4.48e+04    -97.453      0.000   -4.46e+06   -4.28e+06\n",
      "sqft_living  7.124e+05   5940.276    119.935      0.000    7.01e+05    7.24e+05\n",
      "==============================================================================\n",
      "Omnibus:                     4562.600   Durbin-Watson:                   2.018\n",
      "Prob(Omnibus):                  0.000   Jarque-Bera (JB):            10457.471\n",
      "Skew:                           0.911   Prob(JB):                         0.00\n",
      "Kurtosis:                       5.301   Cond. No.                         138.\n",
      "==============================================================================\n",
      "\n",
      "Notes:\n",
      "[1] Standard Errors assume that the covariance matrix of the errors is correctly specified.\n",
      "\n",
      "\n",
      "\n",
      "\n",
      "log  condition\n",
      "                            OLS Regression Results                            \n",
      "==============================================================================\n",
      "Dep. Variable:                  price   R-squared:                       0.001\n",
      "Model:                            OLS   Adj. R-squared:                  0.001\n",
      "Method:                 Least Squares   F-statistic:                     18.38\n",
      "Date:                Fri, 14 Jul 2023   Prob (F-statistic):           1.81e-05\n",
      "Time:                        12:51:24   Log-Likelihood:            -4.2475e+05\n",
      "No. Observations:               29124   AIC:                         8.495e+05\n",
      "Df Residuals:                   29122   BIC:                         8.495e+05\n",
      "Df Model:                           1                                         \n",
      "Covariance Type:            nonrobust                                         \n",
      "==============================================================================\n",
      "                 coef    std err          t      P>|t|      [0.025      0.975]\n",
      "------------------------------------------------------------------------------\n",
      "const       9.172e+05   1.95e+04     47.071      0.000    8.79e+05    9.55e+05\n",
      "condition   6.725e+04   1.57e+04      4.287      0.000    3.65e+04     9.8e+04\n",
      "==============================================================================\n",
      "Omnibus:                     5661.741   Durbin-Watson:                   2.017\n",
      "Prob(Omnibus):                  0.000   Jarque-Bera (JB):             9999.646\n",
      "Skew:                           1.257   Prob(JB):                         0.00\n",
      "Kurtosis:                       4.387   Cond. No.                         13.0\n",
      "==============================================================================\n",
      "\n",
      "Notes:\n",
      "[1] Standard Errors assume that the covariance matrix of the errors is correctly specified.\n",
      "\n",
      "\n",
      "\n",
      "\n",
      "log  grade\n",
      "                            OLS Regression Results                            \n",
      "==============================================================================\n",
      "Dep. Variable:                  price   R-squared:                       0.070\n",
      "Model:                            OLS   Adj. R-squared:                  0.070\n",
      "Method:                 Least Squares   F-statistic:                     2183.\n",
      "Date:                Fri, 14 Jul 2023   Prob (F-statistic):               0.00\n",
      "Time:                        12:51:24   Log-Likelihood:            -4.2370e+05\n",
      "No. Observations:               29124   AIC:                         8.474e+05\n",
      "Df Residuals:                   29122   BIC:                         8.474e+05\n",
      "Df Model:                           1                                         \n",
      "Covariance Type:            nonrobust                                         \n",
      "==============================================================================\n",
      "                 coef    std err          t      P>|t|      [0.025      0.975]\n",
      "------------------------------------------------------------------------------\n",
      "const       1.611e+06   1.34e+04    120.114      0.000    1.58e+06    1.64e+06\n",
      "grade      -3.196e+05   6840.756    -46.720      0.000   -3.33e+05   -3.06e+05\n",
      "==============================================================================\n",
      "Omnibus:                     4660.895   Durbin-Watson:                   2.009\n",
      "Prob(Omnibus):                  0.000   Jarque-Bera (JB):             7527.378\n",
      "Skew:                           1.098   Prob(JB):                         0.00\n",
      "Kurtosis:                       4.173   Cond. No.                         11.1\n",
      "==============================================================================\n",
      "\n",
      "Notes:\n",
      "[1] Standard Errors assume that the covariance matrix of the errors is correctly specified.\n",
      "\n",
      "\n",
      "\n",
      "\n",
      "log garage size\n",
      "                            OLS Regression Results                            \n",
      "==============================================================================\n",
      "Dep. Variable:                  price   R-squared:                       0.076\n",
      "Model:                            OLS   Adj. R-squared:                  0.076\n",
      "Method:                 Least Squares   F-statistic:                     1597.\n",
      "Date:                Fri, 14 Jul 2023   Prob (F-statistic):               0.00\n",
      "Time:                        12:51:24   Log-Likelihood:            -2.8291e+05\n",
      "No. Observations:               19392   AIC:                         5.658e+05\n",
      "Df Residuals:                   19390   BIC:                         5.658e+05\n",
      "Df Model:                           1                                         \n",
      "Covariance Type:            nonrobust                                         \n",
      "===============================================================================\n",
      "                  coef    std err          t      P>|t|      [0.025      0.975]\n",
      "-------------------------------------------------------------------------------\n",
      "const       -1.275e+06   5.84e+04    -21.815      0.000   -1.39e+06   -1.16e+06\n",
      "sqft_garage  3.814e+05   9545.611     39.960      0.000    3.63e+05       4e+05\n",
      "==============================================================================\n",
      "Omnibus:                     2687.032   Durbin-Watson:                   2.032\n",
      "Prob(Omnibus):                  0.000   Jarque-Bera (JB):             3986.405\n",
      "Skew:                           1.029   Prob(JB):                         0.00\n",
      "Kurtosis:                       3.837   Cond. No.                         97.5\n",
      "==============================================================================\n",
      "\n",
      "Notes:\n",
      "[1] Standard Errors assume that the covariance matrix of the errors is correctly specified.\n",
      "\n",
      "\n",
      "\n",
      "\n",
      "log patio size\n",
      "                            OLS Regression Results                            \n",
      "==============================================================================\n",
      "Dep. Variable:                  price   R-squared:                       0.047\n",
      "Model:                            OLS   Adj. R-squared:                  0.047\n",
      "Method:                 Least Squares   F-statistic:                     1104.\n",
      "Date:                Fri, 14 Jul 2023   Prob (F-statistic):          2.78e-236\n",
      "Time:                        12:51:24   Log-Likelihood:            -3.2800e+05\n",
      "No. Observations:               22487   AIC:                         6.560e+05\n",
      "Df Residuals:                   22485   BIC:                         6.560e+05\n",
      "Df Model:                           1                                         \n",
      "Covariance Type:            nonrobust                                         \n",
      "==============================================================================\n",
      "                 coef    std err          t      P>|t|      [0.025      0.975]\n",
      "------------------------------------------------------------------------------\n",
      "const       3.372e+05   2.18e+04     15.504      0.000    2.95e+05     3.8e+05\n",
      "sqft_patio  1.355e+05   4077.823     33.220      0.000    1.27e+05    1.43e+05\n",
      "==============================================================================\n",
      "Omnibus:                     3480.984   Durbin-Watson:                   2.008\n",
      "Prob(Omnibus):                  0.000   Jarque-Bera (JB):             5415.233\n",
      "Skew:                           1.100   Prob(JB):                         0.00\n",
      "Kurtosis:                       3.971   Cond. No.                         34.4\n",
      "==============================================================================\n",
      "\n",
      "Notes:\n",
      "[1] Standard Errors assume that the covariance matrix of the errors is correctly specified.\n"
     ]
    }
   ],
   "source": [
    "#Can't take the log of anything with 0 as a value\n",
    "df_log = df[df[\"bathrooms\"] > 0].copy()\n",
    "df_log = df_log[df_log[\"bedrooms\"] > 0].copy()\n",
    "df_log[\"condition\"] = df_log[\"condition\"] +1\n",
    "\n",
    "features = \"bedrooms bathrooms sqft_living condition grade\".split()\n",
    "y = df_log[\"price\"]\n",
    "for feat in features:\n",
    "    X_baseline = np.log(df_log[[feat]])\n",
    "    baseline_model = sm.OLS(y, sm.add_constant(X_baseline))\n",
    "    baseline_results = baseline_model.fit()\n",
    "    print(\"log \", feat)\n",
    "    print(baseline_results.summary())\n",
    "    print(\"\\n\")\n",
    "    print(\"\\n\")\n",
    "\n",
    "X_baseline = np.log(df_has_garage[[\"sqft_garage\"]])\n",
    "y = df_has_garage[\"price\"]\n",
    "baseline_model = sm.OLS(y, sm.add_constant(X_baseline))\n",
    "baseline_results = baseline_model.fit()\n",
    "print(\"log garage size\")\n",
    "print(baseline_results.summary())\n",
    "print(\"\\n\")\n",
    "print(\"\\n\")\n",
    "\n",
    "y = df_has_patio[\"price\"]\n",
    "X_baseline = np.log(df_has_patio[[\"sqft_patio\"]])\n",
    "baseline_model = sm.OLS(y, sm.add_constant(X_baseline))\n",
    "baseline_results = baseline_model.fit()\n",
    "print(\"log patio size\")\n",
    "print(baseline_results.summary())"
   ]
  },
  {
   "cell_type": "markdown",
   "metadata": {},
   "source": [
    "Conveniently, none of the features were more accurately predictive when log transformed. Well, condition went from an rsquared of 0 to 0.001, so there's that."
   ]
  },
  {
   "cell_type": "markdown",
   "metadata": {},
   "source": [
    "## Multivariable OLS"
   ]
  },
  {
   "cell_type": "code",
   "execution_count": 134,
   "metadata": {
    "ExecuteTime": {
     "end_time": "2023-07-14T16:51:24.301077Z",
     "start_time": "2023-07-14T16:51:24.298555Z"
    },
    "scrolled": false
   },
   "outputs": [
    {
     "data": {
      "text/plain": [
       "Index(['index', 'price', 'bedrooms', 'bathrooms', 'sqft_living', 'sqft_lot',\n",
       "       'floors', 'waterfront', 'greenbelt', 'nuisance', 'condition', 'grade',\n",
       "       'sqft_garage', 'sqft_patio', 'yr_built',\n",
       "       'heat_source_Electricity/Solar', 'heat_source_Gas',\n",
       "       'heat_source_Gas/Solar', 'heat_source_Oil', 'heat_source_Oil/Solar',\n",
       "       'heat_source_Other', 'sewer_system_PRIVATE RESTRICTED',\n",
       "       'sewer_system_PUBLIC', 'sewer_system_PUBLIC RESTRICTED', 'garage',\n",
       "       'patio'],\n",
       "      dtype='object')"
      ]
     },
     "execution_count": 134,
     "metadata": {},
     "output_type": "execute_result"
    }
   ],
   "source": [
    "df.columns"
   ]
  },
  {
   "cell_type": "code",
   "execution_count": 135,
   "metadata": {
    "ExecuteTime": {
     "end_time": "2023-07-14T16:51:24.405728Z",
     "start_time": "2023-07-14T16:51:24.302115Z"
    }
   },
   "outputs": [
    {
     "name": "stdout",
     "output_type": "stream",
     "text": [
      "                            OLS Regression Results                            \n",
      "==============================================================================\n",
      "Dep. Variable:                  price   R-squared:                       0.423\n",
      "Model:                            OLS   Adj. R-squared:                  0.422\n",
      "Method:                 Least Squares   F-statistic:                     969.6\n",
      "Date:                Fri, 14 Jul 2023   Prob (F-statistic):               0.00\n",
      "Time:                        12:51:24   Log-Likelihood:            -4.1737e+05\n",
      "No. Observations:               29166   AIC:                         8.348e+05\n",
      "Df Residuals:                   29143   BIC:                         8.350e+05\n",
      "Df Model:                          22                                         \n",
      "Covariance Type:            nonrobust                                         \n",
      "===================================================================================================\n",
      "                                      coef    std err          t      P>|t|      [0.025      0.975]\n",
      "---------------------------------------------------------------------------------------------------\n",
      "const                            5.262e+06   2.11e+05     24.991      0.000    4.85e+06    5.67e+06\n",
      "bedrooms                        -6.532e+04   3333.950    -19.591      0.000   -7.18e+04   -5.88e+04\n",
      "bathrooms                        7.267e+04   4764.359     15.252      0.000    6.33e+04     8.2e+04\n",
      "sqft_living                       361.1530      4.971     72.646      0.000     351.409     370.897\n",
      "sqft_lot                            0.2746      0.044      6.280      0.000       0.189       0.360\n",
      "floors                           8.141e+04   5346.617     15.227      0.000    7.09e+04    9.19e+04\n",
      "waterfront                       1.759e+05   2.14e+04      8.210      0.000    1.34e+05    2.18e+05\n",
      "greenbelt                        1.339e+05   1.51e+04      8.881      0.000    1.04e+05    1.64e+05\n",
      "nuisance                         1.887e+04   6279.482      3.004      0.003    6557.571    3.12e+04\n",
      "condition                        3.027e+04   3628.790      8.343      0.000    2.32e+04    3.74e+04\n",
      "grade                            -1.52e+04   1512.797    -10.050      0.000   -1.82e+04   -1.22e+04\n",
      "sqft_garage                        33.0976     11.047      2.996      0.003      11.445      54.750\n",
      "sqft_patio                        138.2454     11.059     12.501      0.000     116.570     159.921\n",
      "yr_built                        -2647.1957    107.964    -24.519      0.000   -2858.809   -2435.582\n",
      "heat_source_Electricity/Solar   -5.854e+04   5.24e+04     -1.117      0.264   -1.61e+05    4.42e+04\n",
      "heat_source_Gas                  3.608e+04   6181.905      5.837      0.000     2.4e+04    4.82e+04\n",
      "heat_source_Gas/Solar            2.243e+05   4.32e+04      5.192      0.000     1.4e+05    3.09e+05\n",
      "heat_source_Oil                  2.839e+04   9569.045      2.967      0.003    9632.715    4.71e+04\n",
      "heat_source_Oil/Solar            -7.49e+04   1.99e+05     -0.377      0.706   -4.64e+05    3.14e+05\n",
      "heat_source_Other                1.789e+05   8.92e+04      2.006      0.045    4124.829    3.54e+05\n",
      "sewer_system_PRIVATE RESTRICTED  2.977e+04   1.78e+05      0.167      0.867   -3.19e+05    3.78e+05\n",
      "sewer_system_PUBLIC              1.298e+05   7503.670     17.293      0.000    1.15e+05    1.44e+05\n",
      "sewer_system_PUBLIC RESTRICTED   1.586e+05   2.29e+05      0.692      0.489   -2.91e+05    6.08e+05\n",
      "==============================================================================\n",
      "Omnibus:                     3341.029   Durbin-Watson:                   2.009\n",
      "Prob(Omnibus):                  0.000   Jarque-Bera (JB):             7181.784\n",
      "Skew:                           0.712   Prob(JB):                         0.00\n",
      "Kurtosis:                       4.970   Cond. No.                     5.91e+06\n",
      "==============================================================================\n",
      "\n",
      "Notes:\n",
      "[1] Standard Errors assume that the covariance matrix of the errors is correctly specified.\n",
      "[2] The condition number is large, 5.91e+06. This might indicate that there are\n",
      "strong multicollinearity or other numerical problems.\n"
     ]
    }
   ],
   "source": [
    "all_x = ['bedrooms', 'bathrooms', 'sqft_living', 'sqft_lot',\n",
    "       'floors', 'waterfront', 'greenbelt', 'nuisance', 'condition', 'grade',\n",
    "       'sqft_garage', 'sqft_patio', 'yr_built',\n",
    "       'heat_source_Electricity/Solar', 'heat_source_Gas',\n",
    "       'heat_source_Gas/Solar', 'heat_source_Oil', 'heat_source_Oil/Solar',\n",
    "       'heat_source_Other', 'sewer_system_PRIVATE RESTRICTED',\n",
    "       'sewer_system_PUBLIC', 'sewer_system_PUBLIC RESTRICTED']\n",
    "y = df[\"price\"]\n",
    "all_model = sm.OLS(y, sm.add_constant(df[all_x]))\n",
    "all_results = all_model.fit()\n",
    "print(all_results.summary())"
   ]
  },
  {
   "cell_type": "markdown",
   "metadata": {},
   "source": [
    "Bathrooms lost a lot of perceived value when everything was taken together. We're down to about 73,000 dollars per bathroom."
   ]
  },
  {
   "cell_type": "markdown",
   "metadata": {},
   "source": [
    "There were a few features that had statistically insignificant values. Those features were predominantly ones with very small samples. Either way, let's recalculate the model without them."
   ]
  },
  {
   "cell_type": "code",
   "execution_count": 136,
   "metadata": {
    "ExecuteTime": {
     "end_time": "2023-07-14T16:51:24.488367Z",
     "start_time": "2023-07-14T16:51:24.406810Z"
    }
   },
   "outputs": [
    {
     "name": "stdout",
     "output_type": "stream",
     "text": [
      "                            OLS Regression Results                            \n",
      "==============================================================================\n",
      "Dep. Variable:                  price   R-squared:                       0.422\n",
      "Model:                            OLS   Adj. R-squared:                  0.422\n",
      "Method:                 Least Squares   F-statistic:                     1254.\n",
      "Date:                Fri, 14 Jul 2023   Prob (F-statistic):               0.00\n",
      "Time:                        12:51:24   Log-Likelihood:            -4.1737e+05\n",
      "No. Observations:               29166   AIC:                         8.348e+05\n",
      "Df Residuals:                   29148   BIC:                         8.349e+05\n",
      "Df Model:                          17                                         \n",
      "Covariance Type:            nonrobust                                         \n",
      "=========================================================================================\n",
      "                            coef    std err          t      P>|t|      [0.025      0.975]\n",
      "-----------------------------------------------------------------------------------------\n",
      "const                  5.258e+06   2.11e+05     24.977      0.000    4.85e+06    5.67e+06\n",
      "bedrooms              -6.536e+04   3333.507    -19.607      0.000   -7.19e+04   -5.88e+04\n",
      "bathrooms              7.259e+04   4763.825     15.237      0.000    6.32e+04    8.19e+04\n",
      "sqft_living             361.1893      4.970     72.667      0.000     351.447     370.932\n",
      "sqft_lot                  0.2784      0.044      6.373      0.000       0.193       0.364\n",
      "floors                 8.134e+04   5343.991     15.222      0.000    7.09e+04    9.18e+04\n",
      "waterfront             1.776e+05   2.14e+04      8.301      0.000    1.36e+05     2.2e+05\n",
      "greenbelt               1.34e+05   1.51e+04      8.883      0.000    1.04e+05    1.64e+05\n",
      "nuisance               1.893e+04   6279.286      3.015      0.003    6621.231    3.12e+04\n",
      "condition              3.016e+04   3627.501      8.314      0.000     2.3e+04    3.73e+04\n",
      "grade                 -1.527e+04   1512.383    -10.097      0.000   -1.82e+04   -1.23e+04\n",
      "sqft_garage              32.8572     11.046      2.974      0.003      11.206      54.508\n",
      "sqft_patio              138.1293     11.058     12.491      0.000     116.455     159.804\n",
      "yr_built              -2644.5044    107.948    -24.498      0.000   -2856.086   -2432.922\n",
      "heat_source_Gas        3.628e+04   6155.274      5.894      0.000    2.42e+04    4.83e+04\n",
      "heat_source_Gas/Solar  2.245e+05   4.32e+04      5.197      0.000     1.4e+05    3.09e+05\n",
      "heat_source_Oil        2.844e+04   9552.754      2.978      0.003    9719.799    4.72e+04\n",
      "sewer_system_PUBLIC    1.292e+05   7495.542     17.236      0.000    1.14e+05    1.44e+05\n",
      "==============================================================================\n",
      "Omnibus:                     3344.897   Durbin-Watson:                   2.009\n",
      "Prob(Omnibus):                  0.000   Jarque-Bera (JB):             7200.093\n",
      "Skew:                           0.712   Prob(JB):                         0.00\n",
      "Kurtosis:                       4.974   Cond. No.                     5.42e+06\n",
      "==============================================================================\n",
      "\n",
      "Notes:\n",
      "[1] Standard Errors assume that the covariance matrix of the errors is correctly specified.\n",
      "[2] The condition number is large, 5.42e+06. This might indicate that there are\n",
      "strong multicollinearity or other numerical problems.\n"
     ]
    }
   ],
   "source": [
    "all_x = ['bedrooms', 'bathrooms', 'sqft_living', 'sqft_lot',\n",
    "       'floors', 'waterfront', 'greenbelt', 'nuisance', 'condition', 'grade',\n",
    "       'sqft_garage', 'sqft_patio', 'yr_built', 'heat_source_Gas',\n",
    "       'heat_source_Gas/Solar', 'heat_source_Oil', 'sewer_system_PUBLIC']\n",
    "y = df[\"price\"]\n",
    "all_model = sm.OLS(y, sm.add_constant(df[all_x]))\n",
    "all_results = all_model.fit()\n",
    "print(all_results.summary())"
   ]
  },
  {
   "cell_type": "markdown",
   "metadata": {},
   "source": [
    "I lost a point of explanatory power by doing that, but it's only a tiny amount.\n",
    "#### The model is explaining 42.2% of the variability for price.\n",
    "Building a patio, garage, new bedroom, new bathroom, and extended living room will affect the house's price. But will those prices be affected by other factors in the house?"
   ]
  },
  {
   "cell_type": "markdown",
   "metadata": {},
   "source": [
    "# Testing Assumptions for Linear Regression"
   ]
  },
  {
   "cell_type": "markdown",
   "metadata": {},
   "source": [
    "### Multicollinearity"
   ]
  },
  {
   "cell_type": "code",
   "execution_count": 137,
   "metadata": {
    "ExecuteTime": {
     "end_time": "2023-07-14T16:51:24.501053Z",
     "start_time": "2023-07-14T16:51:24.489463Z"
    },
    "scrolled": true
   },
   "outputs": [
    {
     "data": {
      "text/html": [
       "<div>\n",
       "<style scoped>\n",
       "    .dataframe tbody tr th:only-of-type {\n",
       "        vertical-align: middle;\n",
       "    }\n",
       "\n",
       "    .dataframe tbody tr th {\n",
       "        vertical-align: top;\n",
       "    }\n",
       "\n",
       "    .dataframe thead th {\n",
       "        text-align: right;\n",
       "    }\n",
       "</style>\n",
       "<table border=\"1\" class=\"dataframe\">\n",
       "  <thead>\n",
       "    <tr style=\"text-align: right;\">\n",
       "      <th></th>\n",
       "      <th>price</th>\n",
       "      <th>bedrooms</th>\n",
       "      <th>bathrooms</th>\n",
       "      <th>greenbelt</th>\n",
       "      <th>nuisance</th>\n",
       "      <th>waterfront</th>\n",
       "      <th>condition</th>\n",
       "      <th>grade</th>\n",
       "      <th>heat_source_Gas</th>\n",
       "      <th>sewer_system_PUBLIC</th>\n",
       "    </tr>\n",
       "  </thead>\n",
       "  <tbody>\n",
       "    <tr>\n",
       "      <th>price</th>\n",
       "      <td>1.000000</td>\n",
       "      <td>0.337745</td>\n",
       "      <td>0.474533</td>\n",
       "      <td>0.114501</td>\n",
       "      <td>-0.019381</td>\n",
       "      <td>0.053918</td>\n",
       "      <td>0.021909</td>\n",
       "      <td>-0.090153</td>\n",
       "      <td>0.186523</td>\n",
       "      <td>0.020572</td>\n",
       "    </tr>\n",
       "    <tr>\n",
       "      <th>bedrooms</th>\n",
       "      <td>0.337745</td>\n",
       "      <td>1.000000</td>\n",
       "      <td>0.571455</td>\n",
       "      <td>0.065638</td>\n",
       "      <td>-0.053210</td>\n",
       "      <td>-0.053939</td>\n",
       "      <td>0.042258</td>\n",
       "      <td>0.053442</td>\n",
       "      <td>0.222307</td>\n",
       "      <td>0.033242</td>\n",
       "    </tr>\n",
       "    <tr>\n",
       "      <th>bathrooms</th>\n",
       "      <td>0.474533</td>\n",
       "      <td>0.571455</td>\n",
       "      <td>1.000000</td>\n",
       "      <td>0.096227</td>\n",
       "      <td>-0.060714</td>\n",
       "      <td>-0.006669</td>\n",
       "      <td>-0.057319</td>\n",
       "      <td>0.073074</td>\n",
       "      <td>0.269086</td>\n",
       "      <td>0.034733</td>\n",
       "    </tr>\n",
       "    <tr>\n",
       "      <th>greenbelt</th>\n",
       "      <td>0.114501</td>\n",
       "      <td>0.065638</td>\n",
       "      <td>0.096227</td>\n",
       "      <td>1.000000</td>\n",
       "      <td>-0.052575</td>\n",
       "      <td>-0.018075</td>\n",
       "      <td>-0.029180</td>\n",
       "      <td>-0.051461</td>\n",
       "      <td>0.089172</td>\n",
       "      <td>0.030089</td>\n",
       "    </tr>\n",
       "    <tr>\n",
       "      <th>nuisance</th>\n",
       "      <td>-0.019381</td>\n",
       "      <td>-0.053210</td>\n",
       "      <td>-0.060714</td>\n",
       "      <td>-0.052575</td>\n",
       "      <td>1.000000</td>\n",
       "      <td>-0.001472</td>\n",
       "      <td>-0.017809</td>\n",
       "      <td>-0.021380</td>\n",
       "      <td>-0.091014</td>\n",
       "      <td>0.003203</td>\n",
       "    </tr>\n",
       "    <tr>\n",
       "      <th>waterfront</th>\n",
       "      <td>0.053918</td>\n",
       "      <td>-0.053939</td>\n",
       "      <td>-0.006669</td>\n",
       "      <td>-0.018075</td>\n",
       "      <td>-0.001472</td>\n",
       "      <td>1.000000</td>\n",
       "      <td>0.005158</td>\n",
       "      <td>-0.039201</td>\n",
       "      <td>-0.066067</td>\n",
       "      <td>-0.151244</td>\n",
       "    </tr>\n",
       "    <tr>\n",
       "      <th>condition</th>\n",
       "      <td>0.021909</td>\n",
       "      <td>0.042258</td>\n",
       "      <td>-0.057319</td>\n",
       "      <td>-0.029180</td>\n",
       "      <td>-0.017809</td>\n",
       "      <td>0.005158</td>\n",
       "      <td>1.000000</td>\n",
       "      <td>-0.035073</td>\n",
       "      <td>0.018055</td>\n",
       "      <td>-0.094539</td>\n",
       "    </tr>\n",
       "    <tr>\n",
       "      <th>grade</th>\n",
       "      <td>-0.090153</td>\n",
       "      <td>0.053442</td>\n",
       "      <td>0.073074</td>\n",
       "      <td>-0.051461</td>\n",
       "      <td>-0.021380</td>\n",
       "      <td>-0.039201</td>\n",
       "      <td>-0.035073</td>\n",
       "      <td>1.000000</td>\n",
       "      <td>0.044914</td>\n",
       "      <td>0.095293</td>\n",
       "    </tr>\n",
       "    <tr>\n",
       "      <th>heat_source_Gas</th>\n",
       "      <td>0.186523</td>\n",
       "      <td>0.222307</td>\n",
       "      <td>0.269086</td>\n",
       "      <td>0.089172</td>\n",
       "      <td>-0.091014</td>\n",
       "      <td>-0.066067</td>\n",
       "      <td>0.018055</td>\n",
       "      <td>0.044914</td>\n",
       "      <td>1.000000</td>\n",
       "      <td>0.135813</td>\n",
       "    </tr>\n",
       "    <tr>\n",
       "      <th>sewer_system_PUBLIC</th>\n",
       "      <td>0.020572</td>\n",
       "      <td>0.033242</td>\n",
       "      <td>0.034733</td>\n",
       "      <td>0.030089</td>\n",
       "      <td>0.003203</td>\n",
       "      <td>-0.151244</td>\n",
       "      <td>-0.094539</td>\n",
       "      <td>0.095293</td>\n",
       "      <td>0.135813</td>\n",
       "      <td>1.000000</td>\n",
       "    </tr>\n",
       "  </tbody>\n",
       "</table>\n",
       "</div>"
      ],
      "text/plain": [
       "                        price  bedrooms  bathrooms  greenbelt  nuisance  \\\n",
       "price                1.000000  0.337745   0.474533   0.114501 -0.019381   \n",
       "bedrooms             0.337745  1.000000   0.571455   0.065638 -0.053210   \n",
       "bathrooms            0.474533  0.571455   1.000000   0.096227 -0.060714   \n",
       "greenbelt            0.114501  0.065638   0.096227   1.000000 -0.052575   \n",
       "nuisance            -0.019381 -0.053210  -0.060714  -0.052575  1.000000   \n",
       "waterfront           0.053918 -0.053939  -0.006669  -0.018075 -0.001472   \n",
       "condition            0.021909  0.042258  -0.057319  -0.029180 -0.017809   \n",
       "grade               -0.090153  0.053442   0.073074  -0.051461 -0.021380   \n",
       "heat_source_Gas      0.186523  0.222307   0.269086   0.089172 -0.091014   \n",
       "sewer_system_PUBLIC  0.020572  0.033242   0.034733   0.030089  0.003203   \n",
       "\n",
       "                     waterfront  condition     grade  heat_source_Gas  \\\n",
       "price                  0.053918   0.021909 -0.090153         0.186523   \n",
       "bedrooms              -0.053939   0.042258  0.053442         0.222307   \n",
       "bathrooms             -0.006669  -0.057319  0.073074         0.269086   \n",
       "greenbelt             -0.018075  -0.029180 -0.051461         0.089172   \n",
       "nuisance              -0.001472  -0.017809 -0.021380        -0.091014   \n",
       "waterfront             1.000000   0.005158 -0.039201        -0.066067   \n",
       "condition              0.005158   1.000000 -0.035073         0.018055   \n",
       "grade                 -0.039201  -0.035073  1.000000         0.044914   \n",
       "heat_source_Gas       -0.066067   0.018055  0.044914         1.000000   \n",
       "sewer_system_PUBLIC   -0.151244  -0.094539  0.095293         0.135813   \n",
       "\n",
       "                     sewer_system_PUBLIC  \n",
       "price                           0.020572  \n",
       "bedrooms                        0.033242  \n",
       "bathrooms                       0.034733  \n",
       "greenbelt                       0.030089  \n",
       "nuisance                        0.003203  \n",
       "waterfront                     -0.151244  \n",
       "condition                      -0.094539  \n",
       "grade                           0.095293  \n",
       "heat_source_Gas                 0.135813  \n",
       "sewer_system_PUBLIC             1.000000  "
      ]
     },
     "execution_count": 137,
     "metadata": {},
     "output_type": "execute_result"
    }
   ],
   "source": [
    "data_pred = df[[\"price\", \"bedrooms\", \"bathrooms\", \"greenbelt\", \"nuisance\", \n",
    "                \"waterfront\", \"condition\", \"grade\", \"heat_source_Gas\",\n",
    "               \"sewer_system_PUBLIC\"]]\n",
    "data_pred.corr()"
   ]
  },
  {
   "cell_type": "markdown",
   "metadata": {},
   "source": [
    "Ok good, none of the variables that I care about had a strong positive correlation with one another."
   ]
  },
  {
   "cell_type": "markdown",
   "metadata": {
    "ExecuteTime": {
     "end_time": "2023-07-04T19:05:41.142066Z",
     "start_time": "2023-07-04T19:05:41.133230Z"
    }
   },
   "source": [
    "### Linearity"
   ]
  },
  {
   "cell_type": "code",
   "execution_count": 138,
   "metadata": {
    "ExecuteTime": {
     "end_time": "2023-07-14T16:51:24.588730Z",
     "start_time": "2023-07-14T16:51:24.502056Z"
    }
   },
   "outputs": [
    {
     "name": "stdout",
     "output_type": "stream",
     "text": [
      "bedrooms\n",
      "0.10071057383103876\n",
      "\n",
      "\n",
      "bathrooms\n",
      "0.13201488724335098\n",
      "\n",
      "\n",
      "sqft_living\n",
      "0.016513198247591288\n",
      "\n",
      "\n",
      "sqft_patio\n",
      "0.08918607076638364\n",
      "\n",
      "\n",
      "sqft_garage\n",
      "0.13425603555854584\n",
      "\n",
      "\n",
      "condition\n",
      "0.13997660908783063\n",
      "\n",
      "\n",
      "grade\n",
      "0.13886449205059448\n",
      "\n",
      "\n"
     ]
    }
   ],
   "source": [
    "from statsmodels.stats.diagnostic import linear_rainbow\n",
    "\n",
    "feats = [\"bedrooms\", \"bathrooms\", \"sqft_living\",\"sqft_patio\", \"sqft_garage\",\n",
    "        \"condition\", \"grade\"]\n",
    "\n",
    "for feat in feats:\n",
    "    y = df[\"price\"]\n",
    "    X = df[[feat]]\n",
    "    linear_model = sm.OLS(y, sm.add_constant(X))\n",
    "    linear_results = linear_model.fit()\n",
    "    print(feat)\n",
    "    print(linear_rainbow(linear_results)[1])\n",
    "    print(\"\\n\")"
   ]
  },
  {
   "cell_type": "markdown",
   "metadata": {},
   "source": [
    "Sqft_living ended up failing the linearity assumption. However, it didn't improve its predictive capabilities when I log-transformed it. I wonder if there are other transformations I will learn when I become a more mature analyst?"
   ]
  },
  {
   "cell_type": "markdown",
   "metadata": {},
   "source": [
    "### Normality\n",
    "Every single one of the above features failed the JB test for normality."
   ]
  },
  {
   "cell_type": "code",
   "execution_count": 140,
   "metadata": {
    "ExecuteTime": {
     "end_time": "2023-07-14T16:51:24.762651Z",
     "start_time": "2023-07-14T16:51:24.659656Z"
    }
   },
   "outputs": [
    {
     "data": {
      "image/png": "[encoded data removed]",
      "text/plain": [
       "<Figure size 432x288 with 1 Axes>"
      ]
     },
     "metadata": {
      "needs_background": "light"
     },
     "output_type": "display_data"
    }
   ],
   "source": [
    "#Just looking at the QQ plots\n",
    "fig, ax = plt.subplots()\n",
    "sm.graphics.qqplot(df[\"sqft_living\"], dist=stats.norm, line='45', fit=True,\n",
    "                   ax=ax)\n",
    "\n",
    "scatter = ax.lines[0]\n",
    "line = ax.lines[1]\n",
    "scatter.set_markeredgecolor(\"black\")\n",
    "scatter.set_markerfacecolor(\"turquoise\")\n",
    "line.set_color(\"black\")\n",
    "fig.suptitle(\"Sq ft living\");"
   ]
  },
  {
   "cell_type": "markdown",
   "metadata": {},
   "source": [
    "Hmmmmmmmm"
   ]
  },
  {
   "cell_type": "code",
   "execution_count": 141,
   "metadata": {
    "ExecuteTime": {
     "end_time": "2023-07-14T16:51:24.767795Z",
     "start_time": "2023-07-14T16:51:24.763811Z"
    }
   },
   "outputs": [],
   "source": [
    "#Maybe it's an issue with outliers on the variables? Testing living room area\n",
    "2410-1370 #sqft_living IQR\n",
    "no_outlier_lv = df[(df[\"sqft_living\"] < 3450) & \n",
    "                   (df[\"sqft_living\"] > 330)].copy()"
   ]
  },
  {
   "cell_type": "code",
   "execution_count": 142,
   "metadata": {
    "ExecuteTime": {
     "end_time": "2023-07-14T16:51:24.780671Z",
     "start_time": "2023-07-14T16:51:24.768784Z"
    }
   },
   "outputs": [
    {
     "name": "stdout",
     "output_type": "stream",
     "text": [
      "outlier-less living room JB test\n",
      "0.0\n"
     ]
    }
   ],
   "source": [
    "y = no_outlier_lv[\"price\"]\n",
    "X_baseline = no_outlier_lv[[\"sqft_living\"]]\n",
    "baseline_model = sm.OLS(y, sm.add_constant(X_baseline))\n",
    "baseline_results = baseline_model.fit()\n",
    "print(\"outlier-less living room JB test\")\n",
    "print(jarque_bera(baseline_results.resid)[1])"
   ]
  },
  {
   "cell_type": "markdown",
   "metadata": {},
   "source": [
    "Alright, so nothing has normally distributed residuals. I wonder what could cause that?"
   ]
  },
  {
   "cell_type": "markdown",
   "metadata": {},
   "source": [
    "### Homoschedasticity"
   ]
  },
  {
   "cell_type": "code",
   "execution_count": 143,
   "metadata": {
    "ExecuteTime": {
     "end_time": "2023-07-14T16:51:24.783522Z",
     "start_time": "2023-07-14T16:51:24.781701Z"
    }
   },
   "outputs": [],
   "source": [
    "from statsmodels.stats.diagnostic import het_goldfeldquandt"
   ]
  },
  {
   "cell_type": "code",
   "execution_count": 144,
   "metadata": {
    "ExecuteTime": {
     "end_time": "2023-07-14T16:51:24.926950Z",
     "start_time": "2023-07-14T16:51:24.784534Z"
    }
   },
   "outputs": [
    {
     "name": "stdout",
     "output_type": "stream",
     "text": [
      "bedrooms\n",
      "(0.9891743878554159, 0.5110655890462095, 'two-sided')\n",
      "\n",
      "\n",
      "bathrooms\n",
      "(0.9835483165441863, 0.31655708419922834, 'two-sided')\n",
      "\n",
      "\n",
      "sqft_living\n",
      "(0.9915652507406674, 0.6090545385444139, 'two-sided')\n",
      "\n",
      "\n",
      "sqft_patio\n",
      "(1.0004443777905307, 0.9785999418459354, 'two-sided')\n",
      "\n",
      "\n",
      "sqft_garage\n",
      "(0.982649503725694, 0.29062223820481975, 'two-sided')\n",
      "\n",
      "\n",
      "condition\n",
      "(0.9929829926538526, 0.6707211920921984, 'two-sided')\n",
      "\n",
      "\n",
      "grade\n",
      "(1.0238054572580597, 0.15547867671441595, 'two-sided')\n",
      "\n",
      "\n"
     ]
    }
   ],
   "source": [
    "for feat in feats:\n",
    "    y = df[\"price\"]\n",
    "    X = df[[feat]]\n",
    "    linear_model = sm.OLS(y, sm.add_constant(X))\n",
    "    linear_results = linear_model.fit()\n",
    "    print(feat)\n",
    "    print(het_goldfeldquandt(y, X, alternative='two-sided'))\n",
    "    print(\"\\n\")"
   ]
  },
  {
   "cell_type": "markdown",
   "metadata": {},
   "source": [
    "\"Grade\" was close, but everything passed."
   ]
  },
  {
   "cell_type": "code",
   "execution_count": 145,
   "metadata": {
    "ExecuteTime": {
     "end_time": "2023-07-14T16:51:24.970917Z",
     "start_time": "2023-07-14T16:51:24.927976Z"
    },
    "scrolled": true
   },
   "outputs": [
    {
     "name": "stdout",
     "output_type": "stream",
     "text": [
      "bedrooms KstestResult(statistic=0.2356441631250481, pvalue=0.0)\n",
      "bathrooms KstestResult(statistic=0.15241724062347806, pvalue=0.0)\n",
      "sqft_living KstestResult(statistic=0.07387380989963549, pvalue=7.248823650092233e-139)\n",
      "sqft_patio KstestResult(statistic=0.18496369527764334, pvalue=0.0)\n",
      "sqft_garage KstestResult(statistic=0.2129547483536784, pvalue=0.0)\n",
      "condition KstestResult(statistic=0.3717056737731804, pvalue=0.0)\n",
      "grade KstestResult(statistic=0.30079623538660105, pvalue=0.0)\n"
     ]
    }
   ],
   "source": [
    "import scipy\n",
    "for feat in feats:\n",
    "    print(feat, scipy.stats.kstest(df[feat], \n",
    "                    \"norm\", args = (np.mean(df[feat]), np.std(df[feat]))))"
   ]
  },
  {
   "cell_type": "markdown",
   "metadata": {},
   "source": [
    "Great"
   ]
  },
  {
   "cell_type": "markdown",
   "metadata": {},
   "source": [
    "# Testing other transformations and subsets"
   ]
  },
  {
   "cell_type": "markdown",
   "metadata": {
    "ExecuteTime": {
     "end_time": "2023-07-07T07:26:42.373645Z",
     "start_time": "2023-07-07T07:26:42.368810Z"
    }
   },
   "source": [
    "## Higher order regressions"
   ]
  },
  {
   "cell_type": "code",
   "execution_count": 146,
   "metadata": {
    "ExecuteTime": {
     "end_time": "2023-07-14T16:51:25.089604Z",
     "start_time": "2023-07-14T16:51:24.972081Z"
    }
   },
   "outputs": [
    {
     "name": "stdout",
     "output_type": "stream",
     "text": [
      "bedrooms\n",
      "change from original = -0.010162156495328145\n",
      "\n",
      "\n",
      "bathrooms\n",
      "change from original = -0.0025538518203890304\n",
      "\n",
      "\n",
      "sqft_living\n",
      "change from original = -0.013876879498876948\n",
      "\n",
      "\n",
      "sqft_patio\n",
      "change from original = -0.039393405625060884\n",
      "\n",
      "\n",
      "sqft_garage\n",
      "change from original = -0.006099661346317009\n",
      "\n",
      "\n",
      "condition\n",
      "change from original = -6.416779921869509e-05\n",
      "\n",
      "\n",
      "grade\n",
      "change from original = -0.0023535009906787696\n",
      "\n",
      "\n"
     ]
    }
   ],
   "source": [
    "#2nd power?\n",
    "for feat in feats:\n",
    "    df_quad = df.copy()\n",
    "    df_quad[feat] = df_quad[feat]**2\n",
    "    sq_results = sm.OLS(df_quad[\"price\"], #The squared data's results\n",
    "                             sm.add_constant(df_quad[feat])).fit()\n",
    "    norm_results = sm.OLS(df[\"price\"], #The original OLS to compare\n",
    "                             sm.add_constant(df[feat])).fit()\n",
    "    print(feat)\n",
    "    print(\"change from original =\", sq_results.rsquared-norm_results.rsquared)\n",
    "    print(\"\\n\")"
   ]
  },
  {
   "cell_type": "code",
   "execution_count": 147,
   "metadata": {
    "ExecuteTime": {
     "end_time": "2023-07-14T16:51:25.206716Z",
     "start_time": "2023-07-14T16:51:25.090691Z"
    }
   },
   "outputs": [
    {
     "name": "stdout",
     "output_type": "stream",
     "text": [
      "bedrooms\n",
      "change= -0.03525135563589066\n",
      "\n",
      "\n",
      "bathrooms\n",
      "change= -0.04477990860548231\n",
      "\n",
      "\n",
      "sqft_living\n",
      "change= -0.08112668754173757\n",
      "\n",
      "\n",
      "sqft_patio\n",
      "change= -0.0667661592214972\n",
      "\n",
      "\n",
      "sqft_garage\n",
      "change= -0.05370167144523619\n",
      "\n",
      "\n",
      "condition\n",
      "change= -1.7818655756451918e-05\n",
      "\n",
      "\n",
      "grade\n",
      "change= 0.02627087826559571\n",
      "\n",
      "\n"
     ]
    }
   ],
   "source": [
    "#3rd power?\n",
    "for feat in feats:\n",
    "    df_third = df.copy()\n",
    "    df_third[feat] = df_third[feat]**3\n",
    "    norm_results = sm.OLS(df[\"price\"], \n",
    "                             sm.add_constant(df[feat])).fit() \n",
    "    cbd_results = sm.OLS(df_third[\"price\"], \n",
    "                         sm.add_constant(df_third[feat])).fit()\n",
    "    print(feat)\n",
    "    print(\"change=\", cbd_results.rsquared - norm_results.rsquared)\n",
    "    print(\"\\n\")"
   ]
  },
  {
   "cell_type": "markdown",
   "metadata": {},
   "source": [
    "That didn't improve anything."
   ]
  },
  {
   "cell_type": "markdown",
   "metadata": {},
   "source": [
    "## Slicing categorical values?"
   ]
  },
  {
   "cell_type": "markdown",
   "metadata": {},
   "source": [
    "I'm going to see if things are more significant if we just have houses with certain binary features."
   ]
  },
  {
   "cell_type": "code",
   "execution_count": 148,
   "metadata": {
    "ExecuteTime": {
     "end_time": "2023-07-14T16:51:25.212942Z",
     "start_time": "2023-07-14T16:51:25.207858Z"
    }
   },
   "outputs": [],
   "source": [
    "#New dfs for each feature.\n",
    "waterfront_df = df[df[\"waterfront\"]==1].copy()\n",
    "greenbelt_df = df[df[\"greenbelt\"]==1].copy()\n",
    "nuisance_df = df[df[\"nuisance\"]==1].copy()"
   ]
  },
  {
   "cell_type": "code",
   "execution_count": 149,
   "metadata": {
    "ExecuteTime": {
     "end_time": "2023-07-14T16:51:25.228510Z",
     "start_time": "2023-07-14T16:51:25.214120Z"
    }
   },
   "outputs": [
    {
     "name": "stdout",
     "output_type": "stream",
     "text": [
      "                            OLS Regression Results                            \n",
      "==============================================================================\n",
      "Dep. Variable:                  price   R-squared:                       0.384\n",
      "Model:                            OLS   Adj. R-squared:                  0.359\n",
      "Method:                 Least Squares   F-statistic:                     15.53\n",
      "Date:                Fri, 14 Jul 2023   Prob (F-statistic):           3.01e-29\n",
      "Time:                        12:51:25   Log-Likelihood:                -5320.9\n",
      "No. Observations:                 364   AIC:                         1.067e+04\n",
      "Df Residuals:                     349   BIC:                         1.073e+04\n",
      "Df Model:                          14                                         \n",
      "Covariance Type:            nonrobust                                         \n",
      "=========================================================================================\n",
      "                            coef    std err          t      P>|t|      [0.025      0.975]\n",
      "-----------------------------------------------------------------------------------------\n",
      "bedrooms              -2.607e+04   3.75e+04     -0.695      0.488   -9.99e+04    4.77e+04\n",
      "bathrooms              1.226e+05   5.23e+04      2.344      0.020    1.97e+04    2.25e+05\n",
      "sqft_living             214.1902     52.752      4.060      0.000     110.438     317.942\n",
      "sqft_lot                  0.3379      0.180      1.876      0.061      -0.016       0.692\n",
      "floors                  2.63e+04   6.92e+04      0.380      0.704    -1.1e+05    1.62e+05\n",
      "waterfront             -4.87e+05   2.55e+06     -0.191      0.849   -5.51e+06    4.54e+06\n",
      "greenbelt             -7.423e-10   3.97e-09     -0.187      0.852   -8.55e-09    7.07e-09\n",
      "nuisance              -8.828e+04   8.12e+04     -1.087      0.278   -2.48e+05    7.14e+04\n",
      "condition              3433.9116   3.74e+04      0.092      0.927   -7.01e+04     7.7e+04\n",
      "grade                 -7950.1904   1.49e+04     -0.534      0.594   -3.72e+04    2.13e+04\n",
      "sqft_garage             113.8832    115.826      0.983      0.326    -113.921     341.688\n",
      "sqft_patio               36.2968     92.679      0.392      0.696    -145.982     218.576\n",
      "yr_built                433.6561   1306.414      0.332      0.740   -2135.778    3003.090\n",
      "heat_source_Gas        1.225e+05   7.01e+04      1.746      0.082   -1.55e+04     2.6e+05\n",
      "heat_source_Gas/Solar  7.457e-11    3.9e-10      0.191      0.848   -6.92e-10    8.41e-10\n",
      "heat_source_Oil        2.439e+04   1.04e+05      0.234      0.815   -1.81e+05     2.3e+05\n",
      "sewer_system_PUBLIC    3.407e+05   6.66e+04      5.116      0.000     2.1e+05    4.72e+05\n",
      "==============================================================================\n",
      "Omnibus:                        9.678   Durbin-Watson:                   2.020\n",
      "Prob(Omnibus):                  0.008   Jarque-Bera (JB):               10.005\n",
      "Skew:                           0.406   Prob(JB):                      0.00672\n",
      "Kurtosis:                       2.973   Cond. No.                     1.96e+23\n",
      "==============================================================================\n",
      "\n",
      "Notes:\n",
      "[1] Standard Errors assume that the covariance matrix of the errors is correctly specified.\n",
      "[2] The smallest eigenvalue is 3.08e-34. This might indicate that there are\n",
      "strong multicollinearity problems or that the design matrix is singular.\n"
     ]
    }
   ],
   "source": [
    "all_x = ['bedrooms', 'bathrooms', 'sqft_living', 'sqft_lot',\n",
    "       'floors', \"waterfront\", 'greenbelt', 'nuisance', 'condition', 'grade',\n",
    "       'sqft_garage', 'sqft_patio', 'yr_built', 'heat_source_Gas',\n",
    "       'heat_source_Gas/Solar', 'heat_source_Oil', 'sewer_system_PUBLIC']\n",
    "\n",
    "waterfront_model = sm.OLS(waterfront_df[\"price\"], sm.add_constant(waterfront_df[all_x]))\n",
    "waterfront_results = waterfront_model.fit()\n",
    "print(waterfront_results.summary())"
   ]
  },
  {
   "cell_type": "markdown",
   "metadata": {},
   "source": [
    "Waterfront houses only explain 38% of the variance."
   ]
  },
  {
   "cell_type": "code",
   "execution_count": 150,
   "metadata": {
    "ExecuteTime": {
     "end_time": "2023-07-14T16:51:25.246211Z",
     "start_time": "2023-07-14T16:51:25.229752Z"
    }
   },
   "outputs": [
    {
     "name": "stdout",
     "output_type": "stream",
     "text": [
      "                            OLS Regression Results                            \n",
      "==============================================================================\n",
      "Dep. Variable:                  price   R-squared:                       0.581\n",
      "Model:                            OLS   Adj. R-squared:                  0.572\n",
      "Method:                 Least Squares   F-statistic:                     66.35\n",
      "Date:                Fri, 14 Jul 2023   Prob (F-statistic):          1.51e-124\n",
      "Time:                        12:51:25   Log-Likelihood:                -10495.\n",
      "No. Observations:                 735   AIC:                         2.102e+04\n",
      "Df Residuals:                     719   BIC:                         2.110e+04\n",
      "Df Model:                          15                                         \n",
      "Covariance Type:            nonrobust                                         \n",
      "=========================================================================================\n",
      "                            coef    std err          t      P>|t|      [0.025      0.975]\n",
      "-----------------------------------------------------------------------------------------\n",
      "bedrooms              -7.304e+04   2.24e+04     -3.268      0.001   -1.17e+05   -2.92e+04\n",
      "bathrooms              1.076e+05   3.54e+04      3.041      0.002    3.81e+04    1.77e+05\n",
      "sqft_living             395.9715     30.963     12.788      0.000     335.182     456.761\n",
      "sqft_lot                  1.3871      1.250      1.110      0.268      -1.067       3.841\n",
      "floors                 2.101e+04   4.28e+04      0.490      0.624   -6.31e+04    1.05e+05\n",
      "waterfront             2.115e-08   6.75e-09      3.133      0.002    7.89e-09    3.44e-08\n",
      "greenbelt              7.681e+06   2.61e+06      2.948      0.003    2.57e+06    1.28e+07\n",
      "nuisance               9.272e+04   6.93e+04      1.337      0.182   -4.34e+04    2.29e+05\n",
      "condition               4.72e+04   2.83e+04      1.665      0.096   -8451.227    1.03e+05\n",
      "grade                 -3.742e+04   5916.409     -6.325      0.000    -4.9e+04   -2.58e+04\n",
      "sqft_garage             243.3606     92.080      2.643      0.008      62.583     424.138\n",
      "sqft_patio               93.6173     68.246      1.372      0.171     -40.367     227.602\n",
      "yr_built              -3851.2117   1317.557     -2.923      0.004   -6437.930   -1264.494\n",
      "heat_source_Gas        5.082e+04    6.6e+04      0.770      0.442   -7.88e+04     1.8e+05\n",
      "heat_source_Gas/Solar  5.552e+05   2.35e+05      2.361      0.018    9.35e+04    1.02e+06\n",
      "heat_source_Oil       -3.555e+05   2.93e+05     -1.214      0.225    -9.3e+05    2.19e+05\n",
      "sewer_system_PUBLIC    1.733e+05   6.18e+04      2.806      0.005    5.21e+04    2.95e+05\n",
      "==============================================================================\n",
      "Omnibus:                       15.451   Durbin-Watson:                   2.038\n",
      "Prob(Omnibus):                  0.000   Jarque-Bera (JB):               26.266\n",
      "Skew:                           0.121   Prob(JB):                     1.98e-06\n",
      "Kurtosis:                       3.894   Cond. No.                     1.38e+20\n",
      "==============================================================================\n",
      "\n",
      "Notes:\n",
      "[1] Standard Errors assume that the covariance matrix of the errors is correctly specified.\n",
      "[2] The smallest eigenvalue is 1.19e-29. This might indicate that there are\n",
      "strong multicollinearity problems or that the design matrix is singular.\n"
     ]
    }
   ],
   "source": [
    "greenbelt_model = sm.OLS(greenbelt_df[\"price\"], sm.add_constant(greenbelt_df[all_x]))\n",
    "greenbelt_results = greenbelt_model.fit()\n",
    "print(greenbelt_results.summary())"
   ]
  },
  {
   "cell_type": "markdown",
   "metadata": {},
   "source": [
    "Wow\n",
    "#### If we only look at properties on a greenbelt, we can explain 58 percent of the variability!\n",
    "(That's may be because there are not many greenbelt homes and they're somewhat similar.)"
   ]
  },
  {
   "cell_type": "code",
   "execution_count": 151,
   "metadata": {
    "ExecuteTime": {
     "end_time": "2023-07-14T16:51:25.274019Z",
     "start_time": "2023-07-14T16:51:25.247580Z"
    }
   },
   "outputs": [
    {
     "name": "stdout",
     "output_type": "stream",
     "text": [
      "                            OLS Regression Results                            \n",
      "==============================================================================\n",
      "Dep. Variable:                  price   R-squared:                       0.423\n",
      "Model:                            OLS   Adj. R-squared:                  0.422\n",
      "Method:                 Least Squares   F-statistic:                     230.1\n",
      "Date:                Fri, 14 Jul 2023   Prob (F-statistic):               0.00\n",
      "Time:                        12:51:25   Log-Likelihood:                -71908.\n",
      "No. Observations:                5032   AIC:                         1.438e+05\n",
      "Df Residuals:                    5015   BIC:                         1.440e+05\n",
      "Df Model:                          16                                         \n",
      "Covariance Type:            nonrobust                                         \n",
      "=========================================================================================\n",
      "                            coef    std err          t      P>|t|      [0.025      0.975]\n",
      "-----------------------------------------------------------------------------------------\n",
      "bedrooms              -4.993e+04   7250.551     -6.887      0.000   -6.41e+04   -3.57e+04\n",
      "bathrooms              4.982e+04   1.06e+04      4.700      0.000     2.9e+04    7.06e+04\n",
      "sqft_living             341.5898     11.567     29.532      0.000     318.914     364.265\n",
      "sqft_lot                  0.1046      0.092      1.135      0.256      -0.076       0.285\n",
      "floors                 7.018e+04    1.2e+04      5.847      0.000    4.66e+04    9.37e+04\n",
      "waterfront             1.689e+05   5.12e+04      3.301      0.001    6.86e+04    2.69e+05\n",
      "greenbelt              1.642e+05   6.55e+04      2.506      0.012    3.57e+04    2.93e+05\n",
      "nuisance               2.725e+06   4.46e+05      6.114      0.000    1.85e+06     3.6e+06\n",
      "condition              2.735e+04   8164.970      3.350      0.001    1.13e+04    4.34e+04\n",
      "grade                 -7372.2001   3896.638     -1.892      0.059    -1.5e+04     266.914\n",
      "sqft_garage              96.3849     26.688      3.611      0.000      44.064     148.706\n",
      "sqft_patio              126.5696     25.564      4.951      0.000      76.453     176.686\n",
      "yr_built              -1379.9239    228.728     -6.033      0.000   -1828.331    -931.517\n",
      "heat_source_Gas        7.213e+04   1.36e+04      5.288      0.000    4.54e+04    9.89e+04\n",
      "heat_source_Gas/Solar   -4.4e+04   9.84e+04     -0.447      0.655   -2.37e+05    1.49e+05\n",
      "heat_source_Oil        3.049e+04   1.92e+04      1.587      0.113   -7172.494    6.81e+04\n",
      "sewer_system_PUBLIC    1.772e+05   1.77e+04     10.003      0.000    1.42e+05    2.12e+05\n",
      "==============================================================================\n",
      "Omnibus:                      837.294   Durbin-Watson:                   1.969\n",
      "Prob(Omnibus):                  0.000   Jarque-Bera (JB):             2800.278\n",
      "Skew:                           0.832   Prob(JB):                         0.00\n",
      "Kurtosis:                       6.254   Cond. No.                     5.51e+06\n",
      "==============================================================================\n",
      "\n",
      "Notes:\n",
      "[1] Standard Errors assume that the covariance matrix of the errors is correctly specified.\n",
      "[2] The condition number is large, 5.51e+06. This might indicate that there are\n",
      "strong multicollinearity or other numerical problems.\n"
     ]
    }
   ],
   "source": [
    "nuisance_model = sm.OLS(nuisance_df[\"price\"], sm.add_constant(nuisance_df[all_x]))\n",
    "nuisance_results = nuisance_model.fit()\n",
    "print(nuisance_results.summary())"
   ]
  },
  {
   "cell_type": "markdown",
   "metadata": {},
   "source": [
    "# Condition and Grade"
   ]
  },
  {
   "cell_type": "markdown",
   "metadata": {},
   "source": [
    "Building more rooms or living rooms will be impractical. Can we at least give a recommendation to increase the condition and/or grade of the place?"
   ]
  },
  {
   "cell_type": "code",
   "execution_count": 152,
   "metadata": {
    "ExecuteTime": {
     "end_time": "2023-07-14T16:51:25.278970Z",
     "start_time": "2023-07-14T16:51:25.275206Z"
    },
    "scrolled": true
   },
   "outputs": [
    {
     "data": {
      "text/plain": [
       "0       60\n",
       "1      225\n",
       "2    17828\n",
       "3     7879\n",
       "4     3174\n",
       "Name: condition, dtype: int64"
      ]
     },
     "execution_count": 152,
     "metadata": {},
     "output_type": "execute_result"
    }
   ],
   "source": [
    "df[\"condition\"].value_counts(sort=False)"
   ]
  },
  {
   "cell_type": "markdown",
   "metadata": {},
   "source": []
  },
  {
   "cell_type": "code",
   "execution_count": 153,
   "metadata": {
    "ExecuteTime": {
     "end_time": "2023-07-14T16:51:25.283437Z",
     "start_time": "2023-07-14T16:51:25.280044Z"
    },
    "scrolled": false
   },
   "outputs": [
    {
     "data": {
      "text/plain": [
       "1     1302\n",
       "2        1\n",
       "3        9\n",
       "4       45\n",
       "5      381\n",
       "6     2832\n",
       "7    11654\n",
       "8     9316\n",
       "9     3626\n",
       "Name: grade, dtype: int64"
      ]
     },
     "execution_count": 153,
     "metadata": {},
     "output_type": "execute_result"
    }
   ],
   "source": [
    "df[\"grade\"].value_counts(sort=False)"
   ]
  },
  {
   "cell_type": "markdown",
   "metadata": {},
   "source": [
    "There are a weird amount of homes with a 2 or 3 grade. Maybe there's a bias in the people who assess homes? Or maybe the system is poorly constructed, such that the qualities needed to be a 2 or 3 aren't reasonable considering the way people/homes are?"
   ]
  },
  {
   "cell_type": "markdown",
   "metadata": {},
   "source": [
    "### Condition"
   ]
  },
  {
   "cell_type": "markdown",
   "metadata": {},
   "source": [
    "According to the website condition is related to things like \"painted surfaces, roofing, plumbing, and heating\"."
   ]
  },
  {
   "cell_type": "code",
   "execution_count": 154,
   "metadata": {
    "ExecuteTime": {
     "end_time": "2023-07-14T16:51:25.299607Z",
     "start_time": "2023-07-14T16:51:25.284462Z"
    },
    "scrolled": true
   },
   "outputs": [
    {
     "name": "stdout",
     "output_type": "stream",
     "text": [
      "0\n",
      "596.5 = mean in k\n",
      "565.0 = median in k\n",
      "num of houses 60\n",
      "\n",
      "\n",
      "1\n",
      "792.5 = mean in k\n",
      "662.0 = median in k\n",
      "num of houses 225\n",
      "change in mean in thousands 196.0\n",
      "mean change in % 32.9\n",
      "change in median in thousands 97.0\n",
      "median change in % 17.2\n",
      "\n",
      "\n",
      "2\n",
      "1004.0 = mean in k\n",
      "850.0 = median in k\n",
      "num of houses 17828\n",
      "change in mean in thousands 211.5\n",
      "mean change in % 26.7\n",
      "change in median in thousands 188.0\n",
      "median change in % 28.4\n",
      "\n",
      "\n",
      "3\n",
      "980.2 = mean in k\n",
      "850.0 = median in k\n",
      "num of houses 7879\n",
      "change in mean in thousands -23.8\n",
      "mean change in % -2.4\n",
      "change in median in thousands 0.0\n",
      "median change in % 0.0\n",
      "\n",
      "\n",
      "4\n",
      "1045.7 = mean in k\n",
      "890.0 = median in k\n",
      "num of houses 3174\n",
      "change in mean in thousands 65.5\n",
      "mean change in % 6.7\n",
      "change in median in thousands 40.0\n",
      "median change in % 4.7\n",
      "\n",
      "\n"
     ]
    }
   ],
   "source": [
    "prev_mean = 0\n",
    "prev_med = 0\n",
    "for i in range(5):\n",
    "    idf = df[df[\"condition\"] == i].copy()\n",
    "    print(i)\n",
    "    mean = idf.price.mean()\n",
    "    med = idf.price.median()\n",
    "    print((mean/1000).round(1), \"= mean in k\")\n",
    "    print((med/1000).round(1), \"= median in k\")\n",
    "    print(\"num of houses\", len(idf))\n",
    "    if i > 0:\n",
    "        print(\"change in mean in thousands\", ((mean-prev_mean)/1000).round(1))\n",
    "        print(\"mean change in %\", (((mean-prev_mean)/prev_mean)*100).round(1))\n",
    "        print(\"change in median in thousands\", ((med-prev_med)/1000).round(1))\n",
    "        print(\"median change in %\", (((med-prev_med)/prev_med)*100).round(1))\n",
    "    else:\n",
    "        pass\n",
    "    prev_mean = mean\n",
    "    prev_med = med\n",
    "    print(\"\\n\")"
   ]
  },
  {
   "cell_type": "markdown",
   "metadata": {},
   "source": [
    "There seems to be a general trend upward at the beginning that peters out."
   ]
  },
  {
   "cell_type": "code",
   "execution_count": 155,
   "metadata": {
    "ExecuteTime": {
     "end_time": "2023-07-14T16:51:25.361192Z",
     "start_time": "2023-07-14T16:51:25.300753Z"
    }
   },
   "outputs": [
    {
     "name": "stdout",
     "output_type": "stream",
     "text": [
      "                            OLS Regression Results                            \n",
      "==============================================================================\n",
      "Dep. Variable:                  price   R-squared:                       0.424\n",
      "Model:                            OLS   Adj. R-squared:                  0.424\n",
      "Method:                 Least Squares   F-statistic:                     784.4\n",
      "Date:                Fri, 14 Jul 2023   Prob (F-statistic):               0.00\n",
      "Time:                        12:51:25   Log-Likelihood:            -2.5930e+05\n",
      "No. Observations:               18113   AIC:                         5.186e+05\n",
      "Df Residuals:                   18095   BIC:                         5.188e+05\n",
      "Df Model:                          17                                         \n",
      "Covariance Type:            nonrobust                                         \n",
      "=========================================================================================\n",
      "                            coef    std err          t      P>|t|      [0.025      0.975]\n",
      "-----------------------------------------------------------------------------------------\n",
      "const                  4.487e+06   2.67e+05     16.820      0.000    3.96e+06    5.01e+06\n",
      "bedrooms              -6.608e+04   4298.316    -15.374      0.000   -7.45e+04   -5.77e+04\n",
      "bathrooms              7.131e+04   6051.611     11.783      0.000    5.94e+04    8.32e+04\n",
      "sqft_living             355.9899      6.336     56.183      0.000     343.570     368.410\n",
      "sqft_lot                  0.3032      0.053      5.668      0.000       0.198       0.408\n",
      "floors                  7.25e+04   6776.124     10.700      0.000    5.92e+04    8.58e+04\n",
      "waterfront             1.774e+05   2.91e+04      6.102      0.000     1.2e+05    2.34e+05\n",
      "greenbelt              1.294e+05   1.79e+04      7.208      0.000    9.42e+04    1.65e+05\n",
      "nuisance               2.195e+04   7938.912      2.765      0.006    6392.457    3.75e+04\n",
      "condition              6.852e+04    1.9e+04      3.602      0.000    3.12e+04    1.06e+05\n",
      "grade                 -2.209e+04   1804.625    -12.239      0.000   -2.56e+04   -1.86e+04\n",
      "sqft_garage              -3.4929     14.584     -0.240      0.811     -32.079      25.093\n",
      "sqft_patio              170.8619     14.896     11.470      0.000     141.664     200.060\n",
      "yr_built              -2238.8455    139.043    -16.102      0.000   -2511.383   -1966.308\n",
      "heat_source_Gas         2.18e+04   8036.584      2.712      0.007    6044.756    3.75e+04\n",
      "heat_source_Gas/Solar  1.543e+05   5.93e+04      2.600      0.009     3.8e+04    2.71e+05\n",
      "heat_source_Oil        2.771e+04   1.24e+04      2.239      0.025    3455.880     5.2e+04\n",
      "sewer_system_PUBLIC    1.157e+05   1.08e+04     10.750      0.000    9.46e+04    1.37e+05\n",
      "==============================================================================\n",
      "Omnibus:                     2460.347   Durbin-Watson:                   1.987\n",
      "Prob(Omnibus):                  0.000   Jarque-Bera (JB):             5983.056\n",
      "Skew:                           0.783   Prob(JB):                         0.00\n",
      "Kurtosis:                       5.339   Cond. No.                     5.65e+06\n",
      "==============================================================================\n",
      "\n",
      "Notes:\n",
      "[1] Standard Errors assume that the covariance matrix of the errors is correctly specified.\n",
      "[2] The condition number is large, 5.65e+06. This might indicate that there are\n",
      "strong multicollinearity or other numerical problems.\n"
     ]
    }
   ],
   "source": [
    "low_cond_df = df[df[\"condition\"]  < 3].copy()\n",
    "all_x = ['bedrooms', 'bathrooms', 'sqft_living', 'sqft_lot',\n",
    "       'floors', 'waterfront', 'greenbelt', 'nuisance', 'condition', 'grade',\n",
    "       'sqft_garage', 'sqft_patio', 'yr_built', 'heat_source_Gas',\n",
    "       'heat_source_Gas/Solar', 'heat_source_Oil', 'sewer_system_PUBLIC']\n",
    "y = low_cond_df[\"price\"]\n",
    "all_model = sm.OLS(y, sm.add_constant(low_cond_df[all_x]))\n",
    "all_results = all_model.fit()\n",
    "print(all_results.summary())"
   ]
  },
  {
   "cell_type": "code",
   "execution_count": 156,
   "metadata": {
    "ExecuteTime": {
     "end_time": "2023-07-14T16:51:25.376573Z",
     "start_time": "2023-07-14T16:51:25.362300Z"
    },
    "scrolled": true
   },
   "outputs": [
    {
     "name": "stdout",
     "output_type": "stream",
     "text": [
      "                            OLS Regression Results                            \n",
      "==============================================================================\n",
      "Dep. Variable:                  price   R-squared:                       0.004\n",
      "Model:                            OLS   Adj. R-squared:                  0.004\n",
      "Method:                 Least Squares   F-statistic:                     71.63\n",
      "Date:                Fri, 14 Jul 2023   Prob (F-statistic):           2.80e-17\n",
      "Time:                        12:51:25   Log-Likelihood:            -2.6427e+05\n",
      "No. Observations:               18113   AIC:                         5.285e+05\n",
      "Df Residuals:                   18111   BIC:                         5.286e+05\n",
      "Df Model:                           1                                         \n",
      "Covariance Type:            nonrobust                                         \n",
      "==============================================================================\n",
      "                 coef    std err          t      P>|t|      [0.025      0.975]\n",
      "------------------------------------------------------------------------------\n",
      "const        5.89e+05   4.87e+04     12.089      0.000    4.93e+05    6.84e+05\n",
      "condition   2.075e+05   2.45e+04      8.463      0.000    1.59e+05    2.56e+05\n",
      "==============================================================================\n",
      "Omnibus:                     3799.352   Durbin-Watson:                   1.993\n",
      "Prob(Omnibus):                  0.000   Jarque-Bera (JB):             7036.554\n",
      "Skew:                           1.317   Prob(JB):                         0.00\n",
      "Kurtosis:                       4.543   Cond. No.                         31.1\n",
      "==============================================================================\n",
      "\n",
      "Notes:\n",
      "[1] Standard Errors assume that the covariance matrix of the errors is correctly specified.\n"
     ]
    }
   ],
   "source": [
    "low_cond_df = df[df[\"condition\"]  < 3].copy()\n",
    "low_cond_model = sm.OLS(low_cond_df[\"price\"], \n",
    "                        sm.add_constant(low_cond_df[\"condition\"]))\n",
    "low_cond_results = low_cond_model.fit()\n",
    "print(low_cond_results.summary())"
   ]
  },
  {
   "cell_type": "markdown",
   "metadata": {},
   "source": [
    "Boo. There was a small uptick in explanatory power in the big model, but condition itself doesn't explain a lot."
   ]
  },
  {
   "cell_type": "markdown",
   "metadata": {},
   "source": [
    "### Grade"
   ]
  },
  {
   "cell_type": "markdown",
   "metadata": {},
   "source": [
    "According to the website, grade means: \"Represents the construction quality of improvements\""
   ]
  },
  {
   "cell_type": "code",
   "execution_count": 157,
   "metadata": {
    "ExecuteTime": {
     "end_time": "2023-07-14T16:51:25.397252Z",
     "start_time": "2023-07-14T16:51:25.378047Z"
    },
    "scrolled": true
   },
   "outputs": [
    {
     "name": "stdout",
     "output_type": "stream",
     "text": [
      "1\n",
      "1971.3 = mean in k\n",
      "2002.5 = median in k\n",
      "num of houses 1302\n",
      "\n",
      "\n",
      "2\n",
      "400.0 = mean in k\n",
      "400.0 = median in k\n",
      "num of houses 1\n",
      "change in mean in thousands -1571.3\n",
      "mean change in % -79.7\n",
      "change in median in thousands -1602.5\n",
      "median change in % -80.0\n",
      "\n",
      "\n",
      "3\n",
      "552.4 = mean in k\n",
      "435.0 = median in k\n",
      "num of houses 9\n",
      "change in mean in thousands 152.4\n",
      "mean change in % 38.1\n",
      "change in median in thousands 35.0\n",
      "median change in % 8.8\n",
      "\n",
      "\n",
      "4\n",
      "547.4 = mean in k\n",
      "458.0 = median in k\n",
      "num of houses 45\n",
      "change in mean in thousands -5.0\n",
      "mean change in % -0.9\n",
      "change in median in thousands 23.0\n",
      "median change in % 5.3\n",
      "\n",
      "\n",
      "5\n",
      "579.7 = mean in k\n",
      "500.0 = median in k\n",
      "num of houses 381\n",
      "change in mean in thousands 32.3\n",
      "mean change in % 5.9\n",
      "change in median in thousands 42.0\n",
      "median change in % 9.2\n",
      "\n",
      "\n",
      "6\n",
      "621.3 = mean in k\n",
      "571.1 = median in k\n",
      "num of houses 2832\n",
      "change in mean in thousands 41.6\n",
      "mean change in % 7.2\n",
      "change in median in thousands 71.1\n",
      "median change in % 14.2\n",
      "\n",
      "\n",
      "7\n",
      "810.1 = mean in k\n",
      "745.0 = median in k\n",
      "num of houses 11654\n",
      "change in mean in thousands 188.8\n",
      "mean change in % 30.4\n",
      "change in median in thousands 173.9\n",
      "median change in % 30.4\n",
      "\n",
      "\n",
      "8\n",
      "1051.2 = mean in k\n",
      "928.5 = median in k\n",
      "num of houses 9316\n",
      "change in mean in thousands 241.1\n",
      "mean change in % 29.8\n",
      "change in median in thousands 183.5\n",
      "median change in % 24.6\n",
      "\n",
      "\n",
      "9\n",
      "1474.0 = mean in k\n",
      "1400.0 = median in k\n",
      "num of houses 3626\n",
      "change in mean in thousands 422.9\n",
      "mean change in % 40.2\n",
      "change in median in thousands 471.5\n",
      "median change in % 50.8\n",
      "\n",
      "\n"
     ]
    }
   ],
   "source": [
    "prev_mean = 0\n",
    "prev_med = 0\n",
    "for i in range(9):\n",
    "    idf = df[df[\"grade\"] == i+1].copy()\n",
    "    print(i+1)\n",
    "    mean = idf.price.mean()\n",
    "    med = idf.price.median()\n",
    "    print((mean/1000).round(1), \"= mean in k\")\n",
    "    print((med/1000).round(1), \"= median in k\")\n",
    "    print(\"num of houses\", len(idf))\n",
    "    if i > 0:\n",
    "        print(\"change in mean in thousands\", ((mean-prev_mean)/1000).round(1))\n",
    "        print(\"mean change in %\", (((mean-prev_mean)/prev_mean)*100).round(1))\n",
    "        print(\"change in median in thousands\", ((med-prev_med)/1000).round(1))\n",
    "        print(\"median change in %\", (((med-prev_med)/prev_med)*100).round(1))\n",
    "    else:\n",
    "        pass\n",
    "    prev_mean = mean\n",
    "    prev_med = med\n",
    "    print(\"\\n\")"
   ]
  },
  {
   "cell_type": "markdown",
   "metadata": {},
   "source": [
    "Wow, we finally found something that makes sense.\n",
    "\n",
    "Weirdly, there are only ten houses with a grade of 2 or 3. And for some reason, the 1-graded homes are worth more than the highest ones in our whole sample? Let's try this again with those removed."
   ]
  },
  {
   "cell_type": "code",
   "execution_count": 158,
   "metadata": {
    "ExecuteTime": {
     "end_time": "2023-07-14T16:51:25.479621Z",
     "start_time": "2023-07-14T16:51:25.399107Z"
    },
    "scrolled": true
   },
   "outputs": [
    {
     "name": "stdout",
     "output_type": "stream",
     "text": [
      "                            OLS Regression Results                            \n",
      "==============================================================================\n",
      "Dep. Variable:                  price   R-squared:                       0.427\n",
      "Model:                            OLS   Adj. R-squared:                  0.426\n",
      "Method:                 Least Squares   F-statistic:                     1219.\n",
      "Date:                Fri, 14 Jul 2023   Prob (F-statistic):               0.00\n",
      "Time:                        12:51:25   Log-Likelihood:            -3.9573e+05\n",
      "No. Observations:               27854   AIC:                         7.915e+05\n",
      "Df Residuals:                   27836   BIC:                         7.916e+05\n",
      "Df Model:                          17                                         \n",
      "Covariance Type:            nonrobust                                         \n",
      "=========================================================================================\n",
      "                            coef    std err          t      P>|t|      [0.025      0.975]\n",
      "-----------------------------------------------------------------------------------------\n",
      "const                  6.669e+06   1.94e+05     34.348      0.000    6.29e+06    7.05e+06\n",
      "bedrooms              -3.827e+04   3128.483    -12.232      0.000   -4.44e+04   -3.21e+04\n",
      "bathrooms               5.58e+04   4469.752     12.485      0.000     4.7e+04    6.46e+04\n",
      "sqft_living             230.4466      5.133     44.895      0.000     220.386     240.508\n",
      "sqft_lot                  0.3968      0.042      9.504      0.000       0.315       0.479\n",
      "floors                 7020.0609   5064.119      1.386      0.166   -2905.862    1.69e+04\n",
      "waterfront             2.225e+05   2.02e+04     10.996      0.000    1.83e+05    2.62e+05\n",
      "greenbelt              1.215e+05    1.5e+04      8.116      0.000    9.21e+04    1.51e+05\n",
      "nuisance               1.154e+04   5776.223      1.998      0.046     217.991    2.29e+04\n",
      "condition              3.405e+04   3329.043     10.227      0.000    2.75e+04    4.06e+04\n",
      "grade                  2.032e+05   3539.355     57.403      0.000    1.96e+05     2.1e+05\n",
      "sqft_garage             -59.5674     10.414     -5.720      0.000     -79.980     -39.155\n",
      "sqft_patio               70.7463     10.640      6.649      0.000      49.891      91.601\n",
      "yr_built              -3991.2880    100.810    -39.592      0.000   -4188.881   -3793.695\n",
      "heat_source_Gas        1.098e+04   5640.239      1.947      0.052     -74.789     2.2e+04\n",
      "heat_source_Gas/Solar   2.14e+05   4.09e+04      5.230      0.000    1.34e+05    2.94e+05\n",
      "heat_source_Oil       -3986.4609   8685.409     -0.459      0.646    -2.1e+04     1.3e+04\n",
      "sewer_system_PUBLIC    1.004e+05   6994.904     14.352      0.000    8.67e+04    1.14e+05\n",
      "==============================================================================\n",
      "Omnibus:                     4548.182   Durbin-Watson:                   2.003\n",
      "Prob(Omnibus):                  0.000   Jarque-Bera (JB):            12082.544\n",
      "Skew:                           0.896   Prob(JB):                         0.00\n",
      "Kurtosis:                       5.683   Cond. No.                     5.18e+06\n",
      "==============================================================================\n",
      "\n",
      "Notes:\n",
      "[1] Standard Errors assume that the covariance matrix of the errors is correctly specified.\n",
      "[2] The condition number is large, 5.18e+06. This might indicate that there are\n",
      "strong multicollinearity or other numerical problems.\n"
     ]
    }
   ],
   "source": [
    "four_plus_g_df = df[df[\"grade\"] > 3].copy()\n",
    "all_x = ['bedrooms', 'bathrooms', 'sqft_living', 'sqft_lot',\n",
    "       'floors', 'waterfront', 'greenbelt', 'nuisance', 'condition', 'grade',\n",
    "       'sqft_garage', 'sqft_patio', 'yr_built', 'heat_source_Gas',\n",
    "       'heat_source_Gas/Solar', 'heat_source_Oil', 'sewer_system_PUBLIC']\n",
    "y = four_plus_g_df[\"price\"]\n",
    "all_model = sm.OLS(y, sm.add_constant(four_plus_g_df[all_x]))\n",
    "all_results = all_model.fit()\n",
    "print(all_results.summary())"
   ]
  },
  {
   "cell_type": "code",
   "execution_count": 159,
   "metadata": {
    "ExecuteTime": {
     "end_time": "2023-07-14T16:51:25.495508Z",
     "start_time": "2023-07-14T16:51:25.480672Z"
    },
    "scrolled": true
   },
   "outputs": [
    {
     "name": "stdout",
     "output_type": "stream",
     "text": [
      "                            OLS Regression Results                            \n",
      "==============================================================================\n",
      "Dep. Variable:                  price   R-squared:                       0.251\n",
      "Model:                            OLS   Adj. R-squared:                  0.251\n",
      "Method:                 Least Squares   F-statistic:                     9341.\n",
      "Date:                Fri, 14 Jul 2023   Prob (F-statistic):               0.00\n",
      "Time:                        12:51:25   Log-Likelihood:            -3.9945e+05\n",
      "No. Observations:               27854   AIC:                         7.989e+05\n",
      "Df Residuals:                   27852   BIC:                         7.989e+05\n",
      "Df Model:                           1                                         \n",
      "Covariance Type:            nonrobust                                         \n",
      "==============================================================================\n",
      "                 coef    std err          t      P>|t|      [0.025      0.975]\n",
      "------------------------------------------------------------------------------\n",
      "const      -1.006e+06   2.04e+04    -49.232      0.000   -1.05e+06   -9.66e+05\n",
      "grade       2.627e+05   2718.417     96.646      0.000    2.57e+05    2.68e+05\n",
      "==============================================================================\n",
      "Omnibus:                     4824.064   Durbin-Watson:                   2.010\n",
      "Prob(Omnibus):                  0.000   Jarque-Bera (JB):             9160.750\n",
      "Skew:                           1.076   Prob(JB):                         0.00\n",
      "Kurtosis:                       4.806   Cond. No.                         63.7\n",
      "==============================================================================\n",
      "\n",
      "Notes:\n",
      "[1] Standard Errors assume that the covariance matrix of the errors is correctly specified.\n"
     ]
    }
   ],
   "source": [
    "four_plus_model = sm.OLS(four_plus_g_df[\"price\"], \n",
    "                        sm.add_constant(four_plus_g_df[\"grade\"]))\n",
    "four_plus_results = four_plus_model.fit()\n",
    "print(four_plus_results.summary())"
   ]
  },
  {
   "cell_type": "markdown",
   "metadata": {},
   "source": [
    "At long last I can breathe a sigh of relief. I found a metric that explains a decent amount of the variability in price that can actually be actionable (unlike building a new bathroom or making a living room bigger).\n",
    "\n",
    "#### Every uptick in \"grade\" starting with the change from 3 to 4 accounts for about 200 thousand dollars in the home's value.\n",
    "\n",
    "Now that I have a metric to look at, let's see if the renovators should tailor their prices/advertising based on some qualities of the home."
   ]
  },
  {
   "cell_type": "markdown",
   "metadata": {},
   "source": [
    "## Exploring higher graded homes\n",
    "We'll only use the homes with a grade of 3 or more for this section."
   ]
  },
  {
   "cell_type": "markdown",
   "metadata": {},
   "source": [
    "If the greenbelt_df explains more variability, how much does condition matter when we filter out the low scores for condition in just the greenbelt adjacent homes?"
   ]
  },
  {
   "cell_type": "code",
   "execution_count": 160,
   "metadata": {
    "ExecuteTime": {
     "end_time": "2023-07-14T16:51:25.513983Z",
     "start_time": "2023-07-14T16:51:25.496818Z"
    },
    "scrolled": true
   },
   "outputs": [
    {
     "name": "stdout",
     "output_type": "stream",
     "text": [
      "                            OLS Regression Results                            \n",
      "==============================================================================\n",
      "Dep. Variable:                  price   R-squared:                       0.506\n",
      "Model:                            OLS   Adj. R-squared:                  0.493\n",
      "Method:                 Least Squares   F-statistic:                     39.80\n",
      "Date:                Fri, 14 Jul 2023   Prob (F-statistic):           4.07e-79\n",
      "Time:                        12:51:25   Log-Likelihood:                -8484.7\n",
      "No. Observations:                 599   AIC:                         1.700e+04\n",
      "Df Residuals:                     583   BIC:                         1.707e+04\n",
      "Df Model:                          15                                         \n",
      "Covariance Type:            nonrobust                                         \n",
      "=========================================================================================\n",
      "                            coef    std err          t      P>|t|      [0.025      0.975]\n",
      "-----------------------------------------------------------------------------------------\n",
      "bedrooms              -9.145e+04   2.38e+04     -3.847      0.000   -1.38e+05   -4.48e+04\n",
      "bathrooms              1.066e+05    3.8e+04      2.804      0.005    3.19e+04    1.81e+05\n",
      "sqft_living             326.7222     35.657      9.163      0.000     256.691     396.754\n",
      "sqft_lot                  1.0755      1.156      0.930      0.353      -1.196       3.347\n",
      "floors                 2.017e+04   4.17e+04      0.483      0.629   -6.18e+04    1.02e+05\n",
      "waterfront             5.611e-07   1.55e-07      3.616      0.000    2.56e-07    8.66e-07\n",
      "greenbelt              9.211e+06   2.55e+06      3.616      0.000    4.21e+06    1.42e+07\n",
      "nuisance               6.921e+04   7.04e+04      0.982      0.326   -6.92e+04    2.08e+05\n",
      "condition              5.918e+04   2.77e+04      2.136      0.033    4765.518    1.14e+05\n",
      "grade                  1.795e+05   2.37e+04      7.562      0.000    1.33e+05    2.26e+05\n",
      "sqft_garage              21.0653     96.536      0.218      0.827    -168.536     210.666\n",
      "sqft_patio               87.0379     70.923      1.227      0.220     -52.258     226.334\n",
      "yr_built              -5355.6249   1286.618     -4.163      0.000   -7882.595   -2828.655\n",
      "heat_source_Gas       -4.676e+04   6.24e+04     -0.749      0.454   -1.69e+05    7.59e+04\n",
      "heat_source_Gas/Solar  4.364e+05   2.12e+05      2.063      0.040    2.09e+04    8.52e+05\n",
      "heat_source_Oil       -2.707e+05   2.65e+05     -1.020      0.308   -7.92e+05     2.5e+05\n",
      "sewer_system_PUBLIC    3.463e+05   6.69e+04      5.180      0.000    2.15e+05    4.78e+05\n",
      "==============================================================================\n",
      "Omnibus:                       29.568   Durbin-Watson:                   1.900\n",
      "Prob(Omnibus):                  0.000   Jarque-Bera (JB):               58.593\n",
      "Skew:                           0.301   Prob(JB):                     1.89e-13\n",
      "Kurtosis:                       4.409   Cond. No.                     3.80e+19\n",
      "==============================================================================\n",
      "\n",
      "Notes:\n",
      "[1] Standard Errors assume that the covariance matrix of the errors is correctly specified.\n",
      "[2] The smallest eigenvalue is 1.25e-28. This might indicate that there are\n",
      "strong multicollinearity problems or that the design matrix is singular.\n"
     ]
    }
   ],
   "source": [
    "#combining the greenbelt with homes of grade 3 or more\n",
    "green_grade_df = greenbelt_df[greenbelt_df[\"grade\"] > 3]\n",
    "all_x = ['bedrooms', 'bathrooms', 'sqft_living', 'sqft_lot',\n",
    "       'floors', 'waterfront', 'greenbelt', 'nuisance', 'condition', 'grade',\n",
    "       'sqft_garage', 'sqft_patio', 'yr_built', 'heat_source_Gas',\n",
    "       'heat_source_Gas/Solar', 'heat_source_Oil', 'sewer_system_PUBLIC']\n",
    "y = green_grade_df[\"price\"]\n",
    "all_model = sm.OLS(y, sm.add_constant(green_grade_df[all_x]))\n",
    "all_results = all_model.fit()\n",
    "print(all_results.summary())"
   ]
  },
  {
   "cell_type": "markdown",
   "metadata": {},
   "source": [
    "It's still one of the strongest models I have, accounting for over 50% of the price."
   ]
  },
  {
   "cell_type": "code",
   "execution_count": 161,
   "metadata": {
    "ExecuteTime": {
     "end_time": "2023-07-14T16:51:25.517727Z",
     "start_time": "2023-07-14T16:51:25.515074Z"
    }
   },
   "outputs": [
    {
     "data": {
      "text/plain": [
       "599"
      ]
     },
     "execution_count": 161,
     "metadata": {},
     "output_type": "execute_result"
    }
   ],
   "source": [
    "len(green_grade_df)"
   ]
  },
  {
   "cell_type": "markdown",
   "metadata": {},
   "source": [
    "#### Every uptick in grade for a greenbelt home accounts for about 175k dollars in the price of a home.\n",
    "Although it's only for 599 homes, a far cry from the 30,000 homes we have in the large df."
   ]
  },
  {
   "cell_type": "markdown",
   "metadata": {},
   "source": [
    "What about waterfront adjacent homes?"
   ]
  },
  {
   "cell_type": "code",
   "execution_count": 162,
   "metadata": {
    "ExecuteTime": {
     "end_time": "2023-07-14T16:51:25.535202Z",
     "start_time": "2023-07-14T16:51:25.519159Z"
    },
    "scrolled": true
   },
   "outputs": [
    {
     "name": "stdout",
     "output_type": "stream",
     "text": [
      "                            OLS Regression Results                            \n",
      "==============================================================================\n",
      "Dep. Variable:                  price   R-squared:                       0.356\n",
      "Model:                            OLS   Adj. R-squared:                  0.328\n",
      "Method:                 Least Squares   F-statistic:                     12.52\n",
      "Date:                Fri, 14 Jul 2023   Prob (F-statistic):           2.75e-23\n",
      "Time:                        12:51:25   Log-Likelihood:                -4836.7\n",
      "No. Observations:                 332   AIC:                             9703.\n",
      "Df Residuals:                     317   BIC:                             9760.\n",
      "Df Model:                          14                                         \n",
      "Covariance Type:            nonrobust                                         \n",
      "=========================================================================================\n",
      "                            coef    std err          t      P>|t|      [0.025      0.975]\n",
      "-----------------------------------------------------------------------------------------\n",
      "bedrooms              -3.066e+04   3.79e+04     -0.808      0.420   -1.05e+05     4.4e+04\n",
      "bathrooms              5.828e+04   5.44e+04      1.072      0.285   -4.87e+04    1.65e+05\n",
      "sqft_living             193.5276     59.417      3.257      0.001      76.627     310.428\n",
      "sqft_lot                  0.2516      0.194      1.294      0.196      -0.131       0.634\n",
      "floors                -1.886e+04    6.9e+04     -0.273      0.785   -1.55e+05    1.17e+05\n",
      "waterfront             3.894e+06   2.65e+06      1.468      0.143   -1.32e+06    9.11e+06\n",
      "greenbelt             -2.047e-09   1.34e-09     -1.530      0.127   -4.68e-09    5.85e-10\n",
      "nuisance              -5.909e+04   8.09e+04     -0.730      0.466   -2.18e+05       1e+05\n",
      "condition              6014.0150   3.63e+04      0.166      0.869   -6.54e+04    7.74e+04\n",
      "grade                  1.468e+05   4.04e+04      3.634      0.000    6.73e+04    2.26e+05\n",
      "sqft_garage              23.2346    121.481      0.191      0.848    -215.777     262.246\n",
      "sqft_patio              -29.5547     93.002     -0.318      0.751    -212.535     153.425\n",
      "yr_built              -2184.6062   1386.975     -1.575      0.116   -4913.446     544.234\n",
      "heat_source_Gas        1.997e+04   7.08e+04      0.282      0.778   -1.19e+05    1.59e+05\n",
      "heat_source_Gas/Solar  -3.35e-09   2.28e-09     -1.468      0.143   -7.84e-09    1.14e-09\n",
      "heat_source_Oil       -2.104e+04   1.02e+05     -0.207      0.836   -2.21e+05    1.79e+05\n",
      "sewer_system_PUBLIC    2.618e+05   6.91e+04      3.788      0.000    1.26e+05    3.98e+05\n",
      "==============================================================================\n",
      "Omnibus:                       15.986   Durbin-Watson:                   1.985\n",
      "Prob(Omnibus):                  0.000   Jarque-Bera (JB):               17.062\n",
      "Skew:                           0.550   Prob(JB):                     0.000197\n",
      "Kurtosis:                       3.158   Cond. No.                     7.61e+24\n",
      "==============================================================================\n",
      "\n",
      "Notes:\n",
      "[1] Standard Errors assume that the covariance matrix of the errors is correctly specified.\n",
      "[2] The smallest eigenvalue is 1.58e-37. This might indicate that there are\n",
      "strong multicollinearity problems or that the design matrix is singular.\n"
     ]
    }
   ],
   "source": [
    "#combining the waterfront with homes of grade 3 or more\n",
    "water_grade_df = waterfront_df[waterfront_df[\"grade\"] > 3]\n",
    "all_x = ['bedrooms', 'bathrooms', 'sqft_living', 'sqft_lot',\n",
    "       'floors', 'waterfront', 'greenbelt', 'nuisance', 'condition', 'grade',\n",
    "       'sqft_garage', 'sqft_patio', 'yr_built', 'heat_source_Gas',\n",
    "       'heat_source_Gas/Solar', 'heat_source_Oil', 'sewer_system_PUBLIC']\n",
    "y = water_grade_df[\"price\"]\n",
    "all_model = sm.OLS(y, sm.add_constant(water_grade_df[all_x]))\n",
    "all_results = all_model.fit()\n",
    "print(all_results.summary())"
   ]
  },
  {
   "cell_type": "markdown",
   "metadata": {},
   "source": [
    "What about older homes vs newer ones?"
   ]
  },
  {
   "cell_type": "code",
   "execution_count": 163,
   "metadata": {
    "ExecuteTime": {
     "end_time": "2023-07-14T16:51:25.541524Z",
     "start_time": "2023-07-14T16:51:25.536317Z"
    },
    "scrolled": true
   },
   "outputs": [
    {
     "data": {
      "text/plain": [
       "count    27854.000000\n",
       "mean      1973.885187\n",
       "std         32.080933\n",
       "min       1900.000000\n",
       "25%       1952.000000\n",
       "50%       1976.000000\n",
       "75%       2002.000000\n",
       "max       2022.000000\n",
       "Name: yr_built, dtype: float64"
      ]
     },
     "execution_count": 163,
     "metadata": {},
     "output_type": "execute_result"
    }
   ],
   "source": [
    "four_plus_g_df[\"yr_built\"].describe()"
   ]
  },
  {
   "cell_type": "code",
   "execution_count": 164,
   "metadata": {
    "ExecuteTime": {
     "end_time": "2023-07-14T16:51:25.548964Z",
     "start_time": "2023-07-14T16:51:25.542551Z"
    }
   },
   "outputs": [],
   "source": [
    "newest_homes = four_plus_g_df[four_plus_g_df[\"yr_built\"] >= 2002]\n",
    "newish_homes = four_plus_g_df[(four_plus_g_df[\"yr_built\"] >= 1976) &\n",
    "                            (four_plus_g_df[\"yr_built\"] < 2002)]\n",
    "oldish_homes = four_plus_g_df[(four_plus_g_df[\"yr_built\"] >= 1952) &\n",
    "                           (four_plus_g_df[\"yr_built\"] < 1976)]\n",
    "oldest_homes = four_plus_g_df[four_plus_g_df[\"yr_built\"] < 1952]"
   ]
  },
  {
   "cell_type": "code",
   "execution_count": 165,
   "metadata": {
    "ExecuteTime": {
     "end_time": "2023-07-14T16:51:25.664823Z",
     "start_time": "2023-07-14T16:51:25.550055Z"
    },
    "scrolled": false
   },
   "outputs": [
    {
     "name": "stdout",
     "output_type": "stream",
     "text": [
      "2002 to 2022 \n",
      " 7121 number of homes                             OLS Regression Results                            \n",
      "==============================================================================\n",
      "Dep. Variable:                  price   R-squared:                       0.474\n",
      "Model:                            OLS   Adj. R-squared:                  0.473\n",
      "Method:                 Least Squares   F-statistic:                     376.3\n",
      "Date:                Fri, 14 Jul 2023   Prob (F-statistic):               0.00\n",
      "Time:                        12:51:25   Log-Likelihood:            -1.0095e+05\n",
      "No. Observations:                7121   AIC:                         2.019e+05\n",
      "Df Residuals:                    7103   BIC:                         2.021e+05\n",
      "Df Model:                          17                                         \n",
      "Covariance Type:            nonrobust                                         \n",
      "=========================================================================================\n",
      "                            coef    std err          t      P>|t|      [0.025      0.975]\n",
      "-----------------------------------------------------------------------------------------\n",
      "const                   9.77e+06   1.49e+06      6.545      0.000    6.84e+06    1.27e+07\n",
      "bedrooms              -6.107e+04   6732.287     -9.071      0.000   -7.43e+04   -4.79e+04\n",
      "bathrooms              8.791e+04   8748.287     10.048      0.000    7.08e+04    1.05e+05\n",
      "sqft_living             316.4229     10.256     30.852      0.000     296.318     336.528\n",
      "sqft_lot                  0.0175      0.143      0.122      0.903      -0.262       0.297\n",
      "floors                -1.418e+04   1.05e+04     -1.349      0.177   -3.48e+04    6424.946\n",
      "waterfront             1.007e+05   8.24e+04      1.222      0.222   -6.08e+04    2.62e+05\n",
      "greenbelt              1.407e+05   2.13e+04      6.604      0.000     9.9e+04    1.83e+05\n",
      "nuisance               5.993e+04   1.18e+04      5.061      0.000    3.67e+04    8.31e+04\n",
      "condition              5023.6812   2.05e+04      0.245      0.807   -3.52e+04    4.52e+04\n",
      "grade                   2.05e+05   7072.250     28.988      0.000    1.91e+05    2.19e+05\n",
      "sqft_garage            -223.1715     26.884     -8.301      0.000    -275.873    -170.470\n",
      "sqft_patio              178.3526     24.813      7.188      0.000     129.711     226.994\n",
      "yr_built              -5484.0382    740.063     -7.410      0.000   -6934.782   -4033.295\n",
      "heat_source_Gas       -2.842e+04   1.24e+04     -2.300      0.021   -5.26e+04   -4200.213\n",
      "heat_source_Gas/Solar  2.097e+05   7.69e+04      2.728      0.006    5.91e+04     3.6e+05\n",
      "heat_source_Oil       -2.585e+05   2.01e+05     -1.285      0.199   -6.53e+05    1.36e+05\n",
      "sewer_system_PUBLIC   -3.938e+04   3.11e+04     -1.265      0.206      -1e+05    2.16e+04\n",
      "==============================================================================\n",
      "Omnibus:                     1206.314   Durbin-Watson:                   1.987\n",
      "Prob(Omnibus):                  0.000   Jarque-Bera (JB):             3730.282\n",
      "Skew:                           0.874   Prob(JB):                         0.00\n",
      "Kurtosis:                       6.085   Cond. No.                     1.31e+07\n",
      "==============================================================================\n",
      "\n",
      "Notes:\n",
      "[1] Standard Errors assume that the covariance matrix of the errors is correctly specified.\n",
      "[2] The condition number is large, 1.31e+07. This might indicate that there are\n",
      "strong multicollinearity or other numerical problems.\n",
      "\n",
      " \n",
      "\n",
      "1976 to 2001 \n",
      " 6832 number of homes                             OLS Regression Results                            \n",
      "==============================================================================\n",
      "Dep. Variable:                  price   R-squared:                       0.391\n",
      "Model:                            OLS   Adj. R-squared:                  0.389\n",
      "Method:                 Least Squares   F-statistic:                     257.3\n",
      "Date:                Fri, 14 Jul 2023   Prob (F-statistic):               0.00\n",
      "Time:                        12:51:25   Log-Likelihood:                -97009.\n",
      "No. Observations:                6832   AIC:                         1.941e+05\n",
      "Df Residuals:                    6814   BIC:                         1.942e+05\n",
      "Df Model:                          17                                         \n",
      "Covariance Type:            nonrobust                                         \n",
      "=========================================================================================\n",
      "                            coef    std err          t      P>|t|      [0.025      0.975]\n",
      "-----------------------------------------------------------------------------------------\n",
      "const                  8.239e+06   1.38e+06      5.980      0.000    5.54e+06    1.09e+07\n",
      "bedrooms              -1.739e+04   7129.603     -2.439      0.015   -3.14e+04   -3409.343\n",
      "bathrooms              1.991e+04   1.04e+04      1.922      0.055    -399.056    4.02e+04\n",
      "sqft_living             197.4755     11.286     17.498      0.000     175.352     219.599\n",
      "sqft_lot                  0.2583      0.087      2.969      0.003       0.088       0.429\n",
      "floors                 4.865e+04   1.04e+04      4.691      0.000    2.83e+04     6.9e+04\n",
      "waterfront             1.479e+05   4.18e+04      3.534      0.000    6.59e+04     2.3e+05\n",
      "greenbelt              1.475e+05   2.39e+04      6.163      0.000    1.01e+05    1.94e+05\n",
      "nuisance               4.868e+04    1.4e+04      3.488      0.000    2.13e+04     7.6e+04\n",
      "condition              3.865e+04   6805.038      5.680      0.000    2.53e+04     5.2e+04\n",
      "grade                  2.094e+05   7708.307     27.163      0.000    1.94e+05    2.24e+05\n",
      "sqft_garage             -68.5247     21.502     -3.187      0.001    -110.676     -26.374\n",
      "sqft_patio               59.7607     18.529      3.225      0.001      23.438      96.083\n",
      "yr_built              -4783.8477    693.619     -6.897      0.000   -6143.558   -3424.137\n",
      "heat_source_Gas        4.078e+04   1.15e+04      3.550      0.000    1.83e+04    6.33e+04\n",
      "heat_source_Gas/Solar  3.268e+05   1.03e+05      3.166      0.002    1.24e+05    5.29e+05\n",
      "heat_source_Oil       -8.715e+04   1.36e+05     -0.642      0.521   -3.53e+05    1.79e+05\n",
      "sewer_system_PUBLIC    1949.0607   1.23e+04      0.159      0.874   -2.21e+04     2.6e+04\n",
      "==============================================================================\n",
      "Omnibus:                      640.005   Durbin-Watson:                   1.983\n",
      "Prob(Omnibus):                  0.000   Jarque-Bera (JB):             1079.305\n",
      "Skew:                           0.673   Prob(JB):                    4.28e-235\n",
      "Kurtosis:                       4.407   Cond. No.                     1.99e+07\n",
      "==============================================================================\n",
      "\n",
      "Notes:\n",
      "[1] Standard Errors assume that the covariance matrix of the errors is correctly specified.\n",
      "[2] The condition number is large, 1.99e+07. This might indicate that there are\n",
      "strong multicollinearity or other numerical problems.\n",
      "\n",
      " \n",
      "\n",
      "1952 to 1975 \n",
      " 7056 number of homes                             OLS Regression Results                            \n",
      "==============================================================================\n",
      "Dep. Variable:                  price   R-squared:                       0.390\n",
      "Model:                            OLS   Adj. R-squared:                  0.389\n",
      "Method:                 Least Squares   F-statistic:                     264.8\n",
      "Date:                Fri, 14 Jul 2023   Prob (F-statistic):               0.00\n",
      "Time:                        12:51:25   Log-Likelihood:            -1.0062e+05\n",
      "No. Observations:                7056   AIC:                         2.013e+05\n",
      "Df Residuals:                    7038   BIC:                         2.014e+05\n",
      "Df Model:                          17                                         \n",
      "Covariance Type:            nonrobust                                         \n",
      "=========================================================================================\n",
      "                            coef    std err          t      P>|t|      [0.025      0.975]\n",
      "-----------------------------------------------------------------------------------------\n",
      "const                  1.295e+07   1.58e+06      8.214      0.000    9.86e+06     1.6e+07\n",
      "bedrooms              -3.459e+04   6550.947     -5.279      0.000   -4.74e+04   -2.17e+04\n",
      "bathrooms              7.341e+04   9600.001      7.647      0.000    5.46e+04    9.22e+04\n",
      "sqft_living             182.7857     11.895     15.367      0.000     159.469     206.103\n",
      "sqft_lot                  0.5544      0.092      6.038      0.000       0.374       0.734\n",
      "floors                 3.337e+04   1.65e+04      2.024      0.043    1051.849    6.57e+04\n",
      "waterfront             2.387e+05   3.97e+04      6.018      0.000    1.61e+05    3.16e+05\n",
      "greenbelt              3.353e+04   4.56e+04      0.736      0.462   -5.58e+04    1.23e+05\n",
      "nuisance               -487.5349   1.23e+04     -0.040      0.968   -2.46e+04    2.36e+04\n",
      "condition              4.401e+04   6104.777      7.209      0.000     3.2e+04     5.6e+04\n",
      "grade                  2.212e+05   8382.473     26.387      0.000    2.05e+05    2.38e+05\n",
      "sqft_garage              -1.5730     20.211     -0.078      0.938     -41.193      38.047\n",
      "sqft_patio               56.8343     21.924      2.592      0.010      13.856      99.812\n",
      "yr_built              -7279.0974    805.474     -9.037      0.000   -8858.070   -5700.125\n",
      "heat_source_Gas       -4749.7201   1.24e+04     -0.384      0.701    -2.9e+04    1.95e+04\n",
      "heat_source_Gas/Solar  2.768e+05      9e+04      3.074      0.002       1e+05    4.53e+05\n",
      "heat_source_Oil       -7.438e+04   1.63e+04     -4.564      0.000   -1.06e+05   -4.24e+04\n",
      "sewer_system_PUBLIC    1.466e+05   1.17e+04     12.558      0.000    1.24e+05     1.7e+05\n",
      "==============================================================================\n",
      "Omnibus:                     1129.832   Durbin-Watson:                   2.010\n",
      "Prob(Omnibus):                  0.000   Jarque-Bera (JB):             2713.430\n",
      "Skew:                           0.908   Prob(JB):                         0.00\n",
      "Kurtosis:                       5.435   Cond. No.                     1.87e+07\n",
      "==============================================================================\n",
      "\n",
      "Notes:\n",
      "[1] Standard Errors assume that the covariance matrix of the errors is correctly specified.\n",
      "[2] The condition number is large, 1.87e+07. This might indicate that there are\n",
      "strong multicollinearity or other numerical problems.\n",
      "\n",
      " \n",
      "\n",
      "1900 to 1951 \n",
      " 6845 number of homes                             OLS Regression Results                            \n",
      "==============================================================================\n",
      "Dep. Variable:                  price   R-squared:                       0.492\n",
      "Model:                            OLS   Adj. R-squared:                  0.490\n",
      "Method:                 Least Squares   F-statistic:                     388.4\n",
      "Date:                Fri, 14 Jul 2023   Prob (F-statistic):               0.00\n",
      "Time:                        12:51:25   Log-Likelihood:                -96747.\n",
      "No. Observations:                6845   AIC:                         1.935e+05\n",
      "Df Residuals:                    6827   BIC:                         1.937e+05\n",
      "Df Model:                          17                                         \n",
      "Covariance Type:            nonrobust                                         \n",
      "=========================================================================================\n",
      "                            coef    std err          t      P>|t|      [0.025      0.975]\n",
      "-----------------------------------------------------------------------------------------\n",
      "const                  2.503e+06   5.72e+05      4.375      0.000    1.38e+06    3.62e+06\n",
      "bedrooms              -3.389e+04   5312.211     -6.379      0.000   -4.43e+04   -2.35e+04\n",
      "bathrooms              7.197e+04   8070.027      8.918      0.000    5.61e+04    8.78e+04\n",
      "sqft_living             178.6207     10.818     16.511      0.000     157.414     199.827\n",
      "sqft_lot                  0.4223      0.060      7.082      0.000       0.305       0.539\n",
      "floors                 4.909e+04   1.34e+04      3.675      0.000    2.29e+04    7.53e+04\n",
      "waterfront             2.766e+05   2.98e+04      9.272      0.000    2.18e+05    3.35e+05\n",
      "greenbelt              1.716e+05   1.36e+05      1.259      0.208   -9.57e+04    4.39e+05\n",
      "nuisance               -3.03e+04   9063.518     -3.343      0.001   -4.81e+04   -1.25e+04\n",
      "condition              2.978e+04   5235.869      5.687      0.000    1.95e+04       4e+04\n",
      "grade                  1.923e+05   6311.315     30.467      0.000     1.8e+05    2.05e+05\n",
      "sqft_garage              70.1828     27.850      2.520      0.012      15.588     124.778\n",
      "sqft_patio               57.1690     23.106      2.474      0.013      11.875     102.463\n",
      "yr_built              -1825.1048    292.992     -6.229      0.000   -2399.461   -1250.749\n",
      "heat_source_Gas        4.105e+04   1.07e+04      3.835      0.000    2.01e+04     6.2e+04\n",
      "heat_source_Gas/Solar  8.216e+04   6.49e+04      1.266      0.206   -4.51e+04    2.09e+05\n",
      "heat_source_Oil        2.578e+04   1.22e+04      2.105      0.035    1771.116    4.98e+04\n",
      "sewer_system_PUBLIC    1.542e+05   1.68e+04      9.173      0.000    1.21e+05    1.87e+05\n",
      "==============================================================================\n",
      "Omnibus:                     1438.889   Durbin-Watson:                   1.961\n",
      "Prob(Omnibus):                  0.000   Jarque-Bera (JB):             5801.916\n",
      "Skew:                           0.990   Prob(JB):                         0.00\n",
      "Kurtosis:                       7.052   Cond. No.                     1.02e+07\n",
      "==============================================================================\n",
      "\n",
      "Notes:\n",
      "[1] Standard Errors assume that the covariance matrix of the errors is correctly specified.\n",
      "[2] The condition number is large, 1.02e+07. This might indicate that there are\n",
      "strong multicollinearity or other numerical problems.\n",
      "\n",
      " \n",
      "\n"
     ]
    }
   ],
   "source": [
    "homes = [newest_homes, newish_homes, oldish_homes, oldest_homes]\n",
    "for home in homes:\n",
    "    model = sm.OLS(home[\"price\"], \n",
    "                        sm.add_constant(home[all_x]))\n",
    "    results = model.fit()\n",
    "    print(home[\"yr_built\"].min(), \"to\", home[\"yr_built\"].max(),\n",
    "          \"\\n\", len(home), \"number of homes\", results.summary())\n",
    "    print(\"\\n \\n\")"
   ]
  },
  {
   "cell_type": "markdown",
   "metadata": {
    "ExecuteTime": {
     "end_time": "2023-07-13T21:43:41.611858Z",
     "start_time": "2023-07-13T21:43:41.590905Z"
    }
   },
   "source": [
    "The oldest homes are a little less affected, but overall the pattern holds."
   ]
  },
  {
   "cell_type": "markdown",
   "metadata": {},
   "source": [
    "And what about by price?"
   ]
  },
  {
   "cell_type": "code",
   "execution_count": 166,
   "metadata": {
    "ExecuteTime": {
     "end_time": "2023-07-14T16:51:25.671891Z",
     "start_time": "2023-07-14T16:51:25.665886Z"
    },
    "scrolled": true
   },
   "outputs": [
    {
     "data": {
      "text/plain": [
       "count    2.785400e+04\n",
       "mean     9.543740e+05\n",
       "std      4.728969e+05\n",
       "min      2.736000e+04\n",
       "25%      6.300000e+05\n",
       "50%      8.250000e+05\n",
       "75%      1.191056e+06\n",
       "max      2.900000e+06\n",
       "Name: price, dtype: float64"
      ]
     },
     "execution_count": 166,
     "metadata": {},
     "output_type": "execute_result"
    }
   ],
   "source": [
    "four_plus_g_df[\"price\"].describe()"
   ]
  },
  {
   "cell_type": "code",
   "execution_count": 167,
   "metadata": {
    "ExecuteTime": {
     "end_time": "2023-07-14T16:51:25.688011Z",
     "start_time": "2023-07-14T16:51:25.682737Z"
    }
   },
   "outputs": [],
   "source": [
    "top_homes = four_plus_g_df[four_plus_g_df[\"price\"] >= 1191000]\n",
    "upper_homes = four_plus_g_df[(four_plus_g_df[\"price\"] >= 825000) &\n",
    "                            (four_plus_g_df[\"price\"] < 1191000)]\n",
    "lower_homes = four_plus_g_df[(four_plus_g_df[\"price\"] >= 630000) &\n",
    "                           (four_plus_g_df[\"price\"] < 825000)]\n",
    "bottom_homes = four_plus_g_df[four_plus_g_df[\"price\"] < 630000]"
   ]
  },
  {
   "cell_type": "code",
   "execution_count": 168,
   "metadata": {
    "ExecuteTime": {
     "end_time": "2023-07-14T16:51:25.809788Z",
     "start_time": "2023-07-14T16:51:25.692167Z"
    },
    "scrolled": false
   },
   "outputs": [
    {
     "name": "stdout",
     "output_type": "stream",
     "text": [
      "1191000.0 to 2900000.0 \n",
      " 6967 number of homes                             OLS Regression Results                            \n",
      "==============================================================================\n",
      "Dep. Variable:                  price   R-squared:                       0.189\n",
      "Model:                            OLS   Adj. R-squared:                  0.187\n",
      "Method:                 Least Squares   F-statistic:                     94.98\n",
      "Date:                Fri, 14 Jul 2023   Prob (F-statistic):          5.31e-299\n",
      "Time:                        12:51:25   Log-Likelihood:                -98765.\n",
      "No. Observations:                6967   AIC:                         1.976e+05\n",
      "Df Residuals:                    6949   BIC:                         1.977e+05\n",
      "Df Model:                          17                                         \n",
      "Covariance Type:            nonrobust                                         \n",
      "=========================================================================================\n",
      "                            coef    std err          t      P>|t|      [0.025      0.975]\n",
      "-----------------------------------------------------------------------------------------\n",
      "const                  2.544e+06   3.51e+05      7.245      0.000    1.86e+06    3.23e+06\n",
      "bedrooms              -2.306e+04   5506.407     -4.188      0.000   -3.39e+04   -1.23e+04\n",
      "bathrooms              1.433e+04   8046.911      1.781      0.075   -1446.146    3.01e+04\n",
      "sqft_living             162.5722      8.655     18.783      0.000     145.605     179.540\n",
      "sqft_lot                  0.2652      0.058      4.585      0.000       0.152       0.379\n",
      "floors                -3.781e+04   9664.263     -3.912      0.000   -5.68e+04   -1.89e+04\n",
      "waterfront             2.408e+05    3.1e+04      7.775      0.000     1.8e+05    3.01e+05\n",
      "greenbelt             -3.477e+04   2.18e+04     -1.594      0.111   -7.75e+04    7989.709\n",
      "nuisance              -2484.5409   1.13e+04     -0.219      0.826   -2.47e+04    1.97e+04\n",
      "condition              8544.7744   6438.039      1.327      0.184   -4075.748    2.12e+04\n",
      "grade                  1.023e+05   6957.453     14.709      0.000    8.87e+04    1.16e+05\n",
      "sqft_garage             -14.8542     19.109     -0.777      0.437     -52.314      22.606\n",
      "sqft_patio               49.9588     17.202      2.904      0.004      16.238      83.680\n",
      "yr_built              -1128.3545    180.703     -6.244      0.000   -1482.587    -774.122\n",
      "heat_source_Gas        5269.9516   1.31e+04      0.402      0.687   -2.04e+04    3.09e+04\n",
      "heat_source_Gas/Solar  6.485e+04   5.22e+04      1.242      0.214   -3.75e+04    1.67e+05\n",
      "heat_source_Oil        2.956e+04   2.06e+04      1.433      0.152   -1.09e+04       7e+04\n",
      "sewer_system_PUBLIC     1.48e+05   1.47e+04     10.065      0.000    1.19e+05    1.77e+05\n",
      "==============================================================================\n",
      "Omnibus:                     1059.925   Durbin-Watson:                   1.934\n",
      "Prob(Omnibus):                  0.000   Jarque-Bera (JB):             1693.442\n",
      "Skew:                           1.047   Prob(JB):                         0.00\n",
      "Kurtosis:                       4.205   Cond. No.                     6.81e+06\n",
      "==============================================================================\n",
      "\n",
      "Notes:\n",
      "[1] Standard Errors assume that the covariance matrix of the errors is correctly specified.\n",
      "[2] The condition number is large, 6.81e+06. This might indicate that there are\n",
      "strong multicollinearity or other numerical problems.\n",
      "\n",
      " \n",
      "\n",
      "825000.0 to 1190800.0 \n",
      " 7124 number of homes                             OLS Regression Results                            \n",
      "==============================================================================\n",
      "Dep. Variable:                  price   R-squared:                       0.045\n",
      "Model:                            OLS   Adj. R-squared:                  0.043\n",
      "Method:                 Least Squares   F-statistic:                     19.74\n",
      "Date:                Fri, 14 Jul 2023   Prob (F-statistic):           1.57e-59\n",
      "Time:                        12:51:25   Log-Likelihood:                -92091.\n",
      "No. Observations:                7124   AIC:                         1.842e+05\n",
      "Df Residuals:                    7106   BIC:                         1.843e+05\n",
      "Df Model:                          17                                         \n",
      "Covariance Type:            nonrobust                                         \n",
      "=========================================================================================\n",
      "                            coef    std err          t      P>|t|      [0.025      0.975]\n",
      "-----------------------------------------------------------------------------------------\n",
      "const                  1.817e+06   1.05e+05     17.373      0.000    1.61e+06    2.02e+06\n",
      "bedrooms                705.0180   1732.510      0.407      0.684   -2691.218    4101.254\n",
      "bathrooms              4094.5569   2382.031      1.719      0.086    -574.933    8764.046\n",
      "sqft_living              10.3363      2.816      3.670      0.000       4.815      15.857\n",
      "sqft_lot                  0.0559      0.023      2.420      0.016       0.011       0.101\n",
      "floors                -1560.7405   2728.565     -0.572      0.567   -6909.541    3788.060\n",
      "waterfront             4961.3199   1.14e+04      0.433      0.665   -1.75e+04    2.74e+04\n",
      "greenbelt              1.368e+04   7544.721      1.813      0.070   -1113.676    2.85e+04\n",
      "nuisance               1724.2822   3196.122      0.539      0.590   -4541.068    7989.632\n",
      "condition              7457.0424   1925.069      3.874      0.000    3683.333    1.12e+04\n",
      "grade                  2.254e+04   2128.193     10.591      0.000    1.84e+04    2.67e+04\n",
      "sqft_garage               1.1649      5.483      0.212      0.832      -9.583      11.913\n",
      "sqft_patio               19.5694      5.883      3.327      0.001       8.038      31.101\n",
      "yr_built               -551.1019     55.228     -9.979      0.000    -659.365    -442.839\n",
      "heat_source_Gas        1741.6255   3164.508      0.550      0.582   -4461.752    7945.004\n",
      "heat_source_Gas/Solar  5.211e+04   2.78e+04      1.875      0.061   -2378.238    1.07e+05\n",
      "heat_source_Oil       -5649.1909   4682.801     -1.206      0.228   -1.48e+04    3530.494\n",
      "sewer_system_PUBLIC    1.537e+04   4196.039      3.662      0.000    7140.470    2.36e+04\n",
      "==============================================================================\n",
      "Omnibus:                      991.759   Durbin-Watson:                   2.009\n",
      "Prob(Omnibus):                  0.000   Jarque-Bera (JB):              415.620\n",
      "Skew:                           0.405   Prob(JB):                     5.61e-91\n",
      "Kurtosis:                       2.138   Cond. No.                     5.25e+06\n",
      "==============================================================================\n",
      "\n",
      "Notes:\n",
      "[1] Standard Errors assume that the covariance matrix of the errors is correctly specified.\n",
      "[2] The condition number is large, 5.25e+06. This might indicate that there are\n",
      "strong multicollinearity or other numerical problems.\n",
      "\n",
      " \n",
      "\n",
      "630000.0 to 824999.0 \n",
      " 6831 number of homes                             OLS Regression Results                            \n",
      "==============================================================================\n",
      "Dep. Variable:                  price   R-squared:                       0.034\n",
      "Model:                            OLS   Adj. R-squared:                  0.031\n",
      "Method:                 Least Squares   F-statistic:                     14.01\n",
      "Date:                Fri, 14 Jul 2023   Prob (F-statistic):           3.10e-40\n",
      "Time:                        12:51:25   Log-Likelihood:                -84229.\n",
      "No. Observations:                6831   AIC:                         1.685e+05\n",
      "Df Residuals:                    6813   BIC:                         1.686e+05\n",
      "Df Model:                          17                                         \n",
      "Covariance Type:            nonrobust                                         \n",
      "=========================================================================================\n",
      "                            coef    std err          t      P>|t|      [0.025      0.975]\n",
      "-----------------------------------------------------------------------------------------\n",
      "const                  1.023e+06   6.84e+04     14.970      0.000    8.89e+05    1.16e+06\n",
      "bedrooms               -589.8401   1045.550     -0.564      0.573   -2639.444    1459.764\n",
      "bathrooms              2660.9348   1493.100      1.782      0.075    -266.008    5587.877\n",
      "sqft_living               7.8783      1.827      4.311      0.000       4.296      11.461\n",
      "sqft_lot                  0.0363      0.018      1.996      0.046       0.001       0.072\n",
      "floors                 1565.8576   1589.116      0.985      0.324   -1549.305    4681.020\n",
      "waterfront             4103.5159   7804.622      0.526      0.599   -1.12e+04    1.94e+04\n",
      "greenbelt              8880.3929   5731.040      1.550      0.121   -2354.236    2.01e+04\n",
      "nuisance               1976.7452   1772.027      1.116      0.265   -1496.981    5450.471\n",
      "condition             -1273.5841   1088.389     -1.170      0.242   -3407.167     859.999\n",
      "grade                  1.195e+04   1209.904      9.875      0.000    9576.355    1.43e+04\n",
      "sqft_garage             -14.2860      3.490     -4.093      0.000     -21.128      -7.444\n",
      "sqft_patio                4.5376      3.623      1.253      0.210      -2.564      11.639\n",
      "yr_built               -203.8815     36.241     -5.626      0.000    -274.924    -132.839\n",
      "heat_source_Gas       -1860.5374   1686.519     -1.103      0.270   -5166.641    1445.566\n",
      "heat_source_Gas/Solar -1.157e+04   1.74e+04     -0.664      0.507   -4.57e+04    2.26e+04\n",
      "heat_source_Oil        2957.6778   2669.607      1.108      0.268   -2275.585    8190.940\n",
      "sewer_system_PUBLIC    2547.9098   2310.642      1.103      0.270   -1981.671    7077.491\n",
      "==============================================================================\n",
      "Omnibus:                     2726.980   Durbin-Watson:                   2.022\n",
      "Prob(Omnibus):                  0.000   Jarque-Bera (JB):              345.429\n",
      "Skew:                           0.051   Prob(JB):                     9.80e-76\n",
      "Kurtosis:                       1.903   Cond. No.                     4.32e+06\n",
      "==============================================================================\n",
      "\n",
      "Notes:\n",
      "[1] Standard Errors assume that the covariance matrix of the errors is correctly specified.\n",
      "[2] The condition number is large, 4.32e+06. This might indicate that there are\n"
     ]
    },
    {
     "name": "stdout",
     "output_type": "stream",
     "text": [
      "strong multicollinearity or other numerical problems.\n",
      "\n",
      " \n",
      "\n",
      "27360.0 to 629999.0 \n",
      " 6932 number of homes                             OLS Regression Results                            \n",
      "==============================================================================\n",
      "Dep. Variable:                  price   R-squared:                       0.064\n",
      "Model:                            OLS   Adj. R-squared:                  0.062\n",
      "Method:                 Least Squares   F-statistic:                     27.78\n",
      "Date:                Fri, 14 Jul 2023   Prob (F-statistic):           1.87e-86\n",
      "Time:                        12:51:25   Log-Likelihood:                -90575.\n",
      "No. Observations:                6932   AIC:                         1.812e+05\n",
      "Df Residuals:                    6914   BIC:                         1.813e+05\n",
      "Df Model:                          17                                         \n",
      "Covariance Type:            nonrobust                                         \n",
      "=========================================================================================\n",
      "                            coef    std err          t      P>|t|      [0.025      0.975]\n",
      "-----------------------------------------------------------------------------------------\n",
      "const                 -3.169e+05   1.49e+05     -2.124      0.034   -6.09e+05   -2.45e+04\n",
      "bedrooms               1527.0205   2215.658      0.689      0.491   -2816.349    5870.390\n",
      "bathrooms              2.336e+04   3285.340      7.110      0.000    1.69e+04    2.98e+04\n",
      "sqft_living             -28.2190      4.469     -6.314      0.000     -36.980     -19.458\n",
      "sqft_lot                 -0.2050      0.043     -4.781      0.000      -0.289      -0.121\n",
      "floors                 8316.9681   3632.130      2.290      0.022    1196.878    1.54e+04\n",
      "waterfront             1.311e+04   1.49e+04      0.881      0.378   -1.61e+04    4.23e+04\n",
      "greenbelt              1.202e+04   1.68e+04      0.714      0.475    -2.1e+04     4.5e+04\n",
      "nuisance              -5929.5278   3710.855     -1.598      0.110   -1.32e+04    1344.888\n",
      "condition              1.366e+04   2008.161      6.801      0.000    9721.336    1.76e+04\n",
      "grade                  1.403e+04   2473.419      5.673      0.000    9183.844    1.89e+04\n",
      "sqft_garage               2.3609      7.436      0.317      0.751     -12.216      16.938\n",
      "sqft_patio               19.0123      8.297      2.291      0.022       2.748      35.277\n",
      "yr_built                331.2905     78.960      4.196      0.000     176.504     486.077\n",
      "heat_source_Gas        7416.5606   3306.106      2.243      0.025     935.577    1.39e+04\n",
      "heat_source_Gas/Solar -7687.8975   4.06e+04     -0.189      0.850   -8.73e+04    7.19e+04\n",
      "heat_source_Oil        1.346e+04   5070.768      2.655      0.008    3521.143    2.34e+04\n",
      "sewer_system_PUBLIC    4779.5482   3914.660      1.221      0.222   -2894.389    1.25e+04\n",
      "==============================================================================\n",
      "Omnibus:                     1858.708   Durbin-Watson:                   2.040\n",
      "Prob(Omnibus):                  0.000   Jarque-Bera (JB):             4496.254\n",
      "Skew:                          -1.488   Prob(JB):                         0.00\n",
      "Kurtosis:                       5.590   Cond. No.                     3.85e+06\n",
      "==============================================================================\n",
      "\n",
      "Notes:\n",
      "[1] Standard Errors assume that the covariance matrix of the errors is correctly specified.\n",
      "[2] The condition number is large, 3.85e+06. This might indicate that there are\n",
      "strong multicollinearity or other numerical problems.\n",
      "\n",
      " \n",
      "\n"
     ]
    }
   ],
   "source": [
    "homes = [top_homes, upper_homes, lower_homes, bottom_homes]\n",
    "for home in homes:\n",
    "    model = sm.OLS(home[\"price\"], \n",
    "                        sm.add_constant(home[all_x]))\n",
    "    results = model.fit()\n",
    "    print(home[\"price\"].min(), \"to\", home[\"price\"].max(),\n",
    "          \"\\n\", len(home), \"number of homes\", results.summary())\n",
    "    print(\"\\n \\n\")"
   ]
  },
  {
   "cell_type": "markdown",
   "metadata": {},
   "source": [
    "All of these models are hot garbage, I shouldn't take any information from these. What a surprise. The dataset did not like being drawn and quartered."
   ]
  },
  {
   "cell_type": "markdown",
   "metadata": {},
   "source": [
    "# Conclusion"
   ]
  },
  {
   "cell_type": "markdown",
   "metadata": {},
   "source": [
    "## Model summary\n",
    "My final model, built off of the four_plus_g_df, was able to explain 42.7% of the variability in homes' prices. This dataframe is the result after excluding homes whose values were more than 2 standard deviations above the mean, as well as excluding homes who had a \"grade\" of 3 or less. The first exclusion was in an effort to remove outliers, the second exclusion was to avoid multiple some oddities seen in the lower grade range. Ultimately, this means that the predictive power of this model is untested for homes that are valued over about 2 million dollars.\n",
    "\n",
    "I tested various subsets of data, and was able to discover a model that explained just over 50% of the variability in price. Unfortunately this covered only the ~600 homes with the \"greenbelt\" label."
   ]
  },
  {
   "cell_type": "markdown",
   "metadata": {},
   "source": [
    "## Recommendation to Stakeholder\n",
    "Excluding the currently inexplicable prices for homes with low conditions, it seems as though we can advise our renovation company that they should emphasize improving \"condition\". Every bump up in its score seems to correlate with a 200 thousand dollar increase in the value of a home.\n",
    "\n",
    "If it's feasible to do so, a bathroom installation would increase the value of a home potentially by 73,000 dollars."
   ]
  },
  {
   "cell_type": "markdown",
   "metadata": {},
   "source": [
    "## Next Steps\n",
    "Find out what causes the grade to be increased! The King's County website was unclear.\n",
    "\n",
    "To improve everyone's understanding of Kings County, improvements should be taken to determine what is causing this glut of homes with a condition of 1, and this dearth of homes with a condition of 2 and 3.\n",
    "\n",
    "Also, all of the models still could explain only but so much. The renovators should try and get their hands on some location data more useful than latitude and longitude, such as Zip Code for next time.\n",
    "\n",
    "I could have improved the information on bathrooms if I checked the price change from a whole number of bathrooms to an additional half-bathroom as well."
   ]
  }
 ],
 "metadata": {
  "kernelspec": {
   "display_name": "Python 3",
   "language": "python",
   "name": "python3"
  },
  "language_info": {
   "codemirror_mode": {
    "name": "ipython",
    "version": 3
   },
   "file_extension": ".py",
   "mimetype": "text/x-python",
   "name": "python",
   "nbconvert_exporter": "python",
   "pygments_lexer": "ipython3",
   "version": "3.8.5"
  },
  "toc": {
   "base_numbering": 1,
   "nav_menu": {},
   "number_sections": true,
   "sideBar": true,
   "skip_h1_title": false,
   "title_cell": "Table of Contents",
   "title_sidebar": "Contents",
   "toc_cell": false,
   "toc_position": {},
   "toc_section_display": true,
   "toc_window_display": false
  },
  "varInspector": {
   "cols": {
    "lenName": 16,
    "lenType": 16,
    "lenVar": 40
   },
   "kernels_config": {
    "python": {
     "delete_cmd_postfix": "",
     "delete_cmd_prefix": "del ",
     "library": "var_list.py",
     "varRefreshCmd": "print(var_dic_list())"
    },
    "r": {
     "delete_cmd_postfix": ") ",
     "delete_cmd_prefix": "rm(",
     "library": "var_list.r",
     "varRefreshCmd": "cat(var_dic_list()) "
    }
   },
   "types_to_exclude": [
    "module",
    "function",
    "builtin_function_or_method",
    "instance",
    "_Feature"
   ],
   "window_display": false
  }
 },
 "nbformat": 4,
 "nbformat_minor": 2
}
